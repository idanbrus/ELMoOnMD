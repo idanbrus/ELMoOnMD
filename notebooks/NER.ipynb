{
 "cells": [
  {
   "cell_type": "code",
   "execution_count": 1,
   "metadata": {
    "ExecuteTime": {
     "end_time": "2019-09-01T12:29:47.036265Z",
     "start_time": "2019-09-01T12:29:43.588618Z"
    },
    "pycharm": {
     "is_executing": false,
     "name": "#%%\n"
    }
   },
   "outputs": [],
   "source": [
    "%load_ext autoreload\n",
    "%autoreload 2\n",
    "\n",
    "import sys, os\n",
    "sys.path.append('../')\n",
    "from sklearn.model_selection import train_test_split\n",
    "from sklearn.metrics import classification_report\n",
    "\n",
    "from elmo_on_md.data_loaders.ner_loader import NERLoader\n",
    "from elmo_on_md.evaluation.model_loader import load_model\n",
    "from elmo_on_md.evaluation.named_entitiy_recognition import NER"
   ]
  },
  {
   "cell_type": "code",
   "execution_count": 2,
   "metadata": {
    "ExecuteTime": {
     "end_time": "2019-09-01T12:29:49.375808Z",
     "start_time": "2019-09-01T12:29:47.037265Z"
    }
   },
   "outputs": [],
   "source": [
    "pos_weight = 7\n",
    "random_state = 7\n",
    "\n",
    "ner_loader = NERLoader()\n",
    "data = ner_loader.load_data()\n",
    "train_set, test_set = train_test_split(data, test_size=0.2, random_state = random_state)"
   ]
  },
  {
   "cell_type": "markdown",
   "metadata": {},
   "source": [
    "### Original ELMo"
   ]
  },
  {
   "cell_type": "code",
   "execution_count": 4,
   "metadata": {
    "ExecuteTime": {
     "end_time": "2019-08-31T17:56:04.810800Z",
     "start_time": "2019-08-31T17:54:03.466382Z"
    },
    "pycharm": {
     "is_executing": true,
     "name": "#%%\n"
    },
    "scrolled": true
   },
   "outputs": [
    {
     "name": "stderr",
     "output_type": "stream",
     "text": [
      "2019-08-31 20:54:03,618 INFO: char embedding size: 2289\n",
      "2019-08-31 20:54:04,289 INFO: word embedding size: 189561\n",
      "2019-08-31 20:54:09,519 INFO: Model(\n",
      "  (token_embedder): ConvTokenEmbedder(\n",
      "    (word_emb_layer): EmbeddingLayer(\n",
      "      (embedding): Embedding(189561, 100, padding_idx=3)\n",
      "    )\n",
      "    (char_emb_layer): EmbeddingLayer(\n",
      "      (embedding): Embedding(2289, 50, padding_idx=2286)\n",
      "    )\n",
      "    (convolutions): ModuleList(\n",
      "      (0): Conv1d(50, 32, kernel_size=(1,), stride=(1,))\n",
      "      (1): Conv1d(50, 32, kernel_size=(2,), stride=(1,))\n",
      "      (2): Conv1d(50, 64, kernel_size=(3,), stride=(1,))\n",
      "      (3): Conv1d(50, 128, kernel_size=(4,), stride=(1,))\n",
      "      (4): Conv1d(50, 256, kernel_size=(5,), stride=(1,))\n",
      "      (5): Conv1d(50, 512, kernel_size=(6,), stride=(1,))\n",
      "      (6): Conv1d(50, 1024, kernel_size=(7,), stride=(1,))\n",
      "    )\n",
      "    (highways): Highway(\n",
      "      (_layers): ModuleList(\n",
      "        (0): Linear(in_features=2048, out_features=4096, bias=True)\n",
      "        (1): Linear(in_features=2048, out_features=4096, bias=True)\n",
      "      )\n",
      "    )\n",
      "    (projection): Linear(in_features=2148, out_features=512, bias=True)\n",
      "  )\n",
      "  (encoder): ElmobiLm(\n",
      "    (forward_layer_0): LstmCellWithProjection(\n",
      "      (input_linearity): Linear(in_features=512, out_features=16384, bias=False)\n",
      "      (state_linearity): Linear(in_features=512, out_features=16384, bias=True)\n",
      "      (state_projection): Linear(in_features=4096, out_features=512, bias=False)\n",
      "    )\n",
      "    (backward_layer_0): LstmCellWithProjection(\n",
      "      (input_linearity): Linear(in_features=512, out_features=16384, bias=False)\n",
      "      (state_linearity): Linear(in_features=512, out_features=16384, bias=True)\n",
      "      (state_projection): Linear(in_features=4096, out_features=512, bias=False)\n",
      "    )\n",
      "    (forward_layer_1): LstmCellWithProjection(\n",
      "      (input_linearity): Linear(in_features=512, out_features=16384, bias=False)\n",
      "      (state_linearity): Linear(in_features=512, out_features=16384, bias=True)\n",
      "      (state_projection): Linear(in_features=4096, out_features=512, bias=False)\n",
      "    )\n",
      "    (backward_layer_1): LstmCellWithProjection(\n",
      "      (input_linearity): Linear(in_features=512, out_features=16384, bias=False)\n",
      "      (state_linearity): Linear(in_features=512, out_features=16384, bias=True)\n",
      "      (state_projection): Linear(in_features=4096, out_features=512, bias=False)\n",
      "    )\n",
      "  )\n",
      ")\n",
      "2019-08-31 20:54:17,512 INFO: 42 batches, avg len: 21.0\n",
      "2019-08-31 20:54:20,978 INFO: Finished 1000 sentences.\n",
      "2019-08-31 20:54:24,447 INFO: Finished 2000 sentences.\n",
      "2019-08-31 20:54:30,627 INFO: 11 batches, avg len: 21.6\n"
     ]
    },
    {
     "name": "stdout",
     "output_type": "stream",
     "text": [
      "Epoch: 0\t Train Loss: 0.42872563004493713\t Validation Loss: 0.4142396152019501\n",
      "Epoch: 1\t Train Loss: 0.3087858259677887\t Validation Loss: 0.2704983055591583\n",
      "Epoch: 2\t Train Loss: 0.24886779487133026\t Validation Loss: 0.20035143196582794\n",
      "Epoch: 3\t Train Loss: 0.17772328853607178\t Validation Loss: 0.1681295782327652\n",
      "Epoch: 4\t Train Loss: 0.15167826414108276\t Validation Loss: 0.1561121791601181\n",
      "Epoch: 5\t Train Loss: 0.0848379135131836\t Validation Loss: 0.14658507704734802\n",
      "Epoch: 6\t Train Loss: 0.10155167430639267\t Validation Loss: 0.14034660160541534\n",
      "Epoch: 7\t Train Loss: 0.08674357086420059\t Validation Loss: 0.13875041902065277\n",
      "Epoch: 8\t Train Loss: 0.07598503679037094\t Validation Loss: 0.1436724066734314\n",
      "Epoch: 9\t Train Loss: 0.0571456141769886\t Validation Loss: 0.1422075778245926\n",
      "Epoch: 10\t Train Loss: 0.048719026148319244\t Validation Loss: 0.15055817365646362\n",
      "Epoch: 11\t Train Loss: 0.04883527383208275\t Validation Loss: 0.13898865878582\n",
      "Epoch: 12\t Train Loss: 0.0322318896651268\t Validation Loss: 0.15588314831256866\n",
      "Epoch: 13\t Train Loss: 0.028322849422693253\t Validation Loss: 0.17612707614898682\n",
      "Epoch: 14\t Train Loss: 0.028763413429260254\t Validation Loss: 0.1669667810201645\n",
      "Epoch: 15\t Train Loss: 0.03937363252043724\t Validation Loss: 0.2016664743423462\n",
      "Epoch: 16\t Train Loss: 0.03080759011209011\t Validation Loss: 0.19283851981163025\n",
      "Epoch: 17\t Train Loss: 0.04382024332880974\t Validation Loss: 0.1544489562511444\n",
      "Epoch: 18\t Train Loss: 0.03401508182287216\t Validation Loss: 0.16212418675422668\n",
      "Epoch: 19\t Train Loss: 0.02375616319477558\t Validation Loss: 0.16932527720928192\n",
      "Epoch: 20\t Train Loss: 0.022758852690458298\t Validation Loss: 0.19388236105442047\n",
      "Epoch: 21\t Train Loss: 0.018534688279032707\t Validation Loss: 0.20244204998016357\n",
      "Epoch: 22\t Train Loss: 0.010217919945716858\t Validation Loss: 0.21127541363239288\n",
      "Epoch: 23\t Train Loss: 0.008621457032859325\t Validation Loss: 0.24100837111473083\n",
      "Epoch: 24\t Train Loss: 0.023592311888933182\t Validation Loss: 0.21636533737182617\n",
      "Epoch: 25\t Train Loss: 0.006949388422071934\t Validation Loss: 0.2600579559803009\n",
      "Epoch: 26\t Train Loss: 0.005851023364812136\t Validation Loss: 0.2478482574224472\n",
      "Epoch: 27\t Train Loss: 0.004230878781527281\t Validation Loss: 0.22141681611537933\n",
      "Epoch: 28\t Train Loss: 0.0018310827435925603\t Validation Loss: 0.238749697804451\n",
      "Epoch: 29\t Train Loss: 0.015108530409634113\t Validation Loss: 0.25237178802490234\n",
      "Epoch: 30\t Train Loss: 0.002847702242434025\t Validation Loss: 0.3585335612297058\n",
      "Epoch: 31\t Train Loss: 0.008649708703160286\t Validation Loss: 0.2778373956680298\n",
      "Epoch: 32\t Train Loss: 0.0019079371122643352\t Validation Loss: 0.2752785086631775\n",
      "Epoch: 33\t Train Loss: 0.003762483596801758\t Validation Loss: 0.25044918060302734\n",
      "Epoch: 34\t Train Loss: 0.006102181505411863\t Validation Loss: 0.32096031308174133\n",
      "Epoch: 35\t Train Loss: 0.003825217019766569\t Validation Loss: 0.35904958844184875\n",
      "Epoch: 36\t Train Loss: 0.002001055283471942\t Validation Loss: 0.3740660846233368\n",
      "Epoch: 37\t Train Loss: 0.0026554379146546125\t Validation Loss: 0.3230232298374176\n",
      "Epoch: 38\t Train Loss: 0.002152741188183427\t Validation Loss: 0.3635847866535187\n",
      "Epoch: 39\t Train Loss: 0.005152552388608456\t Validation Loss: 0.39456433057785034\n",
      "Epoch: 40\t Train Loss: 0.004091267939656973\t Validation Loss: 0.42473912239074707\n",
      "Epoch: 41\t Train Loss: 0.0005013559712097049\t Validation Loss: 0.4019987881183624\n",
      "Epoch: 42\t Train Loss: 0.006404695101082325\t Validation Loss: 0.37107375264167786\n",
      "Epoch: 43\t Train Loss: 0.001729588839225471\t Validation Loss: 0.3639942705631256\n",
      "Epoch: 44\t Train Loss: 0.0013056921306997538\t Validation Loss: 0.30901002883911133\n",
      "Epoch: 45\t Train Loss: 0.002566032111644745\t Validation Loss: 0.2827858328819275\n",
      "Epoch: 46\t Train Loss: 0.0012322596739977598\t Validation Loss: 0.3113565742969513\n",
      "Epoch: 47\t Train Loss: 0.001309767714701593\t Validation Loss: 0.2827404737472534\n",
      "Epoch: 48\t Train Loss: 0.006899814121425152\t Validation Loss: 0.34433507919311523\n",
      "Epoch: 49\t Train Loss: 0.005597440525889397\t Validation Loss: 0.3857463300228119\n"
     ]
    },
    {
     "data": {
      "text/plain": [
       "<elmo_on_md.evaluation.named_entitiy_recognition.NER at 0x20195aa3940>"
      ]
     },
     "execution_count": 4,
     "metadata": {},
     "output_type": "execute_result"
    }
   ],
   "source": [
    "elmo = load_model('original')\n",
    "ner_model = NER(elmo, pos_weight=pos_weight)\n",
    "\n",
    "ner_model.train(train_set, test_set, ner_loader.types, n_epochs=50)"
   ]
  },
  {
   "cell_type": "code",
   "execution_count": 5,
   "metadata": {
    "ExecuteTime": {
     "end_time": "2019-08-31T17:56:09.350737Z",
     "start_time": "2019-08-31T17:56:04.812793Z"
    }
   },
   "outputs": [
    {
     "name": "stderr",
     "output_type": "stream",
     "text": [
      "2019-08-31 20:56:06,317 INFO: 11 batches, avg len: 21.6\n"
     ]
    },
    {
     "name": "stdout",
     "output_type": "stream",
     "text": [
      "              precision    recall  f1-score   support\n",
      "\n",
      "        PERS       0.88      0.89      0.88       406\n",
      "        MISC       0.65      0.63      0.64       186\n",
      "         LOC       0.75      0.72      0.74       342\n",
      "        TIME       0.83      0.29      0.43        17\n",
      "       MONEY       0.92      0.97      0.95       133\n",
      "        DATE       0.81      0.84      0.82       113\n",
      "     PERCENT       0.91      0.95      0.93        44\n",
      "         ORG       0.62      0.65      0.64       412\n",
      "\n",
      "   micro avg       0.76      0.76      0.76      1653\n",
      "   macro avg       0.80      0.74      0.75      1653\n",
      "weighted avg       0.76      0.76      0.76      1653\n",
      "\n"
     ]
    }
   ],
   "source": [
    "y_pred = ner_model.predict(test_set)\n",
    "y_true = ner_model._create_labels(test_set, y_pred.shape[1], ner_loader.types).to('cpu')\n",
    "desired_labels = range(len(ner_loader.types))\n",
    "report = classification_report(y_true.flatten(), y_pred.flatten(), labels=desired_labels,target_names=ner_loader.types)\n",
    "print(report)"
   ]
  },
  {
   "cell_type": "markdown",
   "metadata": {},
   "source": [
    "### The new Enhanced ELMo"
   ]
  },
  {
   "cell_type": "code",
   "execution_count": 3,
   "metadata": {
    "ExecuteTime": {
     "end_time": "2019-09-01T12:31:50.778465Z",
     "start_time": "2019-09-01T12:29:49.378796Z"
    }
   },
   "outputs": [
    {
     "name": "stderr",
     "output_type": "stream",
     "text": [
      "2019-09-01 15:29:59,356 INFO: 42 batches, avg len: 21.0\n",
      "2019-09-01 15:30:03,124 INFO: Finished 1000 sentences.\n",
      "2019-09-01 15:30:06,653 INFO: Finished 2000 sentences.\n",
      "2019-09-01 15:30:12,555 INFO: 11 batches, avg len: 21.6\n"
     ]
    },
    {
     "name": "stdout",
     "output_type": "stream",
     "text": [
      "Epoch: 0\t Train Loss: 0.4129904508590698\t Validation Loss: 0.3888172507286072\n",
      "Epoch: 1\t Train Loss: 0.3129417896270752\t Validation Loss: 0.29219964146614075\n",
      "Epoch: 2\t Train Loss: 0.25284793972969055\t Validation Loss: 0.22670434415340424\n",
      "Epoch: 3\t Train Loss: 0.20774218440055847\t Validation Loss: 0.19525742530822754\n",
      "Epoch: 4\t Train Loss: 0.1815802901983261\t Validation Loss: 0.18141847848892212\n",
      "Epoch: 5\t Train Loss: 0.14964720606803894\t Validation Loss: 0.16772224009037018\n",
      "Epoch: 6\t Train Loss: 0.14665023982524872\t Validation Loss: 0.1632736325263977\n",
      "Epoch: 7\t Train Loss: 0.14451821148395538\t Validation Loss: 0.1627836674451828\n",
      "Epoch: 8\t Train Loss: 0.07470446079969406\t Validation Loss: 0.15452244877815247\n",
      "Epoch: 9\t Train Loss: 0.0878874734044075\t Validation Loss: 0.15380635857582092\n",
      "Epoch: 10\t Train Loss: 0.05690300837159157\t Validation Loss: 0.16406579315662384\n",
      "Epoch: 11\t Train Loss: 0.06901171803474426\t Validation Loss: 0.17002391815185547\n",
      "Epoch: 12\t Train Loss: 0.044879619032144547\t Validation Loss: 0.16896522045135498\n",
      "Epoch: 13\t Train Loss: 0.044425588101148605\t Validation Loss: 0.15844467282295227\n",
      "Epoch: 14\t Train Loss: 0.06252308934926987\t Validation Loss: 0.16476377844810486\n",
      "Epoch: 15\t Train Loss: 0.056745171546936035\t Validation Loss: 0.15717686712741852\n",
      "Epoch: 16\t Train Loss: 0.05465339124202728\t Validation Loss: 0.17112910747528076\n",
      "Epoch: 17\t Train Loss: 0.037868499755859375\t Validation Loss: 0.19254031777381897\n",
      "Epoch: 18\t Train Loss: 0.03031207248568535\t Validation Loss: 0.1934984177350998\n",
      "Epoch: 19\t Train Loss: 0.02323666587471962\t Validation Loss: 0.18094448745250702\n",
      "Epoch: 20\t Train Loss: 0.018161719664931297\t Validation Loss: 0.19979268312454224\n",
      "Epoch: 21\t Train Loss: 0.0146715072914958\t Validation Loss: 0.23515728116035461\n",
      "Epoch: 22\t Train Loss: 0.029708901420235634\t Validation Loss: 0.22343312203884125\n",
      "Epoch: 23\t Train Loss: 0.011659190990030766\t Validation Loss: 0.24604842066764832\n",
      "Epoch: 24\t Train Loss: 0.010869204066693783\t Validation Loss: 0.3171817660331726\n",
      "Epoch: 25\t Train Loss: 0.017162315547466278\t Validation Loss: 0.2112167626619339\n",
      "Epoch: 26\t Train Loss: 0.01973588392138481\t Validation Loss: 0.20230445265769958\n",
      "Epoch: 27\t Train Loss: 0.020543057471513748\t Validation Loss: 0.2062031328678131\n",
      "Epoch: 28\t Train Loss: 0.01697363518178463\t Validation Loss: 0.21712471544742584\n",
      "Epoch: 29\t Train Loss: 0.010729821398854256\t Validation Loss: 0.21983268857002258\n",
      "Epoch: 30\t Train Loss: 0.007726285606622696\t Validation Loss: 0.23578092455863953\n",
      "Epoch: 31\t Train Loss: 0.01563761942088604\t Validation Loss: 0.22177669405937195\n",
      "Epoch: 32\t Train Loss: 0.01927679218351841\t Validation Loss: 0.2556019723415375\n",
      "Epoch: 33\t Train Loss: 0.01611386612057686\t Validation Loss: 0.2690892219543457\n",
      "Epoch: 34\t Train Loss: 0.01796751841902733\t Validation Loss: 0.26986756920814514\n",
      "Epoch: 35\t Train Loss: 0.00521471444517374\t Validation Loss: 0.27364492416381836\n",
      "Epoch: 36\t Train Loss: 0.008001510985195637\t Validation Loss: 0.2769235372543335\n",
      "Epoch: 37\t Train Loss: 0.0031318708788603544\t Validation Loss: 0.30015677213668823\n",
      "Epoch: 38\t Train Loss: 0.0044489456340670586\t Validation Loss: 0.34547317028045654\n",
      "Epoch: 39\t Train Loss: 0.00287854322232306\t Validation Loss: 0.3486706614494324\n",
      "Epoch: 40\t Train Loss: 0.006147482432425022\t Validation Loss: 0.36491575837135315\n",
      "Epoch: 41\t Train Loss: 0.016167230904102325\t Validation Loss: 0.3249625563621521\n",
      "Epoch: 42\t Train Loss: 0.002337242942303419\t Validation Loss: 0.33039653301239014\n",
      "Epoch: 43\t Train Loss: 0.0032368802931159735\t Validation Loss: 0.3289685845375061\n",
      "Epoch: 44\t Train Loss: 0.0011940723052248359\t Validation Loss: 0.4241175651550293\n",
      "Epoch: 45\t Train Loss: 0.004521279130131006\t Validation Loss: 0.38097286224365234\n",
      "Epoch: 46\t Train Loss: 0.0058108665980398655\t Validation Loss: 0.44518935680389404\n",
      "Epoch: 47\t Train Loss: 0.016319436952471733\t Validation Loss: 0.43056806921958923\n",
      "Epoch: 48\t Train Loss: 0.001632613013498485\t Validation Loss: 0.5234075784683228\n",
      "Epoch: 49\t Train Loss: 0.007117253262549639\t Validation Loss: 0.4216475188732147\n"
     ]
    },
    {
     "data": {
      "text/plain": [
       "<elmo_on_md.evaluation.named_entitiy_recognition.NER at 0x1fb146e6e48>"
      ]
     },
     "execution_count": 3,
     "metadata": {},
     "output_type": "execute_result"
    }
   ],
   "source": [
    "elmo = load_model('pos_weight8_lr-4_new_tags_30epochs')\n",
    "ner_model = NER(elmo, pos_weight=pos_weight)\n",
    "\n",
    "ner_model.train(train_set, test_set, ner_loader.types, n_epochs=50)"
   ]
  },
  {
   "cell_type": "code",
   "execution_count": 4,
   "metadata": {
    "ExecuteTime": {
     "end_time": "2019-09-01T12:31:55.241663Z",
     "start_time": "2019-09-01T12:31:50.780466Z"
    }
   },
   "outputs": [
    {
     "name": "stderr",
     "output_type": "stream",
     "text": [
      "2019-09-01 15:31:52,354 INFO: 11 batches, avg len: 21.6\n"
     ]
    },
    {
     "name": "stdout",
     "output_type": "stream",
     "text": [
      "              precision    recall  f1-score   support\n",
      "\n",
      "        PERS       0.86      0.89      0.87       406\n",
      "        MISC       0.69      0.51      0.58       186\n",
      "         LOC       0.77      0.70      0.73       342\n",
      "        TIME       1.00      0.06      0.11        17\n",
      "       MONEY       0.98      0.97      0.97       133\n",
      "        DATE       0.83      0.81      0.82       113\n",
      "     PERCENT       0.84      0.98      0.91        44\n",
      "         ORG       0.60      0.56      0.58       412\n",
      "\n",
      "   micro avg       0.77      0.72      0.74      1653\n",
      "   macro avg       0.82      0.68      0.70      1653\n",
      "weighted avg       0.76      0.72      0.74      1653\n",
      "\n"
     ]
    }
   ],
   "source": [
    "y_pred = ner_model.predict(test_set)\n",
    "y_true = ner_model._create_labels(test_set, y_pred.shape[1], ner_loader.types).to('cpu')\n",
    "desired_labels = range(len(ner_loader.types))\n",
    "report = classification_report(y_true.flatten(), y_pred.flatten(), labels=desired_labels,target_names=ner_loader.types)\n",
    "print(report)"
   ]
  }
 ],
 "metadata": {
  "kernelspec": {
   "display_name": "Python 3",
   "language": "python",
   "name": "python3"
  },
  "language_info": {
   "codemirror_mode": {
    "name": "ipython",
    "version": 3
   },
   "file_extension": ".py",
   "mimetype": "text/x-python",
   "name": "python",
   "nbconvert_exporter": "python",
   "pygments_lexer": "ipython3",
   "version": "3.6.8"
  },
  "pycharm": {
   "stem_cell": {
    "cell_type": "raw",
    "metadata": {
     "collapsed": false
    },
    "source": []
   }
  }
 },
 "nbformat": 4,
 "nbformat_minor": 1
}
