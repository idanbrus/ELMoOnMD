{
 "cells": [
  {
   "cell_type": "code",
   "execution_count": 9,
   "metadata": {
    "pycharm": {
     "is_executing": false,
     "name": "#%%\n"
    }
   },
   "outputs": [
    {
     "name": "stdout",
     "output_type": "stream",
     "text": [
      "The autoreload extension is already loaded. To reload it, use:\n",
      "  %reload_ext autoreload\n"
     ]
    }
   ],
   "source": [
    "%load_ext autoreload\n",
    "%autoreload 2\n",
    "\n",
    "import sys, os\n",
    "sys.path.append('../')\n",
    "from sklearn.model_selection import train_test_split\n",
    "\n",
    "from elmo_on_md.data_loaders.ner_loader import NERLoader\n",
    "from elmo_on_md.evaluation.model_loader import load_model\n",
    "from elmo_on_md.evaluation.named_entitiy_recognition import NER\n"
   ]
  },
  {
   "cell_type": "code",
   "execution_count": 10,
   "metadata": {},
   "outputs": [],
   "source": [
    "pos_weight = 7"
   ]
  },
  {
   "cell_type": "markdown",
   "metadata": {},
   "source": [
    "### Original ELMo"
   ]
  },
  {
   "cell_type": "code",
   "execution_count": 11,
   "metadata": {
    "pycharm": {
     "is_executing": true,
     "name": "#%%\n"
    },
    "scrolled": true
   },
   "outputs": [
    {
     "name": "stderr",
     "output_type": "stream",
     "text": [
      "2019-08-06 19:02:58,130 INFO: char embedding size: 2289\n",
      "2019-08-06 19:02:58,868 INFO: word embedding size: 189561\n",
      "2019-08-06 19:03:02,226 INFO: Model(\n",
      "  (token_embedder): ConvTokenEmbedder(\n",
      "    (word_emb_layer): EmbeddingLayer(\n",
      "      (embedding): Embedding(189561, 100, padding_idx=3)\n",
      "    )\n",
      "    (char_emb_layer): EmbeddingLayer(\n",
      "      (embedding): Embedding(2289, 50, padding_idx=2286)\n",
      "    )\n",
      "    (convolutions): ModuleList(\n",
      "      (0): Conv1d(50, 32, kernel_size=(1,), stride=(1,))\n",
      "      (1): Conv1d(50, 32, kernel_size=(2,), stride=(1,))\n",
      "      (2): Conv1d(50, 64, kernel_size=(3,), stride=(1,))\n",
      "      (3): Conv1d(50, 128, kernel_size=(4,), stride=(1,))\n",
      "      (4): Conv1d(50, 256, kernel_size=(5,), stride=(1,))\n",
      "      (5): Conv1d(50, 512, kernel_size=(6,), stride=(1,))\n",
      "      (6): Conv1d(50, 1024, kernel_size=(7,), stride=(1,))\n",
      "    )\n",
      "    (highways): Highway(\n",
      "      (_layers): ModuleList(\n",
      "        (0): Linear(in_features=2048, out_features=4096, bias=True)\n",
      "        (1): Linear(in_features=2048, out_features=4096, bias=True)\n",
      "      )\n",
      "    )\n",
      "    (projection): Linear(in_features=2148, out_features=512, bias=True)\n",
      "  )\n",
      "  (encoder): ElmobiLm(\n",
      "    (forward_layer_0): LstmCellWithProjection(\n",
      "      (input_linearity): Linear(in_features=512, out_features=16384, bias=False)\n",
      "      (state_linearity): Linear(in_features=512, out_features=16384, bias=True)\n",
      "      (state_projection): Linear(in_features=4096, out_features=512, bias=False)\n",
      "    )\n",
      "    (backward_layer_0): LstmCellWithProjection(\n",
      "      (input_linearity): Linear(in_features=512, out_features=16384, bias=False)\n",
      "      (state_linearity): Linear(in_features=512, out_features=16384, bias=True)\n",
      "      (state_projection): Linear(in_features=4096, out_features=512, bias=False)\n",
      "    )\n",
      "    (forward_layer_1): LstmCellWithProjection(\n",
      "      (input_linearity): Linear(in_features=512, out_features=16384, bias=False)\n",
      "      (state_linearity): Linear(in_features=512, out_features=16384, bias=True)\n",
      "      (state_projection): Linear(in_features=4096, out_features=512, bias=False)\n",
      "    )\n",
      "    (backward_layer_1): LstmCellWithProjection(\n",
      "      (input_linearity): Linear(in_features=512, out_features=16384, bias=False)\n",
      "      (state_linearity): Linear(in_features=512, out_features=16384, bias=True)\n",
      "      (state_projection): Linear(in_features=4096, out_features=512, bias=False)\n",
      "    )\n",
      "  )\n",
      ")\n"
     ]
    }
   ],
   "source": [
    "elmo = load_model('original')\n",
    "ner_model = NER(elmo, pos_weight=pos_weight)\n",
    "\n",
    "ner_loader = NERLoader()\n",
    "data = ner_loader.load_data()\n",
    "train_set, test_set = train_test_split(data, test_size=0.2)"
   ]
  },
  {
   "cell_type": "code",
   "execution_count": 12,
   "metadata": {
    "pycharm": {
     "is_executing": true,
     "name": "#%%\n"
    },
    "scrolled": true
   },
   "outputs": [
    {
     "name": "stderr",
     "output_type": "stream",
     "text": [
      "  0%|                                                                                           | 0/40 [00:00<?, ?it/s]2019-08-06 19:03:05,533 INFO: 1 batches, avg len: 18.8\n",
      "2019-08-06 19:03:06,186 INFO: 1 batches, avg len: 20.9\n",
      "2019-08-06 19:03:06,771 INFO: 1 batches, avg len: 21.5\n",
      "2019-08-06 19:03:07,494 INFO: 1 batches, avg len: 19.9\n",
      "2019-08-06 19:03:08,138 INFO: 1 batches, avg len: 21.7\n",
      "2019-08-06 19:03:09,286 INFO: 1 batches, avg len: 21.4\n",
      "2019-08-06 19:03:09,976 INFO: 1 batches, avg len: 20.3\n",
      "2019-08-06 19:03:10,578 INFO: 1 batches, avg len: 20.5\n",
      "2019-08-06 19:03:11,285 INFO: 1 batches, avg len: 21.3\n",
      "2019-08-06 19:03:11,932 INFO: 1 batches, avg len: 22.7\n",
      "2019-08-06 19:03:12,683 INFO: 1 batches, avg len: 21.8\n",
      "2019-08-06 19:03:13,377 INFO: 1 batches, avg len: 19.8\n",
      "2019-08-06 19:03:13,983 INFO: 1 batches, avg len: 21.1\n",
      "2019-08-06 19:03:14,726 INFO: 1 batches, avg len: 20.4\n",
      "2019-08-06 19:03:15,307 INFO: 1 batches, avg len: 20.8\n",
      "2019-08-06 19:03:15,903 INFO: 1 batches, avg len: 23.5\n",
      "2019-08-06 19:03:16,574 INFO: 1 batches, avg len: 21.8\n",
      "2019-08-06 19:03:17,434 INFO: 1 batches, avg len: 22.3\n",
      "2019-08-06 19:03:18,053 INFO: 1 batches, avg len: 21.4\n",
      "2019-08-06 19:03:18,703 INFO: 1 batches, avg len: 20.8\n",
      "2019-08-06 19:03:19,290 INFO: 1 batches, avg len: 20.9\n",
      "2019-08-06 19:03:20,470 INFO: 1 batches, avg len: 22.6\n",
      "2019-08-06 19:03:21,275 INFO: 1 batches, avg len: 23.0\n",
      "2019-08-06 19:03:21,906 INFO: 1 batches, avg len: 21.0\n",
      "2019-08-06 19:03:22,631 INFO: 1 batches, avg len: 21.5\n",
      "2019-08-06 19:03:23,380 INFO: 1 batches, avg len: 20.6\n",
      "2019-08-06 19:03:24,148 INFO: 1 batches, avg len: 21.9\n",
      "2019-08-06 19:03:24,697 INFO: 1 batches, avg len: 21.3\n",
      "2019-08-06 19:03:25,444 INFO: 1 batches, avg len: 19.5\n",
      "2019-08-06 19:03:26,120 INFO: 1 batches, avg len: 22.0\n",
      "2019-08-06 19:03:26,663 INFO: 1 batches, avg len: 19.2\n",
      "2019-08-06 19:03:27,232 INFO: 1 batches, avg len: 23.5\n",
      "2019-08-06 19:03:27,850 INFO: 1 batches, avg len: 19.8\n",
      "2019-08-06 19:03:28,618 INFO: 1 batches, avg len: 21.6\n",
      "2019-08-06 19:03:29,280 INFO: 1 batches, avg len: 21.4\n",
      "2019-08-06 19:03:29,857 INFO: 1 batches, avg len: 22.1\n",
      "2019-08-06 19:03:30,511 INFO: 1 batches, avg len: 20.8\n",
      "2019-08-06 19:03:31,149 INFO: 1 batches, avg len: 21.4\n",
      "2019-08-06 19:03:31,941 INFO: 1 batches, avg len: 21.2\n",
      "2019-08-06 19:03:32,942 INFO: 1 batches, avg len: 19.3\n",
      "2019-08-06 19:03:33,541 INFO: 1 batches, avg len: 21.3\n",
      "2019-08-06 19:03:34,084 INFO: 1 batches, avg len: 17.8\n",
      "100%|██████████████████████████████████████████████████████████████████████████████████| 40/40 [00:28<00:00,  1.38it/s]\n"
     ]
    },
    {
     "data": {
      "text/plain": [
       "<elmo_on_md.evaluation.named_entitiy_recognition.NER at 0x1699ade6da0>"
      ]
     },
     "execution_count": 12,
     "metadata": {},
     "output_type": "execute_result"
    }
   ],
   "source": [
    "ner_model.train(train_set, ner_loader.types, n_epochs=10)"
   ]
  },
  {
   "cell_type": "code",
   "execution_count": 13,
   "metadata": {},
   "outputs": [
    {
     "name": "stderr",
     "output_type": "stream",
     "text": [
      "2019-08-06 19:03:35,745 INFO: 11 batches, avg len: 20.8\n"
     ]
    },
    {
     "name": "stdout",
     "output_type": "stream",
     "text": [
      "              precision    recall  f1-score   support\n",
      "\n",
      "        PERS       0.78      0.87      0.83       456\n",
      "        MISC       0.36      0.58      0.45       211\n",
      "         LOC       0.53      0.67      0.59       291\n",
      "        TIME       0.00      0.00      0.00        11\n",
      "       MONEY       0.74      0.96      0.84       106\n",
      "        DATE       0.84      0.38      0.52       125\n",
      "     PERCENT       1.00      0.30      0.47        33\n",
      "         ORG       0.28      0.59      0.38       365\n",
      "\n",
      "   micro avg       0.50      0.68      0.58      1598\n",
      "   macro avg       0.57      0.54      0.51      1598\n",
      "weighted avg       0.57      0.68      0.60      1598\n",
      "\n"
     ]
    }
   ],
   "source": [
    "from sklearn.metrics import classification_report\n",
    "\n",
    "y_pred = ner_model.predict(test_set)\n",
    "y_true = ner_model._create_labels(test_set, y_pred.shape[1], ner_loader.types).to('cpu')\n",
    "desired_labels = range(len(ner_loader.types))\n",
    "report = classification_report(y_true, y_pred.flatten(), labels=desired_labels,target_names=ner_loader.types)\n",
    "print(report)"
   ]
  },
  {
   "cell_type": "markdown",
   "metadata": {},
   "source": [
    "### The new Enhanced ELMo"
   ]
  },
  {
   "cell_type": "code",
   "execution_count": 6,
   "metadata": {},
   "outputs": [],
   "source": [
    "elmo = load_model('pos_factor_30')\n",
    "ner_model = NER(elmo, pos_weight=pos_weight)"
   ]
  },
  {
   "cell_type": "code",
   "execution_count": 7,
   "metadata": {},
   "outputs": [
    {
     "name": "stderr",
     "output_type": "stream",
     "text": [
      "  0%|                                                                                           | 0/10 [00:00<?, ?it/s]2019-08-06 08:29:15,367 INFO: 1 batches, avg len: 21.0\n",
      "2019-08-06 08:29:16,023 INFO: 1 batches, avg len: 23.1\n",
      "2019-08-06 08:29:16,699 INFO: 1 batches, avg len: 20.4\n",
      "2019-08-06 08:29:17,412 INFO: 1 batches, avg len: 19.4\n",
      "2019-08-06 08:29:18,215 INFO: 1 batches, avg len: 22.2\n",
      "2019-08-06 08:29:18,844 INFO: 1 batches, avg len: 22.3\n",
      "2019-08-06 08:29:19,605 INFO: 1 batches, avg len: 20.1\n",
      "2019-08-06 08:29:20,269 INFO: 1 batches, avg len: 22.0\n",
      "2019-08-06 08:29:21,024 INFO: 1 batches, avg len: 20.8\n",
      "2019-08-06 08:29:21,664 INFO: 1 batches, avg len: 24.2\n",
      "2019-08-06 08:29:22,381 INFO: 1 batches, avg len: 20.3\n",
      "2019-08-06 08:29:23,017 INFO: 1 batches, avg len: 22.1\n",
      "2019-08-06 08:29:23,646 INFO: 1 batches, avg len: 20.7\n",
      "2019-08-06 08:29:24,342 INFO: 1 batches, avg len: 19.5\n",
      "2019-08-06 08:29:25,327 INFO: 1 batches, avg len: 21.2\n",
      "2019-08-06 08:29:25,964 INFO: 1 batches, avg len: 20.6\n",
      "2019-08-06 08:29:26,528 INFO: 1 batches, avg len: 21.6\n",
      "2019-08-06 08:29:27,174 INFO: 1 batches, avg len: 19.7\n",
      "2019-08-06 08:29:27,806 INFO: 1 batches, avg len: 20.8\n",
      "2019-08-06 08:29:28,441 INFO: 1 batches, avg len: 20.6\n",
      "2019-08-06 08:29:29,527 INFO: 1 batches, avg len: 19.4\n",
      "2019-08-06 08:29:30,161 INFO: 1 batches, avg len: 20.8\n",
      "2019-08-06 08:29:30,806 INFO: 1 batches, avg len: 20.2\n",
      "2019-08-06 08:29:31,433 INFO: 1 batches, avg len: 21.6\n",
      "2019-08-06 08:29:32,130 INFO: 1 batches, avg len: 20.6\n",
      "2019-08-06 08:29:32,688 INFO: 1 batches, avg len: 20.3\n",
      "2019-08-06 08:29:33,215 INFO: 1 batches, avg len: 19.8\n",
      "2019-08-06 08:29:33,832 INFO: 1 batches, avg len: 19.2\n",
      "2019-08-06 08:29:34,680 INFO: 1 batches, avg len: 19.3\n",
      "2019-08-06 08:29:35,212 INFO: 1 batches, avg len: 19.1\n",
      "2019-08-06 08:29:35,753 INFO: 1 batches, avg len: 20.5\n",
      "2019-08-06 08:29:36,280 INFO: 1 batches, avg len: 20.3\n",
      "2019-08-06 08:29:36,969 INFO: 1 batches, avg len: 22.0\n",
      "2019-08-06 08:29:37,761 INFO: 1 batches, avg len: 22.4\n",
      "2019-08-06 08:29:38,316 INFO: 1 batches, avg len: 20.5\n",
      "2019-08-06 08:29:38,905 INFO: 1 batches, avg len: 21.2\n",
      "2019-08-06 08:29:39,451 INFO: 1 batches, avg len: 19.8\n",
      "2019-08-06 08:29:40,014 INFO: 1 batches, avg len: 23.8\n",
      "2019-08-06 08:29:40,702 INFO: 1 batches, avg len: 21.6\n",
      "2019-08-06 08:29:41,414 INFO: 1 batches, avg len: 21.4\n",
      "2019-08-06 08:29:42,137 INFO: 1 batches, avg len: 21.8\n",
      "2019-08-06 08:29:42,591 INFO: 1 batches, avg len: 21.5\n",
      "100%|██████████████████████████████████████████████████████████████████████████████████| 10/10 [00:27<00:00,  2.77s/it]\n"
     ]
    },
    {
     "data": {
      "text/plain": [
       "<elmo_on_md.evaluation.named_entitiy_recognition.NER at 0x169998a4eb8>"
      ]
     },
     "execution_count": 7,
     "metadata": {},
     "output_type": "execute_result"
    }
   ],
   "source": [
    "ner_model.train(train_set, ner_loader.types, n_epochs=10)"
   ]
  },
  {
   "cell_type": "code",
   "execution_count": 8,
   "metadata": {},
   "outputs": [
    {
     "name": "stderr",
     "output_type": "stream",
     "text": [
      "2019-08-06 08:29:44,470 INFO: 11 batches, avg len: 21.7\n"
     ]
    },
    {
     "name": "stdout",
     "output_type": "stream",
     "text": [
      "              precision    recall  f1-score   support\n",
      "\n",
      "        PERS       0.65      0.92      0.76       442\n",
      "        MISC       0.63      0.28      0.38       214\n",
      "         LOC       0.49      0.53      0.51       385\n",
      "        TIME       0.00      0.00      0.00        18\n",
      "       MONEY       0.85      0.90      0.87        89\n",
      "        DATE       0.89      0.12      0.22       138\n",
      "     PERCENT       0.00      0.00      0.00        43\n",
      "         ORG       0.28      0.50      0.36       430\n",
      "\n",
      "   micro avg       0.49      0.56      0.52      1759\n",
      "   macro avg       0.47      0.40      0.39      1759\n",
      "weighted avg       0.53      0.56      0.50      1759\n",
      "\n"
     ]
    }
   ],
   "source": [
    "y_pred = ner_model.predict(test_set)\n",
    "y_true = ner_model._create_labels(test_set, y_pred.shape[1], ner_loader.types).to('cpu')\n",
    "desired_labels = range(len(ner_loader.types))\n",
    "report = classification_report(y_true, y_pred.flatten(), labels=desired_labels,target_names=ner_loader.types)\n",
    "print(report)"
   ]
  }
 ],
 "metadata": {
  "kernelspec": {
   "display_name": "Python 3",
   "language": "python",
   "name": "python3"
  },
  "language_info": {
   "codemirror_mode": {
    "name": "ipython",
    "version": 3
   },
   "file_extension": ".py",
   "mimetype": "text/x-python",
   "name": "python",
   "nbconvert_exporter": "python",
   "pygments_lexer": "ipython3",
   "version": "3.6.8"
  },
  "pycharm": {
   "stem_cell": {
    "cell_type": "raw",
    "metadata": {
     "collapsed": false
    },
    "source": []
   }
  }
 },
 "nbformat": 4,
 "nbformat_minor": 1
}
