{
 "cells": [
  {
   "cell_type": "code",
   "execution_count": 1,
   "metadata": {
    "ExecuteTime": {
     "end_time": "2019-08-18T19:12:40.530673Z",
     "start_time": "2019-08-18T19:12:37.152752Z"
    },
    "pycharm": {
     "is_executing": false,
     "name": "#%%\n"
    }
   },
   "outputs": [],
   "source": [
    "%load_ext autoreload\n",
    "%autoreload 2\n",
    "\n",
    "import sys, os\n",
    "sys.path.append('../')\n",
    "from sklearn.model_selection import train_test_split\n",
    "from sklearn.metrics import classification_report\n",
    "\n",
    "from elmo_on_md.data_loaders.ner_loader import NERLoader\n",
    "from elmo_on_md.evaluation.model_loader import load_model\n",
    "from elmo_on_md.evaluation.named_entitiy_recognition import NER"
   ]
  },
  {
   "cell_type": "code",
   "execution_count": 2,
   "metadata": {
    "ExecuteTime": {
     "end_time": "2019-08-18T19:12:42.922209Z",
     "start_time": "2019-08-18T19:12:40.531673Z"
    }
   },
   "outputs": [],
   "source": [
    "pos_weight = 7\n",
    "random_state = 7\n",
    "\n",
    "ner_loader = NERLoader()\n",
    "data = ner_loader.load_data()\n",
    "train_set, test_set = train_test_split(data, test_size=0.2, random_state = random_state)"
   ]
  },
  {
   "cell_type": "markdown",
   "metadata": {},
   "source": [
    "### Original ELMo"
   ]
  },
  {
   "cell_type": "code",
   "execution_count": 4,
   "metadata": {
    "ExecuteTime": {
     "end_time": "2019-08-18T19:16:49.114181Z",
     "start_time": "2019-08-18T19:14:48.933993Z"
    },
    "pycharm": {
     "is_executing": true,
     "name": "#%%\n"
    },
    "scrolled": true
   },
   "outputs": [
    {
     "name": "stderr",
     "output_type": "stream",
     "text": [
      "2019-08-18 22:14:48,975 INFO: char embedding size: 2289\n",
      "2019-08-18 22:14:49,632 INFO: word embedding size: 189561\n",
      "2019-08-18 22:14:52,557 INFO: Model(\n",
      "  (token_embedder): ConvTokenEmbedder(\n",
      "    (word_emb_layer): EmbeddingLayer(\n",
      "      (embedding): Embedding(189561, 100, padding_idx=3)\n",
      "    )\n",
      "    (char_emb_layer): EmbeddingLayer(\n",
      "      (embedding): Embedding(2289, 50, padding_idx=2286)\n",
      "    )\n",
      "    (convolutions): ModuleList(\n",
      "      (0): Conv1d(50, 32, kernel_size=(1,), stride=(1,))\n",
      "      (1): Conv1d(50, 32, kernel_size=(2,), stride=(1,))\n",
      "      (2): Conv1d(50, 64, kernel_size=(3,), stride=(1,))\n",
      "      (3): Conv1d(50, 128, kernel_size=(4,), stride=(1,))\n",
      "      (4): Conv1d(50, 256, kernel_size=(5,), stride=(1,))\n",
      "      (5): Conv1d(50, 512, kernel_size=(6,), stride=(1,))\n",
      "      (6): Conv1d(50, 1024, kernel_size=(7,), stride=(1,))\n",
      "    )\n",
      "    (highways): Highway(\n",
      "      (_layers): ModuleList(\n",
      "        (0): Linear(in_features=2048, out_features=4096, bias=True)\n",
      "        (1): Linear(in_features=2048, out_features=4096, bias=True)\n",
      "      )\n",
      "    )\n",
      "    (projection): Linear(in_features=2148, out_features=512, bias=True)\n",
      "  )\n",
      "  (encoder): ElmobiLm(\n",
      "    (forward_layer_0): LstmCellWithProjection(\n",
      "      (input_linearity): Linear(in_features=512, out_features=16384, bias=False)\n",
      "      (state_linearity): Linear(in_features=512, out_features=16384, bias=True)\n",
      "      (state_projection): Linear(in_features=4096, out_features=512, bias=False)\n",
      "    )\n",
      "    (backward_layer_0): LstmCellWithProjection(\n",
      "      (input_linearity): Linear(in_features=512, out_features=16384, bias=False)\n",
      "      (state_linearity): Linear(in_features=512, out_features=16384, bias=True)\n",
      "      (state_projection): Linear(in_features=4096, out_features=512, bias=False)\n",
      "    )\n",
      "    (forward_layer_1): LstmCellWithProjection(\n",
      "      (input_linearity): Linear(in_features=512, out_features=16384, bias=False)\n",
      "      (state_linearity): Linear(in_features=512, out_features=16384, bias=True)\n",
      "      (state_projection): Linear(in_features=4096, out_features=512, bias=False)\n",
      "    )\n",
      "    (backward_layer_1): LstmCellWithProjection(\n",
      "      (input_linearity): Linear(in_features=512, out_features=16384, bias=False)\n",
      "      (state_linearity): Linear(in_features=512, out_features=16384, bias=True)\n",
      "      (state_projection): Linear(in_features=4096, out_features=512, bias=False)\n",
      "    )\n",
      "  )\n",
      ")\n",
      "2019-08-18 22:14:59,876 INFO: 42 batches, avg len: 21.0\n",
      "2019-08-18 22:15:04,698 INFO: Finished 1000 sentences.\n",
      "2019-08-18 22:15:07,374 INFO: Finished 2000 sentences.\n",
      "2019-08-18 22:15:13,319 INFO: 11 batches, avg len: 21.6\n"
     ]
    },
    {
     "name": "stdout",
     "output_type": "stream",
     "text": [
      "Epoch: 0\t Train Loss: 0.49386438727378845\t Validation Loss: 0.47040244936943054\n",
      "Epoch: 1\t Train Loss: 0.33363011479377747\t Validation Loss: 0.3240669369697571\n",
      "Epoch: 2\t Train Loss: 0.24950233101844788\t Validation Loss: 0.2462989091873169\n",
      "Epoch: 3\t Train Loss: 0.19153957068920135\t Validation Loss: 0.20436379313468933\n",
      "Epoch: 4\t Train Loss: 0.15806785225868225\t Validation Loss: 0.17967559397220612\n",
      "Epoch: 5\t Train Loss: 0.13736461102962494\t Validation Loss: 0.16773423552513123\n",
      "Epoch: 6\t Train Loss: 0.09631436318159103\t Validation Loss: 0.16111132502555847\n",
      "Epoch: 7\t Train Loss: 0.10494866222143173\t Validation Loss: 0.15302500128746033\n",
      "Epoch: 8\t Train Loss: 0.06821033358573914\t Validation Loss: 0.1499902606010437\n",
      "Epoch: 9\t Train Loss: 0.07566400617361069\t Validation Loss: 0.1456720381975174\n",
      "Epoch: 10\t Train Loss: 0.07028806209564209\t Validation Loss: 0.14856599271297455\n",
      "Epoch: 11\t Train Loss: 0.054051682353019714\t Validation Loss: 0.14569585025310516\n",
      "Epoch: 12\t Train Loss: 0.04517841339111328\t Validation Loss: 0.1449311226606369\n",
      "Epoch: 13\t Train Loss: 0.05151980742812157\t Validation Loss: 0.13925060629844666\n",
      "Epoch: 14\t Train Loss: 0.03204789385199547\t Validation Loss: 0.16705089807510376\n",
      "Epoch: 15\t Train Loss: 0.035175856202840805\t Validation Loss: 0.15688373148441315\n",
      "Epoch: 16\t Train Loss: 0.03658941015601158\t Validation Loss: 0.15823134779930115\n",
      "Epoch: 17\t Train Loss: 0.03255658596754074\t Validation Loss: 0.15988732874393463\n",
      "Epoch: 18\t Train Loss: 0.02850506827235222\t Validation Loss: 0.15377989411354065\n",
      "Epoch: 19\t Train Loss: 0.0252517182379961\t Validation Loss: 0.17328785359859467\n",
      "Epoch: 20\t Train Loss: 0.025492537766695023\t Validation Loss: 0.17848792672157288\n",
      "Epoch: 21\t Train Loss: 0.03719155862927437\t Validation Loss: 0.15620523691177368\n",
      "Epoch: 22\t Train Loss: 0.03245075047016144\t Validation Loss: 0.15730507671833038\n",
      "Epoch: 23\t Train Loss: 0.029254218563437462\t Validation Loss: 0.15959593653678894\n",
      "Epoch: 24\t Train Loss: 0.0201730914413929\t Validation Loss: 0.15479391813278198\n",
      "Epoch: 25\t Train Loss: 0.014473605901002884\t Validation Loss: 0.16570419073104858\n",
      "Epoch: 26\t Train Loss: 0.02266567014157772\t Validation Loss: 0.16283969581127167\n",
      "Epoch: 27\t Train Loss: 0.013063235208392143\t Validation Loss: 0.17766287922859192\n",
      "Epoch: 28\t Train Loss: 0.014219813980162144\t Validation Loss: 0.18792228400707245\n",
      "Epoch: 29\t Train Loss: 0.011013880372047424\t Validation Loss: 0.2112857848405838\n",
      "Epoch: 30\t Train Loss: 0.013594222255051136\t Validation Loss: 0.20957334339618683\n",
      "Epoch: 31\t Train Loss: 0.01849464885890484\t Validation Loss: 0.2179120033979416\n",
      "Epoch: 32\t Train Loss: 0.010289950296282768\t Validation Loss: 0.2476050704717636\n",
      "Epoch: 33\t Train Loss: 0.004757943097501993\t Validation Loss: 0.24075624346733093\n",
      "Epoch: 34\t Train Loss: 0.008413417264819145\t Validation Loss: 0.21745416522026062\n",
      "Epoch: 35\t Train Loss: 0.007420982234179974\t Validation Loss: 0.215377539396286\n",
      "Epoch: 36\t Train Loss: 0.005135669372975826\t Validation Loss: 0.206504225730896\n",
      "Epoch: 37\t Train Loss: 0.007415636442601681\t Validation Loss: 0.23670631647109985\n",
      "Epoch: 38\t Train Loss: 0.002775898203253746\t Validation Loss: 0.20865677297115326\n",
      "Epoch: 39\t Train Loss: 0.00424231868237257\t Validation Loss: 0.22192129492759705\n",
      "Epoch: 40\t Train Loss: 0.002262806287035346\t Validation Loss: 0.21921227872371674\n",
      "Epoch: 41\t Train Loss: 0.008826575241982937\t Validation Loss: 0.2056933492422104\n",
      "Epoch: 42\t Train Loss: 0.003273754846304655\t Validation Loss: 0.22810278832912445\n",
      "Epoch: 43\t Train Loss: 0.00787370465695858\t Validation Loss: 0.21588975191116333\n",
      "Epoch: 44\t Train Loss: 0.0020861472003161907\t Validation Loss: 0.22334761917591095\n",
      "Epoch: 45\t Train Loss: 0.001437978819012642\t Validation Loss: 0.2723284661769867\n",
      "Epoch: 46\t Train Loss: 0.0029857209883630276\t Validation Loss: 0.27839770913124084\n",
      "Epoch: 47\t Train Loss: 0.0040106577798724174\t Validation Loss: 0.3056313693523407\n",
      "Epoch: 48\t Train Loss: 0.0035946595016866922\t Validation Loss: 0.2923305034637451\n",
      "Epoch: 49\t Train Loss: 0.0023133871145546436\t Validation Loss: 0.30123504996299744\n"
     ]
    },
    {
     "data": {
      "text/plain": [
       "<elmo_on_md.evaluation.named_entitiy_recognition.NER at 0x19a9fc9afd0>"
      ]
     },
     "execution_count": 4,
     "metadata": {},
     "output_type": "execute_result"
    }
   ],
   "source": [
    "elmo = load_model('original')\n",
    "ner_model = NER(elmo, pos_weight=pos_weight)\n",
    "\n",
    "ner_model.train(train_set, test_set, ner_loader.types, n_epochs=50)"
   ]
  },
  {
   "cell_type": "code",
   "execution_count": 5,
   "metadata": {
    "ExecuteTime": {
     "end_time": "2019-08-18T19:16:53.487155Z",
     "start_time": "2019-08-18T19:16:49.116181Z"
    }
   },
   "outputs": [
    {
     "name": "stderr",
     "output_type": "stream",
     "text": [
      "2019-08-18 22:16:50,641 INFO: 11 batches, avg len: 21.6\n"
     ]
    },
    {
     "name": "stdout",
     "output_type": "stream",
     "text": [
      "              precision    recall  f1-score   support\n",
      "\n",
      "        PERS       0.89      0.84      0.87       406\n",
      "        MISC       0.65      0.52      0.57       186\n",
      "         LOC       0.76      0.60      0.67       342\n",
      "        TIME       0.75      0.18      0.29        17\n",
      "       MONEY       1.00      0.95      0.97       133\n",
      "        DATE       0.88      0.74      0.81       113\n",
      "     PERCENT       0.89      0.91      0.90        44\n",
      "         ORG       0.56      0.62      0.59       412\n",
      "\n",
      "   micro avg       0.75      0.70      0.72      1653\n",
      "   macro avg       0.80      0.67      0.71      1653\n",
      "weighted avg       0.76      0.70      0.72      1653\n",
      "\n"
     ]
    }
   ],
   "source": [
    "y_pred = ner_model.predict(test_set)\n",
    "y_true = ner_model._create_labels(test_set, y_pred.shape[1], ner_loader.types).to('cpu')\n",
    "desired_labels = range(len(ner_loader.types))\n",
    "report = classification_report(y_true.flatten(), y_pred.flatten(), labels=desired_labels,target_names=ner_loader.types)\n",
    "print(report)"
   ]
  },
  {
   "cell_type": "markdown",
   "metadata": {},
   "source": [
    "### The new Enhanced ELMo"
   ]
  },
  {
   "cell_type": "code",
   "execution_count": 3,
   "metadata": {},
   "outputs": [
    {
     "name": "stderr",
     "output_type": "stream",
     "text": [
      "2019-08-17 21:54:06,723 INFO: 42 batches, avg len: 21.0\n",
      "2019-08-17 21:54:10,976 INFO: Finished 1000 sentences.\n",
      "2019-08-17 21:54:13,928 INFO: Finished 2000 sentences.\n",
      "2019-08-17 21:54:19,687 INFO: 11 batches, avg len: 21.6\n"
     ]
    },
    {
     "name": "stdout",
     "output_type": "stream",
     "text": [
      "Epoch: 0\t Train Loss: 0.4133738875389099\t Validation Loss: 0.3831273317337036\n",
      "Epoch: 1\t Train Loss: 0.26489901542663574\t Validation Loss: 0.2659037113189697\n",
      "Epoch: 2\t Train Loss: 0.2097492218017578\t Validation Loss: 0.21513010561466217\n",
      "Epoch: 3\t Train Loss: 0.13066917657852173\t Validation Loss: 0.19195672869682312\n",
      "Epoch: 4\t Train Loss: 0.11398670077323914\t Validation Loss: 0.17549945414066315\n",
      "Epoch: 5\t Train Loss: 0.11411567032337189\t Validation Loss: 0.1702551245689392\n",
      "Epoch: 6\t Train Loss: 0.08149869740009308\t Validation Loss: 0.16620494425296783\n",
      "Epoch: 7\t Train Loss: 0.08925852924585342\t Validation Loss: 0.15475761890411377\n",
      "Epoch: 8\t Train Loss: 0.07055612653493881\t Validation Loss: 0.15756797790527344\n",
      "Epoch: 9\t Train Loss: 0.0619855560362339\t Validation Loss: 0.15685847401618958\n",
      "Epoch: 10\t Train Loss: 0.0579092800617218\t Validation Loss: 0.15990108251571655\n",
      "Epoch: 11\t Train Loss: 0.039520014077425\t Validation Loss: 0.1642831563949585\n",
      "Epoch: 12\t Train Loss: 0.04038253426551819\t Validation Loss: 0.19390679895877838\n",
      "Epoch: 13\t Train Loss: 0.041390806436538696\t Validation Loss: 0.19445864856243134\n",
      "Epoch: 14\t Train Loss: 0.033224236220121384\t Validation Loss: 0.17197097837924957\n",
      "Epoch: 15\t Train Loss: 0.02825070545077324\t Validation Loss: 0.2270153909921646\n",
      "Epoch: 16\t Train Loss: 0.03145898878574371\t Validation Loss: 0.1962113082408905\n",
      "Epoch: 17\t Train Loss: 0.04723517596721649\t Validation Loss: 0.15227273106575012\n",
      "Epoch: 18\t Train Loss: 0.031564246863126755\t Validation Loss: 0.15151840448379517\n",
      "Epoch: 19\t Train Loss: 0.02592216432094574\t Validation Loss: 0.15885426104068756\n",
      "Epoch: 20\t Train Loss: 0.03203287720680237\t Validation Loss: 0.1620359569787979\n",
      "Epoch: 21\t Train Loss: 0.023243393748998642\t Validation Loss: 0.16833212971687317\n",
      "Epoch: 22\t Train Loss: 0.016896408051252365\t Validation Loss: 0.1826418936252594\n",
      "Epoch: 23\t Train Loss: 0.015012601390480995\t Validation Loss: 0.18609964847564697\n",
      "Epoch: 24\t Train Loss: 0.017416318878531456\t Validation Loss: 0.18573398888111115\n",
      "Epoch: 25\t Train Loss: 0.01360727846622467\t Validation Loss: 0.20062384009361267\n",
      "Epoch: 26\t Train Loss: 0.011607279069721699\t Validation Loss: 0.18722504377365112\n",
      "Epoch: 27\t Train Loss: 0.012035494670271873\t Validation Loss: 0.20287935435771942\n",
      "Epoch: 28\t Train Loss: 0.007856279611587524\t Validation Loss: 0.24702966213226318\n",
      "Epoch: 29\t Train Loss: 0.008130570873618126\t Validation Loss: 0.204219251871109\n",
      "Epoch: 30\t Train Loss: 0.005730495322495699\t Validation Loss: 0.22679932415485382\n",
      "Epoch: 31\t Train Loss: 0.006484688725322485\t Validation Loss: 0.26603779196739197\n",
      "Epoch: 32\t Train Loss: 0.0070147388614714146\t Validation Loss: 0.2734147310256958\n",
      "Epoch: 33\t Train Loss: 0.00669202720746398\t Validation Loss: 0.21828024089336395\n",
      "Epoch: 34\t Train Loss: 0.007862912490963936\t Validation Loss: 0.23028601706027985\n",
      "Epoch: 35\t Train Loss: 0.007334078196436167\t Validation Loss: 0.2307938188314438\n",
      "Epoch: 36\t Train Loss: 0.00898562092334032\t Validation Loss: 0.20845937728881836\n",
      "Epoch: 37\t Train Loss: 0.005988892633467913\t Validation Loss: 0.20910388231277466\n",
      "Epoch: 38\t Train Loss: 0.009200031869113445\t Validation Loss: 0.20956452190876007\n",
      "Epoch: 39\t Train Loss: 0.005365416407585144\t Validation Loss: 0.2063295990228653\n",
      "Epoch: 40\t Train Loss: 0.006146969273686409\t Validation Loss: 0.19975441694259644\n",
      "Epoch: 41\t Train Loss: 0.009876681491732597\t Validation Loss: 0.21537776291370392\n",
      "Epoch: 42\t Train Loss: 0.005627972073853016\t Validation Loss: 0.22617602348327637\n",
      "Epoch: 43\t Train Loss: 0.0036408461164683104\t Validation Loss: 0.24985699355602264\n",
      "Epoch: 44\t Train Loss: 0.0061698914505541325\t Validation Loss: 0.3067314326763153\n",
      "Epoch: 45\t Train Loss: 0.003438923740759492\t Validation Loss: 0.3078910708427429\n",
      "Epoch: 46\t Train Loss: 0.005906071979552507\t Validation Loss: 0.2968588173389435\n",
      "Epoch: 47\t Train Loss: 0.00342657626606524\t Validation Loss: 0.3032720386981964\n",
      "Epoch: 48\t Train Loss: 0.0017067290609702468\t Validation Loss: 0.30108609795570374\n",
      "Epoch: 49\t Train Loss: 0.0015959982993081212\t Validation Loss: 0.2971034348011017\n"
     ]
    },
    {
     "data": {
      "text/plain": [
       "<elmo_on_md.evaluation.named_entitiy_recognition.NER at 0x2024ac4a860>"
      ]
     },
     "execution_count": 3,
     "metadata": {},
     "output_type": "execute_result"
    }
   ],
   "source": [
    "elmo = load_model('pos_weight_8_lr_1e-5')\n",
    "ner_model = NER(elmo, pos_weight=pos_weight)\n",
    "\n",
    "ner_model.train(train_set, test_set, ner_loader.types, n_epochs=50)"
   ]
  },
  {
   "cell_type": "code",
   "execution_count": 4,
   "metadata": {},
   "outputs": [
    {
     "name": "stderr",
     "output_type": "stream",
     "text": [
      "2019-08-17 21:55:55,531 INFO: 11 batches, avg len: 21.6\n"
     ]
    },
    {
     "name": "stdout",
     "output_type": "stream",
     "text": [
      "              precision    recall  f1-score   support\n",
      "\n",
      "        PERS       0.85      0.87      0.86       406\n",
      "        MISC       0.60      0.51      0.55       186\n",
      "         LOC       0.69      0.75      0.72       342\n",
      "        TIME       1.00      0.12      0.21        17\n",
      "       MONEY       0.98      0.95      0.97       133\n",
      "        DATE       0.85      0.68      0.75       113\n",
      "     PERCENT       0.91      0.95      0.93        44\n",
      "         ORG       0.63      0.51      0.57       412\n",
      "\n",
      "   micro avg       0.75      0.70      0.73      1653\n",
      "   macro avg       0.81      0.67      0.69      1653\n",
      "weighted avg       0.75      0.70      0.72      1653\n",
      "\n"
     ]
    }
   ],
   "source": [
    "y_pred = ner_model.predict(test_set)\n",
    "y_true = ner_model._create_labels(test_set, y_pred.shape[1], ner_loader.types).to('cpu')\n",
    "desired_labels = range(len(ner_loader.types))\n",
    "report = classification_report(y_true.flatten(), y_pred.flatten(), labels=desired_labels,target_names=ner_loader.types)\n",
    "print(report)"
   ]
  }
 ],
 "metadata": {
  "kernelspec": {
   "display_name": "Python 3",
   "language": "python",
   "name": "python3"
  },
  "language_info": {
   "codemirror_mode": {
    "name": "ipython",
    "version": 3
   },
   "file_extension": ".py",
   "mimetype": "text/x-python",
   "name": "python",
   "nbconvert_exporter": "python",
   "pygments_lexer": "ipython3",
   "version": "3.6.8"
  },
  "pycharm": {
   "stem_cell": {
    "cell_type": "raw",
    "metadata": {
     "collapsed": false
    },
    "source": []
   }
  }
 },
 "nbformat": 4,
 "nbformat_minor": 1
}
