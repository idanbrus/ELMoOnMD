{
 "cells": [
  {
   "cell_type": "code",
   "execution_count": 10,
   "metadata": {
    "pycharm": {
     "is_executing": false,
     "name": "#%%\n"
    }
   },
   "outputs": [
    {
     "name": "stdout",
     "output_type": "stream",
     "text": [
      "The autoreload extension is already loaded. To reload it, use:\n",
      "  %reload_ext autoreload\n"
     ]
    }
   ],
   "source": [
    "%load_ext autoreload\n",
    "%autoreload 2\n",
    "\n",
    "import sys, os\n",
    "sys.path.append('../')\n",
    "from sklearn.model_selection import train_test_split\n",
    "from sklearn.metrics import classification_report\n",
    "\n",
    "from elmo_on_md.data_loaders.ner_loader import NERLoader\n",
    "from elmo_on_md.evaluation.model_loader import load_model\n",
    "from elmo_on_md.evaluation.named_entitiy_recognition import NER\n"
   ]
  },
  {
   "cell_type": "code",
   "execution_count": 3,
   "metadata": {},
   "outputs": [],
   "source": [
    "pos_weight = 7"
   ]
  },
  {
   "cell_type": "markdown",
   "metadata": {},
   "source": [
    "### Original ELMo"
   ]
  },
  {
   "cell_type": "code",
   "execution_count": 6,
   "metadata": {
    "pycharm": {
     "is_executing": true,
     "name": "#%%\n"
    },
    "scrolled": true
   },
   "outputs": [
    {
     "name": "stderr",
     "output_type": "stream",
     "text": [
      "2019-08-10 16:14:05,218 INFO: char embedding size: 2289\n",
      "2019-08-10 16:14:05,903 INFO: word embedding size: 189561\n",
      "2019-08-10 16:14:08,792 INFO: Model(\n",
      "  (token_embedder): ConvTokenEmbedder(\n",
      "    (word_emb_layer): EmbeddingLayer(\n",
      "      (embedding): Embedding(189561, 100, padding_idx=3)\n",
      "    )\n",
      "    (char_emb_layer): EmbeddingLayer(\n",
      "      (embedding): Embedding(2289, 50, padding_idx=2286)\n",
      "    )\n",
      "    (convolutions): ModuleList(\n",
      "      (0): Conv1d(50, 32, kernel_size=(1,), stride=(1,))\n",
      "      (1): Conv1d(50, 32, kernel_size=(2,), stride=(1,))\n",
      "      (2): Conv1d(50, 64, kernel_size=(3,), stride=(1,))\n",
      "      (3): Conv1d(50, 128, kernel_size=(4,), stride=(1,))\n",
      "      (4): Conv1d(50, 256, kernel_size=(5,), stride=(1,))\n",
      "      (5): Conv1d(50, 512, kernel_size=(6,), stride=(1,))\n",
      "      (6): Conv1d(50, 1024, kernel_size=(7,), stride=(1,))\n",
      "    )\n",
      "    (highways): Highway(\n",
      "      (_layers): ModuleList(\n",
      "        (0): Linear(in_features=2048, out_features=4096, bias=True)\n",
      "        (1): Linear(in_features=2048, out_features=4096, bias=True)\n",
      "      )\n",
      "    )\n",
      "    (projection): Linear(in_features=2148, out_features=512, bias=True)\n",
      "  )\n",
      "  (encoder): ElmobiLm(\n",
      "    (forward_layer_0): LstmCellWithProjection(\n",
      "      (input_linearity): Linear(in_features=512, out_features=16384, bias=False)\n",
      "      (state_linearity): Linear(in_features=512, out_features=16384, bias=True)\n",
      "      (state_projection): Linear(in_features=4096, out_features=512, bias=False)\n",
      "    )\n",
      "    (backward_layer_0): LstmCellWithProjection(\n",
      "      (input_linearity): Linear(in_features=512, out_features=16384, bias=False)\n",
      "      (state_linearity): Linear(in_features=512, out_features=16384, bias=True)\n",
      "      (state_projection): Linear(in_features=4096, out_features=512, bias=False)\n",
      "    )\n",
      "    (forward_layer_1): LstmCellWithProjection(\n",
      "      (input_linearity): Linear(in_features=512, out_features=16384, bias=False)\n",
      "      (state_linearity): Linear(in_features=512, out_features=16384, bias=True)\n",
      "      (state_projection): Linear(in_features=4096, out_features=512, bias=False)\n",
      "    )\n",
      "    (backward_layer_1): LstmCellWithProjection(\n",
      "      (input_linearity): Linear(in_features=512, out_features=16384, bias=False)\n",
      "      (state_linearity): Linear(in_features=512, out_features=16384, bias=True)\n",
      "      (state_projection): Linear(in_features=4096, out_features=512, bias=False)\n",
      "    )\n",
      "  )\n",
      ")\n"
     ]
    }
   ],
   "source": [
    "elmo = load_model('original')\n",
    "ner_model = NER(elmo, pos_weight=pos_weight)\n",
    "\n",
    "ner_loader = NERLoader()\n",
    "data = ner_loader.load_data()\n",
    "train_set, test_set = train_test_split(data, test_size=0.2)"
   ]
  },
  {
   "cell_type": "code",
   "execution_count": 4,
   "metadata": {
    "pycharm": {
     "is_executing": true,
     "name": "#%%\n"
    },
    "scrolled": true
   },
   "outputs": [
    {
     "name": "stderr",
     "output_type": "stream",
     "text": [
      "2019-08-10 16:11:28,779 INFO: 42 batches, avg len: 21.1\n",
      "2019-08-10 16:11:32,184 INFO: Finished 1000 sentences.\n",
      "2019-08-10 16:11:35,852 INFO: Finished 2000 sentences.\n",
      "2019-08-10 16:11:42,154 INFO: 11 batches, avg len: 21.0\n"
     ]
    },
    {
     "name": "stdout",
     "output_type": "stream",
     "text": [
      "Epoch: 0\t Train Loss: 0.44009220600128174\t Validation Loss: 0.4078238308429718\n",
      "Epoch: 1\t Train Loss: 0.263390451669693\t Validation Loss: 0.24798768758773804\n",
      "Epoch: 2\t Train Loss: 0.18455564975738525\t Validation Loss: 0.18591977655887604\n",
      "Epoch: 3\t Train Loss: 0.14358460903167725\t Validation Loss: 0.16115854680538177\n",
      "Epoch: 4\t Train Loss: 0.11507905274629593\t Validation Loss: 0.14806154370307922\n",
      "Epoch: 5\t Train Loss: 0.09379848092794418\t Validation Loss: 0.1416408121585846\n",
      "Epoch: 6\t Train Loss: 0.07475953549146652\t Validation Loss: 0.13818854093551636\n",
      "Epoch: 7\t Train Loss: 0.05891880765557289\t Validation Loss: 0.13678371906280518\n",
      "Epoch: 8\t Train Loss: 0.0503205843269825\t Validation Loss: 0.13715003430843353\n",
      "Epoch: 9\t Train Loss: 0.046089161187410355\t Validation Loss: 0.1476268619298935\n"
     ]
    },
    {
     "data": {
      "text/plain": [
       "<elmo_on_md.evaluation.named_entitiy_recognition.NER at 0x1a351ec70f0>"
      ]
     },
     "execution_count": 4,
     "metadata": {},
     "output_type": "execute_result"
    }
   ],
   "source": [
    "ner_model.train(train_set, test_set, ner_loader.types, n_epochs=10)"
   ]
  },
  {
   "cell_type": "code",
   "execution_count": 5,
   "metadata": {},
   "outputs": [
    {
     "name": "stderr",
     "output_type": "stream",
     "text": [
      "2019-08-10 16:12:03,720 INFO: 11 batches, avg len: 21.0\n"
     ]
    },
    {
     "name": "stdout",
     "output_type": "stream",
     "text": [
      "              precision    recall  f1-score   support\n",
      "\n",
      "        PERS       0.88      0.90      0.89       423\n",
      "        MISC       0.64      0.51      0.57       226\n",
      "         LOC       0.72      0.68      0.70       324\n",
      "        TIME       0.75      0.30      0.43        10\n",
      "       MONEY       0.93      0.95      0.94       121\n",
      "        DATE       0.81      0.70      0.75       137\n",
      "     PERCENT       0.83      0.94      0.88        31\n",
      "         ORG       0.50      0.75      0.60       423\n",
      "\n",
      "   micro avg       0.69      0.75      0.72      1695\n",
      "   macro avg       0.76      0.72      0.72      1695\n",
      "weighted avg       0.72      0.75      0.73      1695\n",
      "\n"
     ]
    }
   ],
   "source": [
    "\n",
    "y_pred = ner_model.predict(test_set)\n",
    "y_true = ner_model._create_labels(test_set, y_pred.shape[1], ner_loader.types).to('cpu')\n",
    "desired_labels = range(len(ner_loader.types))\n",
    "report = classification_report(y_true.flatten(), y_pred.flatten(), labels=desired_labels,target_names=ner_loader.types)\n",
    "print(report)"
   ]
  },
  {
   "cell_type": "markdown",
   "metadata": {},
   "source": [
    "### The new Enhanced ELMo"
   ]
  },
  {
   "cell_type": "code",
   "execution_count": 7,
   "metadata": {},
   "outputs": [],
   "source": [
    "elmo = load_model('BiLSTM_pos_weight_8')\n",
    "ner_model = NER(elmo, pos_weight=pos_weight)"
   ]
  },
  {
   "cell_type": "code",
   "execution_count": 8,
   "metadata": {},
   "outputs": [
    {
     "name": "stderr",
     "output_type": "stream",
     "text": [
      "2019-08-10 16:14:18,141 INFO: 42 batches, avg len: 21.1\n",
      "2019-08-10 16:14:21,586 INFO: Finished 1000 sentences.\n",
      "2019-08-10 16:14:25,692 INFO: Finished 2000 sentences.\n",
      "2019-08-10 16:14:31,700 INFO: 11 batches, avg len: 21.2\n"
     ]
    },
    {
     "name": "stdout",
     "output_type": "stream",
     "text": [
      "Epoch: 0\t Train Loss: 0.4411655366420746\t Validation Loss: 0.4643690884113312\n",
      "Epoch: 1\t Train Loss: 0.30454781651496887\t Validation Loss: 0.33242329955101013\n",
      "Epoch: 2\t Train Loss: 0.2343941032886505\t Validation Loss: 0.2660597860813141\n",
      "Epoch: 3\t Train Loss: 0.18478761613368988\t Validation Loss: 0.22832244634628296\n",
      "Epoch: 4\t Train Loss: 0.14929310977458954\t Validation Loss: 0.20719395577907562\n",
      "Epoch: 5\t Train Loss: 0.12783607840538025\t Validation Loss: 0.19445723295211792\n",
      "Epoch: 6\t Train Loss: 0.11144714057445526\t Validation Loss: 0.1879783719778061\n",
      "Epoch: 7\t Train Loss: 0.0975450873374939\t Validation Loss: 0.18154528737068176\n",
      "Epoch: 8\t Train Loss: 0.08934814482927322\t Validation Loss: 0.1820758581161499\n",
      "Epoch: 9\t Train Loss: 0.0698544979095459\t Validation Loss: 0.17740774154663086\n"
     ]
    },
    {
     "data": {
      "text/plain": [
       "<elmo_on_md.evaluation.named_entitiy_recognition.NER at 0x1f8832c9860>"
      ]
     },
     "execution_count": 8,
     "metadata": {},
     "output_type": "execute_result"
    }
   ],
   "source": [
    "ner_model.train(train_set, test_set, ner_loader.types, n_epochs=10)"
   ]
  },
  {
   "cell_type": "code",
   "execution_count": 12,
   "metadata": {},
   "outputs": [
    {
     "name": "stderr",
     "output_type": "stream",
     "text": [
      "2019-08-10 16:15:33,242 INFO: 11 batches, avg len: 21.2\n",
      "C:\\Users\\Brus\\Anaconda3\\envs\\elmo\\lib\\site-packages\\sklearn\\metrics\\classification.py:1437: UndefinedMetricWarning: Precision and F-score are ill-defined and being set to 0.0 in labels with no predicted samples.\n",
      "  'precision', 'predicted', average, warn_for)\n"
     ]
    },
    {
     "name": "stdout",
     "output_type": "stream",
     "text": [
      "              precision    recall  f1-score   support\n",
      "\n",
      "        PERS       0.59      0.93      0.72       393\n",
      "        MISC       0.39      0.63      0.48       177\n",
      "         LOC       0.56      0.64      0.60       295\n",
      "        TIME       0.00      0.00      0.00         8\n",
      "       MONEY       0.90      0.97      0.93       145\n",
      "        DATE       0.63      0.69      0.66       136\n",
      "     PERCENT       0.69      0.85      0.76        60\n",
      "         ORG       0.35      0.72      0.47       394\n",
      "\n",
      "   micro avg       0.51      0.77      0.61      1608\n",
      "   macro avg       0.51      0.68      0.58      1608\n",
      "weighted avg       0.54      0.77      0.62      1608\n",
      "\n"
     ]
    }
   ],
   "source": [
    "y_pred = ner_model.predict(test_set)\n",
    "y_true = ner_model._create_labels(test_set, y_pred.shape[1], ner_loader.types).to('cpu')\n",
    "desired_labels = range(len(ner_loader.types))\n",
    "report = classification_report(y_true.flatten(), y_pred.flatten(), labels=desired_labels,target_names=ner_loader.types)\n",
    "print(report)"
   ]
  }
 ],
 "metadata": {
  "kernelspec": {
   "display_name": "Python 3",
   "language": "python",
   "name": "python3"
  },
  "language_info": {
   "codemirror_mode": {
    "name": "ipython",
    "version": 3
   },
   "file_extension": ".py",
   "mimetype": "text/x-python",
   "name": "python",
   "nbconvert_exporter": "python",
   "pygments_lexer": "ipython3",
   "version": "3.6.8"
  },
  "pycharm": {
   "stem_cell": {
    "cell_type": "raw",
    "metadata": {
     "collapsed": false
    },
    "source": []
   }
  }
 },
 "nbformat": 4,
 "nbformat_minor": 1
}
