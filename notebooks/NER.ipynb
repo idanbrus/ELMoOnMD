{
 "cells": [
  {
   "cell_type": "code",
   "execution_count": 1,
   "metadata": {
    "ExecuteTime": {
     "end_time": "2019-09-08T18:56:36.255847Z",
     "start_time": "2019-09-08T18:56:35.186605Z"
    },
    "pycharm": {
     "is_executing": false,
     "name": "#%%\n"
    }
   },
   "outputs": [],
   "source": [
    "%load_ext autoreload\n",
    "%autoreload 2\n",
    "\n",
    "import sys, os\n",
    "sys.path.append('../')\n",
    "from sklearn.model_selection import train_test_split\n",
    "from sklearn.metrics import classification_report\n",
    "\n",
    "from elmo_on_md.data_loaders.ner_loader import NERLoader\n",
    "from elmo_on_md.evaluation.model_loader import load_model\n",
    "from elmo_on_md.evaluation.named_entitiy_recognition import NER"
   ]
  },
  {
   "cell_type": "code",
   "execution_count": 2,
   "metadata": {
    "ExecuteTime": {
     "end_time": "2019-09-08T18:56:38.649384Z",
     "start_time": "2019-09-08T18:56:36.257835Z"
    }
   },
   "outputs": [],
   "source": [
    "pos_weight = 10\n",
    "random_state = 42\n",
    "\n",
    "ner_loader = NERLoader()\n",
    "data = ner_loader.load_data()\n",
    "train_set, test_set = train_test_split(data, test_size=0.2, random_state = random_state)"
   ]
  },
  {
   "cell_type": "markdown",
   "metadata": {},
   "source": [
    "### Original ELMo"
   ]
  },
  {
   "cell_type": "code",
   "execution_count": 3,
   "metadata": {
    "ExecuteTime": {
     "end_time": "2019-09-08T18:56:16.476376Z",
     "start_time": "2019-09-08T18:54:14.679821Z"
    },
    "pycharm": {
     "is_executing": true,
     "name": "#%%\n"
    },
    "scrolled": true
   },
   "outputs": [
    {
     "name": "stderr",
     "output_type": "stream",
     "text": [
      "2019-09-08 21:54:14,828 INFO: char embedding size: 2289\n",
      "2019-09-08 21:54:15,495 INFO: word embedding size: 189561\n",
      "2019-09-08 21:54:20,142 INFO: Model(\n",
      "  (token_embedder): ConvTokenEmbedder(\n",
      "    (word_emb_layer): EmbeddingLayer(\n",
      "      (embedding): Embedding(189561, 100, padding_idx=3)\n",
      "    )\n",
      "    (char_emb_layer): EmbeddingLayer(\n",
      "      (embedding): Embedding(2289, 50, padding_idx=2286)\n",
      "    )\n",
      "    (convolutions): ModuleList(\n",
      "      (0): Conv1d(50, 32, kernel_size=(1,), stride=(1,))\n",
      "      (1): Conv1d(50, 32, kernel_size=(2,), stride=(1,))\n",
      "      (2): Conv1d(50, 64, kernel_size=(3,), stride=(1,))\n",
      "      (3): Conv1d(50, 128, kernel_size=(4,), stride=(1,))\n",
      "      (4): Conv1d(50, 256, kernel_size=(5,), stride=(1,))\n",
      "      (5): Conv1d(50, 512, kernel_size=(6,), stride=(1,))\n",
      "      (6): Conv1d(50, 1024, kernel_size=(7,), stride=(1,))\n",
      "    )\n",
      "    (highways): Highway(\n",
      "      (_layers): ModuleList(\n",
      "        (0): Linear(in_features=2048, out_features=4096, bias=True)\n",
      "        (1): Linear(in_features=2048, out_features=4096, bias=True)\n",
      "      )\n",
      "    )\n",
      "    (projection): Linear(in_features=2148, out_features=512, bias=True)\n",
      "  )\n",
      "  (encoder): ElmobiLm(\n",
      "    (forward_layer_0): LstmCellWithProjection(\n",
      "      (input_linearity): Linear(in_features=512, out_features=16384, bias=False)\n",
      "      (state_linearity): Linear(in_features=512, out_features=16384, bias=True)\n",
      "      (state_projection): Linear(in_features=4096, out_features=512, bias=False)\n",
      "    )\n",
      "    (backward_layer_0): LstmCellWithProjection(\n",
      "      (input_linearity): Linear(in_features=512, out_features=16384, bias=False)\n",
      "      (state_linearity): Linear(in_features=512, out_features=16384, bias=True)\n",
      "      (state_projection): Linear(in_features=4096, out_features=512, bias=False)\n",
      "    )\n",
      "    (forward_layer_1): LstmCellWithProjection(\n",
      "      (input_linearity): Linear(in_features=512, out_features=16384, bias=False)\n",
      "      (state_linearity): Linear(in_features=512, out_features=16384, bias=True)\n",
      "      (state_projection): Linear(in_features=4096, out_features=512, bias=False)\n",
      "    )\n",
      "    (backward_layer_1): LstmCellWithProjection(\n",
      "      (input_linearity): Linear(in_features=512, out_features=16384, bias=False)\n",
      "      (state_linearity): Linear(in_features=512, out_features=16384, bias=True)\n",
      "      (state_projection): Linear(in_features=4096, out_features=512, bias=False)\n",
      "    )\n",
      "  )\n",
      ")\n",
      "2019-09-08 21:54:27,431 INFO: 42 batches, avg len: 21.1\n",
      "2019-09-08 21:54:30,843 INFO: Finished 1000 sentences.\n",
      "2019-09-08 21:54:34,475 INFO: Finished 2000 sentences.\n",
      "2019-09-08 21:54:42,004 INFO: 11 batches, avg len: 20.9\n"
     ]
    },
    {
     "name": "stdout",
     "output_type": "stream",
     "text": [
      "Epoch: 0\t Train Loss: 0.22913484275341034\t Validation Loss: 0.3744853436946869\n",
      "Epoch: 1\t Train Loss: 0.12010227143764496\t Validation Loss: 0.24791452288627625\n",
      "Epoch: 2\t Train Loss: 0.08312205970287323\t Validation Loss: 0.21563656628131866\n",
      "Epoch: 3\t Train Loss: 0.07143276184797287\t Validation Loss: 0.2002323716878891\n",
      "Epoch: 4\t Train Loss: 0.07354626059532166\t Validation Loss: 0.19526444375514984\n",
      "Epoch: 5\t Train Loss: 0.03902340680360794\t Validation Loss: 0.20250344276428223\n",
      "Epoch: 6\t Train Loss: 0.04654436931014061\t Validation Loss: 0.20442716777324677\n",
      "Epoch: 7\t Train Loss: 0.0317196324467659\t Validation Loss: 0.213932067155838\n",
      "Epoch: 8\t Train Loss: 0.026396067813038826\t Validation Loss: 0.23688848316669464\n",
      "Epoch: 9\t Train Loss: 0.014204113744199276\t Validation Loss: 0.22602225840091705\n",
      "Epoch: 10\t Train Loss: 0.01432726439088583\t Validation Loss: 0.21499918401241302\n",
      "Epoch: 11\t Train Loss: 0.015616772696375847\t Validation Loss: 0.20285773277282715\n",
      "Epoch: 12\t Train Loss: 0.013266916386783123\t Validation Loss: 0.21227778494358063\n",
      "Epoch: 13\t Train Loss: 0.013623999431729317\t Validation Loss: 0.1941341608762741\n",
      "Epoch: 14\t Train Loss: 0.022654717788100243\t Validation Loss: 0.19598859548568726\n",
      "Epoch: 15\t Train Loss: 0.006601918954402208\t Validation Loss: 0.2040325403213501\n",
      "Epoch: 16\t Train Loss: 0.028280144557356834\t Validation Loss: 0.2376323640346527\n",
      "Epoch: 17\t Train Loss: 0.009915533475577831\t Validation Loss: 0.2486254870891571\n",
      "Epoch: 18\t Train Loss: 0.0033678985200822353\t Validation Loss: 0.24817946553230286\n",
      "Epoch: 19\t Train Loss: 0.002970960922539234\t Validation Loss: 0.3206086754798889\n",
      "Epoch: 20\t Train Loss: 0.0039122034795582294\t Validation Loss: 0.371914803981781\n",
      "Epoch: 21\t Train Loss: 0.002823947463184595\t Validation Loss: 0.32729610800743103\n",
      "Epoch: 22\t Train Loss: 0.0020562291610985994\t Validation Loss: 0.35704123973846436\n",
      "Epoch: 23\t Train Loss: 0.003124841256067157\t Validation Loss: 0.31649839878082275\n",
      "Epoch: 24\t Train Loss: 0.004540236666798592\t Validation Loss: 0.27020275592803955\n",
      "Epoch: 25\t Train Loss: 0.00631345808506012\t Validation Loss: 0.23661720752716064\n",
      "Epoch: 26\t Train Loss: 0.0011348407715559006\t Validation Loss: 0.34691160917282104\n",
      "Epoch: 27\t Train Loss: 0.006177930161356926\t Validation Loss: 0.3360965847969055\n",
      "Epoch: 28\t Train Loss: 0.000795904896222055\t Validation Loss: 0.3420862555503845\n",
      "Epoch: 29\t Train Loss: 0.001488112611696124\t Validation Loss: 0.3504195213317871\n",
      "Epoch: 30\t Train Loss: 0.0021559353917837143\t Validation Loss: 0.3299658000469208\n",
      "Epoch: 31\t Train Loss: 0.0013504504458978772\t Validation Loss: 0.3378114402294159\n",
      "Epoch: 32\t Train Loss: 0.0008714338182471693\t Validation Loss: 0.4081076979637146\n",
      "Epoch: 33\t Train Loss: 0.002220560098066926\t Validation Loss: 0.35863056778907776\n",
      "Epoch: 34\t Train Loss: 0.0007680838461965322\t Validation Loss: 0.32655757665634155\n",
      "Epoch: 35\t Train Loss: 0.002970299916341901\t Validation Loss: 0.33295366168022156\n",
      "Epoch: 36\t Train Loss: 0.0010501540964469314\t Validation Loss: 0.3483585715293884\n",
      "Epoch: 37\t Train Loss: 0.001350140431895852\t Validation Loss: 0.3271915912628174\n",
      "Epoch: 38\t Train Loss: 0.0003198141639586538\t Validation Loss: 0.3778610825538635\n",
      "Epoch: 39\t Train Loss: 0.0006221148069016635\t Validation Loss: 0.35423120856285095\n",
      "Epoch: 40\t Train Loss: 0.00047182952403090894\t Validation Loss: 0.39173653721809387\n",
      "Epoch: 41\t Train Loss: 0.00029010712751187384\t Validation Loss: 0.4305543899536133\n",
      "Epoch: 42\t Train Loss: 0.0001440005435142666\t Validation Loss: 0.4527204930782318\n",
      "Epoch: 43\t Train Loss: 0.0006947346264496446\t Validation Loss: 0.4648859202861786\n",
      "Epoch: 44\t Train Loss: 0.0011224973713979125\t Validation Loss: 0.5436283349990845\n",
      "Epoch: 45\t Train Loss: 0.0007332460954785347\t Validation Loss: 0.5216911435127258\n",
      "Epoch: 46\t Train Loss: 0.00026403189986012876\t Validation Loss: 0.5231273174285889\n",
      "Epoch: 47\t Train Loss: 0.00036079311394132674\t Validation Loss: 0.4601256549358368\n",
      "Epoch: 48\t Train Loss: 6.569841934833676e-05\t Validation Loss: 0.49107038974761963\n",
      "Epoch: 49\t Train Loss: 0.00013920482888352126\t Validation Loss: 0.5309876203536987\n"
     ]
    },
    {
     "data": {
      "text/plain": [
       "<elmo_on_md.evaluation.named_entitiy_recognition.NER at 0x240bb709ef0>"
      ]
     },
     "execution_count": 3,
     "metadata": {},
     "output_type": "execute_result"
    }
   ],
   "source": [
    "elmo = load_model('original')\n",
    "ner_model = NER([elmo], pos_weight=pos_weight)\n",
    "\n",
    "ner_model.train(train_set, test_set, ner_loader.types, n_epochs=50)"
   ]
  },
  {
   "cell_type": "code",
   "execution_count": 4,
   "metadata": {
    "ExecuteTime": {
     "end_time": "2019-09-08T18:56:21.397280Z",
     "start_time": "2019-09-08T18:56:16.477376Z"
    }
   },
   "outputs": [
    {
     "name": "stderr",
     "output_type": "stream",
     "text": [
      "2019-09-08 21:56:18,063 INFO: 11 batches, avg len: 20.9\n"
     ]
    },
    {
     "name": "stdout",
     "output_type": "stream",
     "text": [
      "              precision    recall  f1-score   support\n",
      "\n",
      "        PERS       0.91      0.85      0.88       453\n",
      "        MISC       0.75      0.48      0.59       196\n",
      "         LOC       0.75      0.64      0.69       337\n",
      "        TIME       1.00      0.33      0.50         6\n",
      "       MONEY       0.93      0.98      0.96        88\n",
      "        DATE       0.90      0.67      0.77       162\n",
      "     PERCENT       0.91      0.93      0.92        46\n",
      "         ORG       0.61      0.59      0.60       373\n",
      "\n",
      "   micro avg       0.79      0.70      0.74      1661\n",
      "   macro avg       0.85      0.69      0.74      1661\n",
      "weighted avg       0.79      0.70      0.74      1661\n",
      "\n"
     ]
    }
   ],
   "source": [
    "y_pred = ner_model.predict(test_set)\n",
    "y_true = ner_model._create_labels(test_set, y_pred.shape[1], ner_loader.types).to('cpu')\n",
    "desired_labels = range(len(ner_loader.types))\n",
    "report = classification_report(y_true.flatten(), y_pred.flatten(), labels=desired_labels,target_names=ner_loader.types)\n",
    "print(report)"
   ]
  },
  {
   "cell_type": "markdown",
   "metadata": {},
   "source": [
    "### The new Enhanced ELMo"
   ]
  },
  {
   "cell_type": "code",
   "execution_count": 3,
   "metadata": {
    "ExecuteTime": {
     "end_time": "2019-09-08T18:42:25.291264Z",
     "start_time": "2019-09-08T18:40:24.924778Z"
    }
   },
   "outputs": [
    {
     "name": "stderr",
     "output_type": "stream",
     "text": [
      "2019-09-08 21:40:35,206 INFO: 42 batches, avg len: 21.1\n",
      "2019-09-08 21:40:38,527 INFO: Finished 1000 sentences.\n",
      "2019-09-08 21:40:42,289 INFO: Finished 2000 sentences.\n",
      "2019-09-08 21:40:50,107 INFO: 11 batches, avg len: 20.9\n"
     ]
    },
    {
     "name": "stdout",
     "output_type": "stream",
     "text": [
      "Epoch: 0\t Train Loss: 0.17130769789218903\t Validation Loss: 0.2864668667316437\n",
      "Epoch: 1\t Train Loss: 0.08408407866954803\t Validation Loss: 0.18905964493751526\n",
      "Epoch: 2\t Train Loss: 0.06812340766191483\t Validation Loss: 0.16057804226875305\n",
      "Epoch: 3\t Train Loss: 0.03649020940065384\t Validation Loss: 0.14847993850708008\n",
      "Epoch: 4\t Train Loss: 0.02776391990482807\t Validation Loss: 0.1410379409790039\n",
      "Epoch: 5\t Train Loss: 0.020519785583019257\t Validation Loss: 0.141128808259964\n",
      "Epoch: 6\t Train Loss: 0.025155803188681602\t Validation Loss: 0.13629546761512756\n",
      "Epoch: 7\t Train Loss: 0.017894530668854713\t Validation Loss: 0.14307568967342377\n",
      "Epoch: 8\t Train Loss: 0.011906404048204422\t Validation Loss: 0.1482289880514145\n",
      "Epoch: 9\t Train Loss: 0.01388997957110405\t Validation Loss: 0.1459144651889801\n",
      "Epoch: 10\t Train Loss: 0.009685349650681019\t Validation Loss: 0.14278726279735565\n",
      "Epoch: 11\t Train Loss: 0.006459803786128759\t Validation Loss: 0.15313859283924103\n",
      "Epoch: 12\t Train Loss: 0.004318252205848694\t Validation Loss: 0.17408709228038788\n",
      "Epoch: 13\t Train Loss: 0.0043120658956468105\t Validation Loss: 0.16410857439041138\n",
      "Epoch: 14\t Train Loss: 0.005372116807848215\t Validation Loss: 0.15278854966163635\n",
      "Epoch: 15\t Train Loss: 0.00891688372939825\t Validation Loss: 0.1520562320947647\n",
      "Epoch: 16\t Train Loss: 0.0018469712231308222\t Validation Loss: 0.1654505729675293\n",
      "Epoch: 17\t Train Loss: 0.0016835734713822603\t Validation Loss: 0.22009189426898956\n",
      "Epoch: 18\t Train Loss: 0.0023666054476052523\t Validation Loss: 0.2238675057888031\n",
      "Epoch: 19\t Train Loss: 0.001951563055627048\t Validation Loss: 0.21112313866615295\n",
      "Epoch: 20\t Train Loss: 0.0015243764501065016\t Validation Loss: 0.23967818915843964\n",
      "Epoch: 21\t Train Loss: 0.002075707307085395\t Validation Loss: 0.258088082075119\n",
      "Epoch: 22\t Train Loss: 0.0010902464855462313\t Validation Loss: 0.2487603724002838\n",
      "Epoch: 23\t Train Loss: 0.0008103052969090641\t Validation Loss: 0.24929384887218475\n",
      "Epoch: 24\t Train Loss: 0.0012510762317106128\t Validation Loss: 0.2712649703025818\n",
      "Epoch: 25\t Train Loss: 0.0017755100270733237\t Validation Loss: 0.29302355647087097\n",
      "Epoch: 26\t Train Loss: 0.0007928798440843821\t Validation Loss: 0.2690582871437073\n",
      "Epoch: 27\t Train Loss: 0.0005943242576904595\t Validation Loss: 0.2370419204235077\n",
      "Epoch: 28\t Train Loss: 0.00025547415134496987\t Validation Loss: 0.3247310519218445\n",
      "Epoch: 29\t Train Loss: 0.0012918277643620968\t Validation Loss: 0.28775957226753235\n",
      "Epoch: 30\t Train Loss: 0.0003190433490090072\t Validation Loss: 0.27434176206588745\n",
      "Epoch: 31\t Train Loss: 0.0006376449600793421\t Validation Loss: 0.2952229082584381\n",
      "Epoch: 32\t Train Loss: 0.00020172032236587256\t Validation Loss: 0.3188757598400116\n",
      "Epoch: 33\t Train Loss: 0.0005435171187855303\t Validation Loss: 0.281024694442749\n",
      "Epoch: 34\t Train Loss: 0.0005578668205998838\t Validation Loss: 0.3176431953907013\n",
      "Epoch: 35\t Train Loss: 0.0006065439665690064\t Validation Loss: 0.3246985375881195\n",
      "Epoch: 36\t Train Loss: 0.0005041438271291554\t Validation Loss: 0.2660004794597626\n",
      "Epoch: 37\t Train Loss: 0.000974333263002336\t Validation Loss: 0.25298452377319336\n",
      "Epoch: 38\t Train Loss: 0.002017337828874588\t Validation Loss: 0.26780226826667786\n",
      "Epoch: 39\t Train Loss: 0.0004904787638224661\t Validation Loss: 0.2549303472042084\n",
      "Epoch: 40\t Train Loss: 0.00026046496350318193\t Validation Loss: 0.27098143100738525\n",
      "Epoch: 41\t Train Loss: 0.00019947998225688934\t Validation Loss: 0.26204490661621094\n",
      "Epoch: 42\t Train Loss: 0.0015883605228736997\t Validation Loss: 0.3076985478401184\n",
      "Epoch: 43\t Train Loss: 0.0002010481257457286\t Validation Loss: 0.27320578694343567\n",
      "Epoch: 44\t Train Loss: 0.0022925552912056446\t Validation Loss: 0.24860642850399017\n",
      "Epoch: 45\t Train Loss: 0.00014017813373357058\t Validation Loss: 0.28917238116264343\n",
      "Epoch: 46\t Train Loss: 0.0005660610040649772\t Validation Loss: 0.3079266846179962\n",
      "Epoch: 47\t Train Loss: 0.0009358220268040895\t Validation Loss: 0.28073132038116455\n",
      "Epoch: 48\t Train Loss: 0.0008012582547962666\t Validation Loss: 0.33826398849487305\n",
      "Epoch: 49\t Train Loss: 0.00012228386185597628\t Validation Loss: 0.36849886178970337\n"
     ]
    },
    {
     "data": {
      "text/plain": [
       "<elmo_on_md.evaluation.named_entitiy_recognition.NER at 0x272b4a09eb8>"
      ]
     },
     "execution_count": 3,
     "metadata": {},
     "output_type": "execute_result"
    }
   ],
   "source": [
    "elmo = load_model('elmo_on_md')\n",
    "ner_model = NER([elmo], pos_weight=pos_weight)\n",
    "\n",
    "ner_model.train(train_set, test_set, ner_loader.types, n_epochs=50)"
   ]
  },
  {
   "cell_type": "code",
   "execution_count": 4,
   "metadata": {
    "ExecuteTime": {
     "end_time": "2019-09-08T18:42:30.221220Z",
     "start_time": "2019-09-08T18:42:25.292263Z"
    }
   },
   "outputs": [
    {
     "name": "stderr",
     "output_type": "stream",
     "text": [
      "2019-09-08 21:42:26,868 INFO: 11 batches, avg len: 20.9\n"
     ]
    },
    {
     "name": "stdout",
     "output_type": "stream",
     "text": [
      "              precision    recall  f1-score   support\n",
      "\n",
      "        PERS       0.92      0.89      0.90       453\n",
      "        MISC       0.72      0.53      0.61       196\n",
      "         LOC       0.83      0.73      0.78       337\n",
      "        TIME       1.00      0.33      0.50         6\n",
      "       MONEY       0.96      0.98      0.97        88\n",
      "        DATE       0.90      0.76      0.82       162\n",
      "     PERCENT       1.00      0.83      0.90        46\n",
      "         ORG       0.63      0.59      0.61       373\n",
      "\n",
      "   micro avg       0.82      0.74      0.77      1661\n",
      "   macro avg       0.87      0.70      0.76      1661\n",
      "weighted avg       0.81      0.74      0.77      1661\n",
      "\n"
     ]
    }
   ],
   "source": [
    "y_pred = ner_model.predict(test_set)\n",
    "y_true = ner_model._create_labels(test_set, y_pred.shape[1], ner_loader.types).to('cpu')\n",
    "desired_labels = range(len(ner_loader.types))\n",
    "report = classification_report(y_true.flatten(), y_pred.flatten(), labels=desired_labels,target_names=ner_loader.types)\n",
    "print(report)"
   ]
  },
  {
   "cell_type": "markdown",
   "metadata": {},
   "source": [
    "## Both Models"
   ]
  },
  {
   "cell_type": "code",
   "execution_count": 3,
   "metadata": {
    "ExecuteTime": {
     "end_time": "2019-09-08T19:00:13.298864Z",
     "start_time": "2019-09-08T18:56:38.650384Z"
    }
   },
   "outputs": [
    {
     "name": "stderr",
     "output_type": "stream",
     "text": [
      "2019-09-08 21:56:38,787 INFO: char embedding size: 2289\n",
      "2019-09-08 21:56:39,454 INFO: word embedding size: 189561\n",
      "2019-09-08 21:56:44,164 INFO: Model(\n",
      "  (token_embedder): ConvTokenEmbedder(\n",
      "    (word_emb_layer): EmbeddingLayer(\n",
      "      (embedding): Embedding(189561, 100, padding_idx=3)\n",
      "    )\n",
      "    (char_emb_layer): EmbeddingLayer(\n",
      "      (embedding): Embedding(2289, 50, padding_idx=2286)\n",
      "    )\n",
      "    (convolutions): ModuleList(\n",
      "      (0): Conv1d(50, 32, kernel_size=(1,), stride=(1,))\n",
      "      (1): Conv1d(50, 32, kernel_size=(2,), stride=(1,))\n",
      "      (2): Conv1d(50, 64, kernel_size=(3,), stride=(1,))\n",
      "      (3): Conv1d(50, 128, kernel_size=(4,), stride=(1,))\n",
      "      (4): Conv1d(50, 256, kernel_size=(5,), stride=(1,))\n",
      "      (5): Conv1d(50, 512, kernel_size=(6,), stride=(1,))\n",
      "      (6): Conv1d(50, 1024, kernel_size=(7,), stride=(1,))\n",
      "    )\n",
      "    (highways): Highway(\n",
      "      (_layers): ModuleList(\n",
      "        (0): Linear(in_features=2048, out_features=4096, bias=True)\n",
      "        (1): Linear(in_features=2048, out_features=4096, bias=True)\n",
      "      )\n",
      "    )\n",
      "    (projection): Linear(in_features=2148, out_features=512, bias=True)\n",
      "  )\n",
      "  (encoder): ElmobiLm(\n",
      "    (forward_layer_0): LstmCellWithProjection(\n",
      "      (input_linearity): Linear(in_features=512, out_features=16384, bias=False)\n",
      "      (state_linearity): Linear(in_features=512, out_features=16384, bias=True)\n",
      "      (state_projection): Linear(in_features=4096, out_features=512, bias=False)\n",
      "    )\n",
      "    (backward_layer_0): LstmCellWithProjection(\n",
      "      (input_linearity): Linear(in_features=512, out_features=16384, bias=False)\n",
      "      (state_linearity): Linear(in_features=512, out_features=16384, bias=True)\n",
      "      (state_projection): Linear(in_features=4096, out_features=512, bias=False)\n",
      "    )\n",
      "    (forward_layer_1): LstmCellWithProjection(\n",
      "      (input_linearity): Linear(in_features=512, out_features=16384, bias=False)\n",
      "      (state_linearity): Linear(in_features=512, out_features=16384, bias=True)\n",
      "      (state_projection): Linear(in_features=4096, out_features=512, bias=False)\n",
      "    )\n",
      "    (backward_layer_1): LstmCellWithProjection(\n",
      "      (input_linearity): Linear(in_features=512, out_features=16384, bias=False)\n",
      "      (state_linearity): Linear(in_features=512, out_features=16384, bias=True)\n",
      "      (state_projection): Linear(in_features=4096, out_features=512, bias=False)\n",
      "    )\n",
      "  )\n",
      ")\n",
      "2019-09-08 21:56:52,259 INFO: 42 batches, avg len: 21.1\n",
      "2019-09-08 21:56:55,645 INFO: Finished 1000 sentences.\n",
      "2019-09-08 21:56:59,158 INFO: Finished 2000 sentences.\n",
      "2019-09-08 21:57:07,892 INFO: 42 batches, avg len: 21.1\n",
      "2019-09-08 21:57:11,501 INFO: Finished 1000 sentences.\n",
      "2019-09-08 21:57:14,355 INFO: Finished 2000 sentences.\n",
      "2019-09-08 21:57:28,580 INFO: 11 batches, avg len: 20.9\n",
      "2019-09-08 21:57:33,331 INFO: 11 batches, avg len: 20.9\n"
     ]
    },
    {
     "name": "stdout",
     "output_type": "stream",
     "text": [
      "Epoch: 0\t Train Loss: 0.1399768441915512\t Validation Loss: 0.2669811248779297\n",
      "Epoch: 1\t Train Loss: 0.07062292098999023\t Validation Loss: 0.1994614154100418\n",
      "Epoch: 2\t Train Loss: 0.05533478781580925\t Validation Loss: 0.18148314952850342\n",
      "Epoch: 3\t Train Loss: 0.04072807729244232\t Validation Loss: 0.16703681647777557\n",
      "Epoch: 4\t Train Loss: 0.027625294402241707\t Validation Loss: 0.1620883345603943\n",
      "Epoch: 5\t Train Loss: 0.02794036827981472\t Validation Loss: 0.15895597636699677\n",
      "Epoch: 6\t Train Loss: 0.025657862424850464\t Validation Loss: 0.15631170570850372\n",
      "Epoch: 7\t Train Loss: 0.014933017082512379\t Validation Loss: 0.15964637696743011\n",
      "Epoch: 8\t Train Loss: 0.011895806528627872\t Validation Loss: 0.1631808876991272\n",
      "Epoch: 9\t Train Loss: 0.008296997286379337\t Validation Loss: 0.1652330905199051\n",
      "Epoch: 10\t Train Loss: 0.006309822667390108\t Validation Loss: 0.17537061870098114\n",
      "Epoch: 11\t Train Loss: 0.019310949370265007\t Validation Loss: 0.24337944388389587\n",
      "Epoch: 12\t Train Loss: 0.007316636387258768\t Validation Loss: 0.23920419812202454\n",
      "Epoch: 13\t Train Loss: 0.0038993866182863712\t Validation Loss: 0.21362647414207458\n",
      "Epoch: 14\t Train Loss: 0.004575320519506931\t Validation Loss: 0.2497030347585678\n",
      "Epoch: 15\t Train Loss: 0.003273866605013609\t Validation Loss: 0.23555657267570496\n",
      "Epoch: 16\t Train Loss: 0.0027308547869324684\t Validation Loss: 0.24088187515735626\n",
      "Epoch: 17\t Train Loss: 0.0015486304182559252\t Validation Loss: 0.2235790640115738\n",
      "Epoch: 18\t Train Loss: 0.001077153137885034\t Validation Loss: 0.2774466872215271\n",
      "Epoch: 19\t Train Loss: 0.0006794269429519773\t Validation Loss: 0.2866217792034149\n",
      "Epoch: 20\t Train Loss: 0.009770087897777557\t Validation Loss: 0.2914799749851227\n",
      "Epoch: 21\t Train Loss: 0.0008631679811514914\t Validation Loss: 0.2563200294971466\n",
      "Epoch: 22\t Train Loss: 0.0007559577934443951\t Validation Loss: 0.2919233441352844\n",
      "Epoch: 23\t Train Loss: 0.0006237081252038479\t Validation Loss: 0.27709484100341797\n",
      "Epoch: 24\t Train Loss: 0.0006897242274135351\t Validation Loss: 0.3212674558162689\n",
      "Epoch: 25\t Train Loss: 0.002322083804756403\t Validation Loss: 0.3438740670681\n",
      "Epoch: 26\t Train Loss: 0.0005387174896895885\t Validation Loss: 0.3360542953014374\n",
      "Epoch: 27\t Train Loss: 0.00037739824620075524\t Validation Loss: 0.2779642939567566\n",
      "Epoch: 28\t Train Loss: 0.00014762126374989748\t Validation Loss: 0.276072233915329\n",
      "Epoch: 29\t Train Loss: 0.001565161976031959\t Validation Loss: 0.30850252509117126\n",
      "Epoch: 30\t Train Loss: 0.0008130389614962041\t Validation Loss: 0.2574772238731384\n",
      "Epoch: 31\t Train Loss: 0.0002468623570166528\t Validation Loss: 0.25784924626350403\n",
      "Epoch: 32\t Train Loss: 0.00037559514748863876\t Validation Loss: 0.24659956991672516\n",
      "Epoch: 33\t Train Loss: 0.000848678289912641\t Validation Loss: 0.2470466047525406\n",
      "Epoch: 34\t Train Loss: 0.000824802671559155\t Validation Loss: 0.2586500644683838\n",
      "Epoch: 35\t Train Loss: 0.0007175019127316773\t Validation Loss: 0.23838001489639282\n",
      "Epoch: 36\t Train Loss: 0.0007270954665727913\t Validation Loss: 0.2692382037639618\n",
      "Epoch: 37\t Train Loss: 0.0011999128619208932\t Validation Loss: 0.26924481987953186\n",
      "Epoch: 38\t Train Loss: 0.00012879729911219329\t Validation Loss: 0.292682021856308\n",
      "Epoch: 39\t Train Loss: 0.000626147841103375\t Validation Loss: 0.3668075203895569\n",
      "Epoch: 40\t Train Loss: 0.0005868395674042404\t Validation Loss: 0.36071673035621643\n",
      "Epoch: 41\t Train Loss: 0.0009835048113018274\t Validation Loss: 0.4038096070289612\n",
      "Epoch: 42\t Train Loss: 0.00039452806231565773\t Validation Loss: 0.3348469138145447\n",
      "Epoch: 43\t Train Loss: 0.0002956463140435517\t Validation Loss: 0.3268798887729645\n",
      "Epoch: 44\t Train Loss: 0.00011991642531938851\t Validation Loss: 0.3545322120189667\n",
      "Epoch: 45\t Train Loss: 5.8846660976996645e-05\t Validation Loss: 0.36528754234313965\n",
      "Epoch: 46\t Train Loss: 0.0003600060590542853\t Validation Loss: 0.3746294379234314\n",
      "Epoch: 47\t Train Loss: 0.00012624221562873572\t Validation Loss: 0.36612191796302795\n",
      "Epoch: 48\t Train Loss: 8.632632670924067e-05\t Validation Loss: 0.35230693221092224\n",
      "Epoch: 49\t Train Loss: 0.00014374718011822551\t Validation Loss: 0.36877620220184326\n"
     ]
    },
    {
     "data": {
      "text/plain": [
       "<elmo_on_md.evaluation.named_entitiy_recognition.NER at 0x1bca2a609e8>"
      ]
     },
     "execution_count": 3,
     "metadata": {},
     "output_type": "execute_result"
    }
   ],
   "source": [
    "elmo = load_model('original')\n",
    "new_elmo = load_model('elmo_on_md')\n",
    "ner_model = NER([elmo, new_elmo], pos_weight=pos_weight)\n",
    "\n",
    "ner_model.train(train_set, test_set, ner_loader.types, n_epochs=50)"
   ]
  },
  {
   "cell_type": "code",
   "execution_count": 4,
   "metadata": {
    "ExecuteTime": {
     "end_time": "2019-09-08T19:00:22.786004Z",
     "start_time": "2019-09-08T19:00:13.302852Z"
    }
   },
   "outputs": [
    {
     "name": "stderr",
     "output_type": "stream",
     "text": [
      "2019-09-08 22:00:14,910 INFO: 11 batches, avg len: 20.9\n",
      "2019-09-08 22:00:18,987 INFO: 11 batches, avg len: 20.9\n"
     ]
    },
    {
     "name": "stdout",
     "output_type": "stream",
     "text": [
      "              precision    recall  f1-score   support\n",
      "\n",
      "        PERS       0.93      0.91      0.92       453\n",
      "        MISC       0.76      0.56      0.64       196\n",
      "         LOC       0.81      0.77      0.79       337\n",
      "        TIME       0.57      0.67      0.62         6\n",
      "       MONEY       0.96      0.99      0.97        88\n",
      "        DATE       0.90      0.77      0.83       162\n",
      "     PERCENT       0.91      0.93      0.92        46\n",
      "         ORG       0.61      0.66      0.64       373\n",
      "\n",
      "   micro avg       0.81      0.78      0.79      1661\n",
      "   macro avg       0.81      0.78      0.79      1661\n",
      "weighted avg       0.81      0.78      0.79      1661\n",
      "\n"
     ]
    }
   ],
   "source": [
    "y_pred = ner_model.predict(test_set)\n",
    "y_true = ner_model._create_labels(test_set, y_pred.shape[1], ner_loader.types).to('cpu')\n",
    "desired_labels = range(len(ner_loader.types))\n",
    "report = classification_report(y_true.flatten(), y_pred.flatten(), labels=desired_labels,target_names=ner_loader.types)\n",
    "print(report)"
   ]
  }
 ],
 "metadata": {
  "kernelspec": {
   "display_name": "Python 3",
   "language": "python",
   "name": "python3"
  },
  "language_info": {
   "codemirror_mode": {
    "name": "ipython",
    "version": 3
   },
   "file_extension": ".py",
   "mimetype": "text/x-python",
   "name": "python",
   "nbconvert_exporter": "python",
   "pygments_lexer": "ipython3",
   "version": "3.6.8"
  },
  "pycharm": {
   "stem_cell": {
    "cell_type": "raw",
    "metadata": {
     "collapsed": false
    },
    "source": []
   }
  }
 },
 "nbformat": 4,
 "nbformat_minor": 1
}
