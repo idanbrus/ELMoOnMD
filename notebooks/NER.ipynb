{
 "cells": [
  {
   "cell_type": "code",
   "execution_count": 1,
   "metadata": {
    "pycharm": {
     "is_executing": false,
     "name": "#%%\n"
    }
   },
   "outputs": [],
   "source": [
    "%load_ext autoreload\n",
    "%autoreload 2\n",
    "\n",
    "import sys, os\n",
    "sys.path.append('../')\n",
    "from sklearn.model_selection import train_test_split\n",
    "\n",
    "from elmo_on_md.data_loaders.ner_loader import NERLoader\n",
    "from elmo_on_md.evaluation.model_loader import load_model\n",
    "from elmo_on_md.evaluation.named_entitiy_recognition import NER\n"
   ]
  },
  {
   "cell_type": "code",
   "execution_count": 2,
   "metadata": {},
   "outputs": [],
   "source": [
    "pos_weight = 7"
   ]
  },
  {
   "cell_type": "markdown",
   "metadata": {},
   "source": [
    "### Original ELMo"
   ]
  },
  {
   "cell_type": "code",
   "execution_count": 3,
   "metadata": {
    "pycharm": {
     "is_executing": true,
     "name": "#%%\n"
    },
    "scrolled": true
   },
   "outputs": [
    {
     "name": "stderr",
     "output_type": "stream",
     "text": [
      "2019-08-08 21:46:17,979 INFO: char embedding size: 2289\n",
      "2019-08-08 21:46:18,663 INFO: word embedding size: 189561\n",
      "2019-08-08 21:46:23,421 INFO: Model(\n",
      "  (token_embedder): ConvTokenEmbedder(\n",
      "    (word_emb_layer): EmbeddingLayer(\n",
      "      (embedding): Embedding(189561, 100, padding_idx=3)\n",
      "    )\n",
      "    (char_emb_layer): EmbeddingLayer(\n",
      "      (embedding): Embedding(2289, 50, padding_idx=2286)\n",
      "    )\n",
      "    (convolutions): ModuleList(\n",
      "      (0): Conv1d(50, 32, kernel_size=(1,), stride=(1,))\n",
      "      (1): Conv1d(50, 32, kernel_size=(2,), stride=(1,))\n",
      "      (2): Conv1d(50, 64, kernel_size=(3,), stride=(1,))\n",
      "      (3): Conv1d(50, 128, kernel_size=(4,), stride=(1,))\n",
      "      (4): Conv1d(50, 256, kernel_size=(5,), stride=(1,))\n",
      "      (5): Conv1d(50, 512, kernel_size=(6,), stride=(1,))\n",
      "      (6): Conv1d(50, 1024, kernel_size=(7,), stride=(1,))\n",
      "    )\n",
      "    (highways): Highway(\n",
      "      (_layers): ModuleList(\n",
      "        (0): Linear(in_features=2048, out_features=4096, bias=True)\n",
      "        (1): Linear(in_features=2048, out_features=4096, bias=True)\n",
      "      )\n",
      "    )\n",
      "    (projection): Linear(in_features=2148, out_features=512, bias=True)\n",
      "  )\n",
      "  (encoder): ElmobiLm(\n",
      "    (forward_layer_0): LstmCellWithProjection(\n",
      "      (input_linearity): Linear(in_features=512, out_features=16384, bias=False)\n",
      "      (state_linearity): Linear(in_features=512, out_features=16384, bias=True)\n",
      "      (state_projection): Linear(in_features=4096, out_features=512, bias=False)\n",
      "    )\n",
      "    (backward_layer_0): LstmCellWithProjection(\n",
      "      (input_linearity): Linear(in_features=512, out_features=16384, bias=False)\n",
      "      (state_linearity): Linear(in_features=512, out_features=16384, bias=True)\n",
      "      (state_projection): Linear(in_features=4096, out_features=512, bias=False)\n",
      "    )\n",
      "    (forward_layer_1): LstmCellWithProjection(\n",
      "      (input_linearity): Linear(in_features=512, out_features=16384, bias=False)\n",
      "      (state_linearity): Linear(in_features=512, out_features=16384, bias=True)\n",
      "      (state_projection): Linear(in_features=4096, out_features=512, bias=False)\n",
      "    )\n",
      "    (backward_layer_1): LstmCellWithProjection(\n",
      "      (input_linearity): Linear(in_features=512, out_features=16384, bias=False)\n",
      "      (state_linearity): Linear(in_features=512, out_features=16384, bias=True)\n",
      "      (state_projection): Linear(in_features=4096, out_features=512, bias=False)\n",
      "    )\n",
      "  )\n",
      ")\n"
     ]
    }
   ],
   "source": [
    "elmo = load_model('original')\n",
    "ner_model = NER(elmo, pos_weight=pos_weight)\n",
    "\n",
    "ner_loader = NERLoader()\n",
    "data = ner_loader.load_data()\n",
    "train_set, test_set = train_test_split(data, test_size=0.2)"
   ]
  },
  {
   "cell_type": "code",
   "execution_count": 4,
   "metadata": {
    "pycharm": {
     "is_executing": true,
     "name": "#%%\n"
    },
    "scrolled": true
   },
   "outputs": [
    {
     "name": "stderr",
     "output_type": "stream",
     "text": [
      "  0%|                                                                                           | 0/10 [00:00<?, ?it/s]2019-08-08 21:46:27,541 INFO: 1 batches, avg len: 18.9\n",
      "2019-08-08 21:46:28,458 INFO: 1 batches, avg len: 20.9\n",
      "2019-08-08 21:46:29,195 INFO: 1 batches, avg len: 22.1\n",
      "2019-08-08 21:46:29,835 INFO: 1 batches, avg len: 20.9\n",
      "2019-08-08 21:46:30,778 INFO: 1 batches, avg len: 22.2\n",
      "2019-08-08 21:46:31,408 INFO: 1 batches, avg len: 19.0\n",
      "2019-08-08 21:46:31,942 INFO: 1 batches, avg len: 22.4\n",
      "2019-08-08 21:46:32,506 INFO: 1 batches, avg len: 18.7\n",
      "2019-08-08 21:46:33,140 INFO: 1 batches, avg len: 21.3\n",
      "2019-08-08 21:46:33,784 INFO: 1 batches, avg len: 16.2\n",
      "2019-08-08 21:46:34,263 INFO: 1 batches, avg len: 20.2\n",
      "2019-08-08 21:46:34,924 INFO: 1 batches, avg len: 22.0\n",
      "2019-08-08 21:46:35,519 INFO: 1 batches, avg len: 22.4\n",
      "2019-08-08 21:46:36,235 INFO: 1 batches, avg len: 20.8\n",
      "2019-08-08 21:46:36,908 INFO: 1 batches, avg len: 20.6\n",
      "2019-08-08 21:46:37,491 INFO: 1 batches, avg len: 19.8\n",
      "2019-08-08 21:46:38,120 INFO: 1 batches, avg len: 20.9\n",
      "2019-08-08 21:46:38,690 INFO: 1 batches, avg len: 22.0\n",
      "2019-08-08 21:46:39,613 INFO: 1 batches, avg len: 18.8\n",
      "2019-08-08 21:46:40,277 INFO: 1 batches, avg len: 21.8\n",
      "2019-08-08 21:46:40,943 INFO: 1 batches, avg len: 24.7\n",
      "2019-08-08 21:46:41,750 INFO: 1 batches, avg len: 23.2\n",
      "2019-08-08 21:46:42,586 INFO: 1 batches, avg len: 22.6\n",
      "2019-08-08 21:46:43,274 INFO: 1 batches, avg len: 20.6\n",
      "2019-08-08 21:46:43,824 INFO: 1 batches, avg len: 21.9\n",
      "2019-08-08 21:46:44,575 INFO: 1 batches, avg len: 23.0\n",
      "2019-08-08 21:46:45,240 INFO: 1 batches, avg len: 20.5\n",
      "2019-08-08 21:46:45,909 INFO: 1 batches, avg len: 19.3\n",
      "2019-08-08 21:46:46,544 INFO: 1 batches, avg len: 22.5\n",
      "2019-08-08 21:46:47,229 INFO: 1 batches, avg len: 21.0\n",
      "2019-08-08 21:46:47,991 INFO: 1 batches, avg len: 20.2\n",
      "2019-08-08 21:46:48,528 INFO: 1 batches, avg len: 21.6\n",
      "2019-08-08 21:46:49,166 INFO: 1 batches, avg len: 21.4\n",
      "2019-08-08 21:46:49,933 INFO: 1 batches, avg len: 22.3\n",
      "2019-08-08 21:46:50,697 INFO: 1 batches, avg len: 21.0\n",
      "2019-08-08 21:46:51,333 INFO: 1 batches, avg len: 20.4\n",
      "2019-08-08 21:46:51,922 INFO: 1 batches, avg len: 23.1\n",
      "2019-08-08 21:46:52,616 INFO: 1 batches, avg len: 20.9\n",
      "2019-08-08 21:46:53,245 INFO: 1 batches, avg len: 21.1\n",
      "2019-08-08 21:46:54,117 INFO: 1 batches, avg len: 21.0\n",
      "2019-08-08 21:46:54,705 INFO: 1 batches, avg len: 23.7\n",
      "2019-08-08 21:46:55,409 INFO: 1 batches, avg len: 15.9\n",
      "100%|██████████████████████████████████████████████████████████████████████████████████| 10/10 [00:28<00:00,  2.82s/it]\n"
     ]
    },
    {
     "data": {
      "text/plain": [
       "<elmo_on_md.evaluation.named_entitiy_recognition.NER at 0x2840252f7b8>"
      ]
     },
     "execution_count": 4,
     "metadata": {},
     "output_type": "execute_result"
    }
   ],
   "source": [
    "ner_model.train(train_set, ner_loader.types, n_epochs=10)"
   ]
  },
  {
   "cell_type": "code",
   "execution_count": 5,
   "metadata": {},
   "outputs": [
    {
     "name": "stderr",
     "output_type": "stream",
     "text": [
      "2019-08-08 21:46:57,115 INFO: 11 batches, avg len: 20.9\n",
      "C:\\Users\\Brus\\Anaconda3\\envs\\elmo\\lib\\site-packages\\sklearn\\metrics\\classification.py:1437: UndefinedMetricWarning: Precision and F-score are ill-defined and being set to 0.0 in labels with no predicted samples.\n",
      "  'precision', 'predicted', average, warn_for)\n"
     ]
    },
    {
     "name": "stdout",
     "output_type": "stream",
     "text": [
      "              precision    recall  f1-score   support\n",
      "\n",
      "        PERS       0.68      0.87      0.77       382\n",
      "        MISC       0.84      0.23      0.37       205\n",
      "         LOC       0.73      0.42      0.53       322\n",
      "        TIME       0.00      0.00      0.00        10\n",
      "       MONEY       0.82      0.76      0.78        82\n",
      "        DATE       1.00      0.06      0.11       115\n",
      "     PERCENT       0.00      0.00      0.00        62\n",
      "         ORG       0.42      0.46      0.44       369\n",
      "\n",
      "   micro avg       0.62      0.49      0.55      1547\n",
      "   macro avg       0.56      0.35      0.38      1547\n",
      "weighted avg       0.65      0.49      0.50      1547\n",
      "\n"
     ]
    }
   ],
   "source": [
    "from sklearn.metrics import classification_report\n",
    "\n",
    "y_pred = ner_model.predict(test_set)\n",
    "y_true = ner_model._create_labels(test_set, y_pred.shape[1], ner_loader.types).to('cpu')\n",
    "desired_labels = range(len(ner_loader.types))\n",
    "report = classification_report(y_true, y_pred.flatten(), labels=desired_labels,target_names=ner_loader.types)\n",
    "print(report)"
   ]
  },
  {
   "cell_type": "markdown",
   "metadata": {},
   "source": [
    "### The new Enhanced ELMo"
   ]
  },
  {
   "cell_type": "code",
   "execution_count": 7,
   "metadata": {},
   "outputs": [],
   "source": [
    "elmo = load_model('BiLSTM_pos_weight_10_little_epoch')\n",
    "ner_model = NER(elmo, pos_weight=pos_weight)"
   ]
  },
  {
   "cell_type": "code",
   "execution_count": 8,
   "metadata": {},
   "outputs": [
    {
     "name": "stderr",
     "output_type": "stream",
     "text": [
      "  0%|                                                                                           | 0/10 [00:00<?, ?it/s]2019-08-08 21:47:31,652 INFO: 1 batches, avg len: 18.9\n",
      "2019-08-08 21:47:32,150 INFO: 1 batches, avg len: 20.9\n",
      "2019-08-08 21:47:32,828 INFO: 1 batches, avg len: 22.1\n",
      "2019-08-08 21:47:33,438 INFO: 1 batches, avg len: 20.9\n",
      "2019-08-08 21:47:34,185 INFO: 1 batches, avg len: 22.2\n",
      "2019-08-08 21:47:34,785 INFO: 1 batches, avg len: 19.0\n",
      "2019-08-08 21:47:35,311 INFO: 1 batches, avg len: 22.4\n",
      "2019-08-08 21:47:35,853 INFO: 1 batches, avg len: 18.7\n",
      "2019-08-08 21:47:36,485 INFO: 1 batches, avg len: 21.3\n",
      "2019-08-08 21:47:37,103 INFO: 1 batches, avg len: 16.2\n",
      "2019-08-08 21:47:37,584 INFO: 1 batches, avg len: 20.2\n",
      "2019-08-08 21:47:38,280 INFO: 1 batches, avg len: 22.0\n",
      "2019-08-08 21:47:38,870 INFO: 1 batches, avg len: 22.4\n",
      "2019-08-08 21:47:39,565 INFO: 1 batches, avg len: 20.8\n",
      "2019-08-08 21:47:40,223 INFO: 1 batches, avg len: 20.6\n",
      "2019-08-08 21:47:40,792 INFO: 1 batches, avg len: 19.8\n",
      "2019-08-08 21:47:41,404 INFO: 1 batches, avg len: 20.9\n",
      "2019-08-08 21:47:41,954 INFO: 1 batches, avg len: 22.0\n",
      "2019-08-08 21:47:42,844 INFO: 1 batches, avg len: 18.8\n",
      "2019-08-08 21:47:43,478 INFO: 1 batches, avg len: 21.8\n",
      "2019-08-08 21:47:44,129 INFO: 1 batches, avg len: 24.7\n",
      "2019-08-08 21:47:44,907 INFO: 1 batches, avg len: 23.2\n",
      "2019-08-08 21:47:45,726 INFO: 1 batches, avg len: 22.6\n",
      "2019-08-08 21:47:46,400 INFO: 1 batches, avg len: 20.6\n",
      "2019-08-08 21:47:46,946 INFO: 1 batches, avg len: 21.9\n",
      "2019-08-08 21:47:47,677 INFO: 1 batches, avg len: 23.0\n",
      "2019-08-08 21:47:48,315 INFO: 1 batches, avg len: 20.5\n",
      "2019-08-08 21:47:48,967 INFO: 1 batches, avg len: 19.3\n",
      "2019-08-08 21:47:49,535 INFO: 1 batches, avg len: 22.5\n",
      "2019-08-08 21:47:50,196 INFO: 1 batches, avg len: 21.0\n",
      "2019-08-08 21:47:50,938 INFO: 1 batches, avg len: 20.2\n",
      "2019-08-08 21:47:51,460 INFO: 1 batches, avg len: 21.6\n",
      "2019-08-08 21:47:52,078 INFO: 1 batches, avg len: 21.4\n",
      "2019-08-08 21:47:52,837 INFO: 1 batches, avg len: 22.3\n",
      "2019-08-08 21:47:53,577 INFO: 1 batches, avg len: 21.0\n",
      "2019-08-08 21:47:54,177 INFO: 1 batches, avg len: 20.4\n",
      "2019-08-08 21:47:54,748 INFO: 1 batches, avg len: 23.1\n",
      "2019-08-08 21:47:55,423 INFO: 1 batches, avg len: 20.9\n",
      "2019-08-08 21:47:56,036 INFO: 1 batches, avg len: 21.1\n",
      "2019-08-08 21:47:56,888 INFO: 1 batches, avg len: 21.0\n",
      "2019-08-08 21:47:57,449 INFO: 1 batches, avg len: 23.7\n",
      "2019-08-08 21:47:58,128 INFO: 1 batches, avg len: 15.9\n",
      "100%|██████████████████████████████████████████████████████████████████████████████████| 10/10 [00:26<00:00,  2.68s/it]\n"
     ]
    },
    {
     "data": {
      "text/plain": [
       "<elmo_on_md.evaluation.named_entitiy_recognition.NER at 0x284237844e0>"
      ]
     },
     "execution_count": 8,
     "metadata": {},
     "output_type": "execute_result"
    }
   ],
   "source": [
    "ner_model.train(train_set, ner_loader.types, n_epochs=10)"
   ]
  },
  {
   "cell_type": "code",
   "execution_count": 9,
   "metadata": {},
   "outputs": [
    {
     "name": "stderr",
     "output_type": "stream",
     "text": [
      "2019-08-08 21:47:59,820 INFO: 11 batches, avg len: 20.9\n"
     ]
    },
    {
     "name": "stdout",
     "output_type": "stream",
     "text": [
      "              precision    recall  f1-score   support\n",
      "\n",
      "        PERS       0.63      0.70      0.67       382\n",
      "        MISC       0.00      0.00      0.00       205\n",
      "         LOC       0.00      0.00      0.00       322\n",
      "        TIME       0.00      0.00      0.00        10\n",
      "       MONEY       0.00      0.00      0.00        82\n",
      "        DATE       0.00      0.00      0.00       115\n",
      "     PERCENT       0.00      0.00      0.00        62\n",
      "         ORG       0.59      0.07      0.13       369\n",
      "\n",
      "   micro avg       0.63      0.19      0.29      1547\n",
      "   macro avg       0.15      0.10      0.10      1547\n",
      "weighted avg       0.30      0.19      0.20      1547\n",
      "\n"
     ]
    }
   ],
   "source": [
    "y_pred = ner_model.predict(test_set)\n",
    "y_true = ner_model._create_labels(test_set, y_pred.shape[1], ner_loader.types).to('cpu')\n",
    "desired_labels = range(len(ner_loader.types))\n",
    "report = classification_report(y_true, y_pred.flatten(), labels=desired_labels,target_names=ner_loader.types)\n",
    "print(report)"
   ]
  }
 ],
 "metadata": {
  "kernelspec": {
   "display_name": "Python 3",
   "language": "python",
   "name": "python3"
  },
  "language_info": {
   "codemirror_mode": {
    "name": "ipython",
    "version": 3
   },
   "file_extension": ".py",
   "mimetype": "text/x-python",
   "name": "python",
   "nbconvert_exporter": "python",
   "pygments_lexer": "ipython3",
   "version": "3.6.8"
  },
  "pycharm": {
   "stem_cell": {
    "cell_type": "raw",
    "metadata": {
     "collapsed": false
    },
    "source": []
   }
  }
 },
 "nbformat": 4,
 "nbformat_minor": 1
}
