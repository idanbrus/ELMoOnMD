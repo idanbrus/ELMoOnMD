{
 "cells": [
  {
   "cell_type": "code",
   "execution_count": 1,
   "metadata": {
    "pycharm": {
     "is_executing": false,
     "name": "#%%\n"
    }
   },
   "outputs": [],
   "source": [
    "%load_ext autoreload\n",
    "%autoreload 2\n",
    "\n",
    "import sys, os\n",
    "sys.path.append('../')\n",
    "from sklearn.model_selection import train_test_split\n",
    "\n",
    "from elmo_on_md.data_loaders.ner_loader import NERLoader\n",
    "from elmo_on_md.evaluation.model_loader import load_model\n",
    "from elmo_on_md.evaluation.named_entitiy_recognition import NER\n"
   ]
  },
  {
   "cell_type": "code",
   "execution_count": 2,
   "metadata": {},
   "outputs": [],
   "source": [
    "pos_weight = 5"
   ]
  },
  {
   "cell_type": "markdown",
   "metadata": {},
   "source": [
    "### Original ELMo"
   ]
  },
  {
   "cell_type": "code",
   "execution_count": 3,
   "metadata": {
    "pycharm": {
     "is_executing": true,
     "name": "#%%\n"
    }
   },
   "outputs": [
    {
     "name": "stderr",
     "output_type": "stream",
     "text": [
      "2019-08-02 09:53:41,749 INFO: char embedding size: 2289\n",
      "2019-08-02 09:53:42,424 INFO: word embedding size: 189561\n",
      "2019-08-02 09:53:47,081 INFO: Model(\n",
      "  (token_embedder): ConvTokenEmbedder(\n",
      "    (word_emb_layer): EmbeddingLayer(\n",
      "      (embedding): Embedding(189561, 100, padding_idx=3)\n",
      "    )\n",
      "    (char_emb_layer): EmbeddingLayer(\n",
      "      (embedding): Embedding(2289, 50, padding_idx=2286)\n",
      "    )\n",
      "    (convolutions): ModuleList(\n",
      "      (0): Conv1d(50, 32, kernel_size=(1,), stride=(1,))\n",
      "      (1): Conv1d(50, 32, kernel_size=(2,), stride=(1,))\n",
      "      (2): Conv1d(50, 64, kernel_size=(3,), stride=(1,))\n",
      "      (3): Conv1d(50, 128, kernel_size=(4,), stride=(1,))\n",
      "      (4): Conv1d(50, 256, kernel_size=(5,), stride=(1,))\n",
      "      (5): Conv1d(50, 512, kernel_size=(6,), stride=(1,))\n",
      "      (6): Conv1d(50, 1024, kernel_size=(7,), stride=(1,))\n",
      "    )\n",
      "    (highways): Highway(\n",
      "      (_layers): ModuleList(\n",
      "        (0): Linear(in_features=2048, out_features=4096, bias=True)\n",
      "        (1): Linear(in_features=2048, out_features=4096, bias=True)\n",
      "      )\n",
      "    )\n",
      "    (projection): Linear(in_features=2148, out_features=512, bias=True)\n",
      "  )\n",
      "  (encoder): ElmobiLm(\n",
      "    (forward_layer_0): LstmCellWithProjection(\n",
      "      (input_linearity): Linear(in_features=512, out_features=16384, bias=False)\n",
      "      (state_linearity): Linear(in_features=512, out_features=16384, bias=True)\n",
      "      (state_projection): Linear(in_features=4096, out_features=512, bias=False)\n",
      "    )\n",
      "    (backward_layer_0): LstmCellWithProjection(\n",
      "      (input_linearity): Linear(in_features=512, out_features=16384, bias=False)\n",
      "      (state_linearity): Linear(in_features=512, out_features=16384, bias=True)\n",
      "      (state_projection): Linear(in_features=4096, out_features=512, bias=False)\n",
      "    )\n",
      "    (forward_layer_1): LstmCellWithProjection(\n",
      "      (input_linearity): Linear(in_features=512, out_features=16384, bias=False)\n",
      "      (state_linearity): Linear(in_features=512, out_features=16384, bias=True)\n",
      "      (state_projection): Linear(in_features=4096, out_features=512, bias=False)\n",
      "    )\n",
      "    (backward_layer_1): LstmCellWithProjection(\n",
      "      (input_linearity): Linear(in_features=512, out_features=16384, bias=False)\n",
      "      (state_linearity): Linear(in_features=512, out_features=16384, bias=True)\n",
      "      (state_projection): Linear(in_features=4096, out_features=512, bias=False)\n",
      "    )\n",
      "  )\n",
      ")\n"
     ]
    }
   ],
   "source": [
    "elmo = load_model('original')\n",
    "ner_model = NER(elmo, pos_weight=pos_weight)\n",
    "ner_loader = NERLoader()\n",
    "data = ner_loader.load_data()\n",
    "train_set, test_set = train_test_split(data, test_size=0.2)"
   ]
  },
  {
   "cell_type": "code",
   "execution_count": 4,
   "metadata": {
    "pycharm": {
     "is_executing": true,
     "name": "#%%\n"
    },
    "scrolled": true
   },
   "outputs": [
    {
     "name": "stderr",
     "output_type": "stream",
     "text": [
      "  0%|                                                                                           | 0/10 [00:00<?, ?it/s]2019-08-02 09:53:51,134 INFO: 1 batches, avg len: 19.8\n",
      "2019-08-02 09:53:52,294 INFO: 1 batches, avg len: 22.2\n",
      "2019-08-02 09:53:53,123 INFO: 1 batches, avg len: 20.7\n",
      "2019-08-02 09:53:53,963 INFO: 1 batches, avg len: 23.8\n",
      "2019-08-02 09:53:54,641 INFO: 1 batches, avg len: 22.0\n",
      "2019-08-02 09:53:55,387 INFO: 1 batches, avg len: 19.0\n",
      "2019-08-02 09:53:55,892 INFO: 1 batches, avg len: 20.5\n",
      "2019-08-02 09:53:56,503 INFO: 1 batches, avg len: 20.5\n",
      "2019-08-02 09:53:57,061 INFO: 1 batches, avg len: 18.7\n",
      "2019-08-02 09:53:57,695 INFO: 1 batches, avg len: 18.8\n",
      "2019-08-02 09:53:58,333 INFO: 1 batches, avg len: 21.2\n",
      "2019-08-02 09:53:59,242 INFO: 1 batches, avg len: 21.6\n",
      "2019-08-02 09:53:59,916 INFO: 1 batches, avg len: 21.2\n",
      "2019-08-02 09:54:00,581 INFO: 1 batches, avg len: 20.2\n",
      "2019-08-02 09:54:01,183 INFO: 1 batches, avg len: 20.3\n",
      "2019-08-02 09:54:01,789 INFO: 1 batches, avg len: 22.6\n",
      "2019-08-02 09:54:02,548 INFO: 1 batches, avg len: 20.1\n",
      "2019-08-02 09:54:03,199 INFO: 1 batches, avg len: 22.2\n",
      "2019-08-02 09:54:03,824 INFO: 1 batches, avg len: 21.5\n",
      "2019-08-02 09:54:04,516 INFO: 1 batches, avg len: 20.6\n",
      "2019-08-02 09:54:05,159 INFO: 1 batches, avg len: 21.5\n",
      "2019-08-02 09:54:06,284 INFO: 1 batches, avg len: 23.0\n",
      "2019-08-02 09:54:07,177 INFO: 1 batches, avg len: 23.1\n",
      "2019-08-02 09:54:07,771 INFO: 1 batches, avg len: 21.4\n",
      "2019-08-02 09:54:08,426 INFO: 1 batches, avg len: 22.2\n",
      "2019-08-02 09:54:09,111 INFO: 1 batches, avg len: 22.7\n",
      "2019-08-02 09:54:09,936 INFO: 1 batches, avg len: 21.1\n",
      "2019-08-02 09:54:10,729 INFO: 1 batches, avg len: 22.5\n",
      "2019-08-02 09:54:11,484 INFO: 1 batches, avg len: 21.8\n",
      "2019-08-02 09:54:12,103 INFO: 1 batches, avg len: 19.3\n",
      "2019-08-02 09:54:12,788 INFO: 1 batches, avg len: 21.9\n",
      "2019-08-02 09:54:13,466 INFO: 1 batches, avg len: 20.5\n",
      "2019-08-02 09:54:14,089 INFO: 1 batches, avg len: 23.7\n",
      "2019-08-02 09:54:14,815 INFO: 1 batches, avg len: 22.1\n",
      "2019-08-02 09:54:15,602 INFO: 1 batches, avg len: 22.1\n",
      "2019-08-02 09:54:16,447 INFO: 1 batches, avg len: 24.0\n",
      "2019-08-02 09:54:17,108 INFO: 1 batches, avg len: 19.8\n",
      "2019-08-02 09:54:17,674 INFO: 1 batches, avg len: 22.3\n",
      "2019-08-02 09:54:18,501 INFO: 1 batches, avg len: 21.5\n",
      "2019-08-02 09:54:19,118 INFO: 1 batches, avg len: 19.8\n",
      "2019-08-02 09:54:19,783 INFO: 1 batches, avg len: 21.0\n",
      "2019-08-02 09:54:20,307 INFO: 1 batches, avg len: 12.6\n",
      "100%|██████████████████████████████████████████████████████████████████████████████████| 10/10 [00:29<00:00,  2.95s/it]\n"
     ]
    },
    {
     "data": {
      "text/plain": [
       "<elmo_on_md.evaluation.named_entitiy_recognition.NER at 0x1bc29ddfd30>"
      ]
     },
     "execution_count": 4,
     "metadata": {},
     "output_type": "execute_result"
    }
   ],
   "source": [
    "ner_model.train(train_set, ner_loader.types, n_epochs=10)"
   ]
  },
  {
   "cell_type": "code",
   "execution_count": 6,
   "metadata": {},
   "outputs": [
    {
     "name": "stderr",
     "output_type": "stream",
     "text": [
      "2019-08-02 09:54:33,126 INFO: 11 batches, avg len: 20.3\n",
      "C:\\Users\\Brus\\Anaconda3\\envs\\elmo\\lib\\site-packages\\sklearn\\metrics\\classification.py:1437: UndefinedMetricWarning: Precision and F-score are ill-defined and being set to 0.0 in labels with no predicted samples.\n",
      "  'precision', 'predicted', average, warn_for)\n"
     ]
    },
    {
     "name": "stdout",
     "output_type": "stream",
     "text": [
      "              precision    recall  f1-score   support\n",
      "\n",
      "        PERS       0.74      0.87      0.80       400\n",
      "        MISC       0.60      0.36      0.45       200\n",
      "         LOC       0.51      0.69      0.58       334\n",
      "        TIME       0.00      0.00      0.00        13\n",
      "       MONEY       0.80      0.90      0.84       121\n",
      "        DATE       0.91      0.21      0.34       143\n",
      "     PERCENT       1.00      0.09      0.17        44\n",
      "         ORG       0.33      0.43      0.37       330\n",
      "\n",
      "   micro avg       0.57      0.59      0.58      1585\n",
      "   macro avg       0.61      0.44      0.45      1585\n",
      "weighted avg       0.61      0.59      0.56      1585\n",
      "\n"
     ]
    }
   ],
   "source": [
    "from sklearn.metrics import classification_report\n",
    "\n",
    "y_pred = ner_model.predict(test_set)\n",
    "y_true = ner_model._create_labels(test_set, y_pred.shape[1], ner_loader.types).to('cpu')\n",
    "desired_labels = range(len(ner_loader.types))\n",
    "report = classification_report(y_true, y_pred.flatten(), labels=desired_labels,target_names=ner_loader.types)\n",
    "print(report)"
   ]
  },
  {
   "cell_type": "markdown",
   "metadata": {},
   "source": [
    "### The new Enhanced ELMo"
   ]
  },
  {
   "cell_type": "code",
   "execution_count": 10,
   "metadata": {},
   "outputs": [],
   "source": [
    "elmo = load_model('pos_factor_30')\n",
    "ner_model = NER(elmo, pos_weight=pos_weight)\n",
    "ner_loader = NERLoader()\n",
    "data = ner_loader.load_data()\n",
    "train_set, test_set = train_test_split(data, test_size=0.2)"
   ]
  },
  {
   "cell_type": "code",
   "execution_count": 11,
   "metadata": {},
   "outputs": [
    {
     "name": "stderr",
     "output_type": "stream",
     "text": [
      "  0%|                                                                                           | 0/10 [00:00<?, ?it/s]2019-08-02 10:00:13,120 INFO: 1 batches, avg len: 22.2\n",
      "2019-08-02 10:00:13,933 INFO: 1 batches, avg len: 21.7\n",
      "2019-08-02 10:00:14,500 INFO: 1 batches, avg len: 21.1\n",
      "2019-08-02 10:00:15,074 INFO: 1 batches, avg len: 19.8\n",
      "2019-08-02 10:00:15,635 INFO: 1 batches, avg len: 21.2\n",
      "2019-08-02 10:00:16,480 INFO: 1 batches, avg len: 21.0\n",
      "2019-08-02 10:00:17,099 INFO: 1 batches, avg len: 20.2\n",
      "2019-08-02 10:00:17,672 INFO: 1 batches, avg len: 21.2\n",
      "2019-08-02 10:00:18,331 INFO: 1 batches, avg len: 21.6\n",
      "2019-08-02 10:00:19,084 INFO: 1 batches, avg len: 21.9\n",
      "2019-08-02 10:00:19,726 INFO: 1 batches, avg len: 22.9\n",
      "2019-08-02 10:00:20,411 INFO: 1 batches, avg len: 21.5\n",
      "2019-08-02 10:00:20,979 INFO: 1 batches, avg len: 19.8\n",
      "2019-08-02 10:00:21,682 INFO: 1 batches, avg len: 22.5\n",
      "2019-08-02 10:00:22,283 INFO: 1 batches, avg len: 18.1\n",
      "2019-08-02 10:00:22,811 INFO: 1 batches, avg len: 21.3\n",
      "2019-08-02 10:00:23,567 INFO: 1 batches, avg len: 19.6\n",
      "2019-08-02 10:00:24,250 INFO: 1 batches, avg len: 23.8\n",
      "2019-08-02 10:00:25,041 INFO: 1 batches, avg len: 23.0\n",
      "2019-08-02 10:00:25,699 INFO: 1 batches, avg len: 20.2\n",
      "2019-08-02 10:00:26,397 INFO: 1 batches, avg len: 21.4\n",
      "2019-08-02 10:00:27,386 INFO: 1 batches, avg len: 18.7\n",
      "2019-08-02 10:00:27,950 INFO: 1 batches, avg len: 19.9\n",
      "2019-08-02 10:00:28,559 INFO: 1 batches, avg len: 20.3\n",
      "2019-08-02 10:00:29,182 INFO: 1 batches, avg len: 21.3\n",
      "2019-08-02 10:00:29,804 INFO: 1 batches, avg len: 19.2\n",
      "2019-08-02 10:00:30,450 INFO: 1 batches, avg len: 19.7\n",
      "2019-08-02 10:00:31,015 INFO: 1 batches, avg len: 22.5\n",
      "2019-08-02 10:00:31,685 INFO: 1 batches, avg len: 21.3\n",
      "2019-08-02 10:00:32,416 INFO: 1 batches, avg len: 21.9\n",
      "2019-08-02 10:00:32,955 INFO: 1 batches, avg len: 21.4\n",
      "2019-08-02 10:00:33,609 INFO: 1 batches, avg len: 21.5\n",
      "2019-08-02 10:00:34,194 INFO: 1 batches, avg len: 20.8\n",
      "2019-08-02 10:00:34,792 INFO: 1 batches, avg len: 22.6\n",
      "2019-08-02 10:00:35,612 INFO: 1 batches, avg len: 24.8\n",
      "2019-08-02 10:00:36,397 INFO: 1 batches, avg len: 20.2\n",
      "2019-08-02 10:00:37,184 INFO: 1 batches, avg len: 22.5\n",
      "2019-08-02 10:00:37,872 INFO: 1 batches, avg len: 20.0\n",
      "2019-08-02 10:00:38,461 INFO: 1 batches, avg len: 19.6\n",
      "2019-08-02 10:00:39,012 INFO: 1 batches, avg len: 20.3\n",
      "2019-08-02 10:00:39,580 INFO: 1 batches, avg len: 21.0\n",
      "2019-08-02 10:00:40,075 INFO: 1 batches, avg len: 16.7\n",
      "100%|██████████████████████████████████████████████████████████████████████████████████| 10/10 [00:27<00:00,  2.74s/it]\n"
     ]
    },
    {
     "data": {
      "text/plain": [
       "<elmo_on_md.evaluation.named_entitiy_recognition.NER at 0x1bc0f2cfa20>"
      ]
     },
     "execution_count": 11,
     "metadata": {},
     "output_type": "execute_result"
    }
   ],
   "source": [
    "ner_model.train(train_set, ner_loader.types, n_epochs=10)"
   ]
  },
  {
   "cell_type": "code",
   "execution_count": 12,
   "metadata": {},
   "outputs": [
    {
     "name": "stderr",
     "output_type": "stream",
     "text": [
      "2019-08-02 10:00:41,919 INFO: 11 batches, avg len: 21.1\n"
     ]
    },
    {
     "name": "stdout",
     "output_type": "stream",
     "text": [
      "              precision    recall  f1-score   support\n",
      "\n",
      "        PERS       0.79      0.81      0.80       479\n",
      "        MISC       0.76      0.12      0.21       208\n",
      "         LOC       0.49      0.47      0.48       329\n",
      "        TIME       0.00      0.00      0.00         5\n",
      "       MONEY       0.81      0.77      0.79        95\n",
      "        DATE       1.00      0.02      0.03       133\n",
      "     PERCENT       0.00      0.00      0.00        52\n",
      "         ORG       0.45      0.34      0.39       400\n",
      "\n",
      "   micro avg       0.63      0.46      0.53      1701\n",
      "   macro avg       0.54      0.32      0.34      1701\n",
      "weighted avg       0.64      0.46      0.48      1701\n",
      "\n"
     ]
    }
   ],
   "source": [
    "from sklearn.metrics import classification_report\n",
    "\n",
    "y_pred = ner_model.predict(test_set)\n",
    "y_true = ner_model._create_labels(test_set, y_pred.shape[1], ner_loader.types).to('cpu')\n",
    "desired_labels = range(len(ner_loader.types))\n",
    "report = classification_report(y_true, y_pred.flatten(), labels=desired_labels,target_names=ner_loader.types)\n",
    "print(report)"
   ]
  }
 ],
 "metadata": {
  "kernelspec": {
   "display_name": "Python 3",
   "language": "python",
   "name": "python3"
  },
  "language_info": {
   "codemirror_mode": {
    "name": "ipython",
    "version": 3
   },
   "file_extension": ".py",
   "mimetype": "text/x-python",
   "name": "python",
   "nbconvert_exporter": "python",
   "pygments_lexer": "ipython3",
   "version": "3.6.8"
  },
  "pycharm": {
   "stem_cell": {
    "cell_type": "raw",
    "metadata": {
     "collapsed": false
    },
    "source": []
   }
  }
 },
 "nbformat": 4,
 "nbformat_minor": 1
}
