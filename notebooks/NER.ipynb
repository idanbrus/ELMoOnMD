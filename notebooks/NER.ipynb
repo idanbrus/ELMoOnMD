{
 "cells": [
  {
   "cell_type": "code",
   "execution_count": 1,
   "metadata": {
    "pycharm": {
     "is_executing": false,
     "name": "#%%\n"
    }
   },
   "outputs": [],
   "source": [
    "%load_ext autoreload\n",
    "%autoreload 2\n",
    "\n",
    "import sys, os\n",
    "sys.path.append('../')\n",
    "from sklearn.model_selection import train_test_split\n",
    "from sklearn.metrics import classification_report\n",
    "\n",
    "from elmo_on_md.data_loaders.ner_loader import NERLoader\n",
    "from elmo_on_md.evaluation.model_loader import load_model\n",
    "from elmo_on_md.evaluation.named_entitiy_recognition import NER"
   ]
  },
  {
   "cell_type": "code",
   "execution_count": 2,
   "metadata": {},
   "outputs": [],
   "source": [
    "pos_weight = 7\n",
    "random_state = 7\n",
    "\n",
    "ner_loader = NERLoader()\n",
    "data = ner_loader.load_data()\n",
    "train_set, test_set = train_test_split(data, test_size=0.2, random_state = random_state)"
   ]
  },
  {
   "cell_type": "markdown",
   "metadata": {},
   "source": [
    "### Original ELMo"
   ]
  },
  {
   "cell_type": "code",
   "execution_count": 3,
   "metadata": {
    "pycharm": {
     "is_executing": true,
     "name": "#%%\n"
    },
    "scrolled": true
   },
   "outputs": [
    {
     "name": "stderr",
     "output_type": "stream",
     "text": [
      "2019-08-17 21:47:06,067 INFO: char embedding size: 2289\n",
      "2019-08-17 21:47:06,759 INFO: word embedding size: 189561\n",
      "2019-08-17 21:47:11,469 INFO: Model(\n",
      "  (token_embedder): ConvTokenEmbedder(\n",
      "    (word_emb_layer): EmbeddingLayer(\n",
      "      (embedding): Embedding(189561, 100, padding_idx=3)\n",
      "    )\n",
      "    (char_emb_layer): EmbeddingLayer(\n",
      "      (embedding): Embedding(2289, 50, padding_idx=2286)\n",
      "    )\n",
      "    (convolutions): ModuleList(\n",
      "      (0): Conv1d(50, 32, kernel_size=(1,), stride=(1,))\n",
      "      (1): Conv1d(50, 32, kernel_size=(2,), stride=(1,))\n",
      "      (2): Conv1d(50, 64, kernel_size=(3,), stride=(1,))\n",
      "      (3): Conv1d(50, 128, kernel_size=(4,), stride=(1,))\n",
      "      (4): Conv1d(50, 256, kernel_size=(5,), stride=(1,))\n",
      "      (5): Conv1d(50, 512, kernel_size=(6,), stride=(1,))\n",
      "      (6): Conv1d(50, 1024, kernel_size=(7,), stride=(1,))\n",
      "    )\n",
      "    (highways): Highway(\n",
      "      (_layers): ModuleList(\n",
      "        (0): Linear(in_features=2048, out_features=4096, bias=True)\n",
      "        (1): Linear(in_features=2048, out_features=4096, bias=True)\n",
      "      )\n",
      "    )\n",
      "    (projection): Linear(in_features=2148, out_features=512, bias=True)\n",
      "  )\n",
      "  (encoder): ElmobiLm(\n",
      "    (forward_layer_0): LstmCellWithProjection(\n",
      "      (input_linearity): Linear(in_features=512, out_features=16384, bias=False)\n",
      "      (state_linearity): Linear(in_features=512, out_features=16384, bias=True)\n",
      "      (state_projection): Linear(in_features=4096, out_features=512, bias=False)\n",
      "    )\n",
      "    (backward_layer_0): LstmCellWithProjection(\n",
      "      (input_linearity): Linear(in_features=512, out_features=16384, bias=False)\n",
      "      (state_linearity): Linear(in_features=512, out_features=16384, bias=True)\n",
      "      (state_projection): Linear(in_features=4096, out_features=512, bias=False)\n",
      "    )\n",
      "    (forward_layer_1): LstmCellWithProjection(\n",
      "      (input_linearity): Linear(in_features=512, out_features=16384, bias=False)\n",
      "      (state_linearity): Linear(in_features=512, out_features=16384, bias=True)\n",
      "      (state_projection): Linear(in_features=4096, out_features=512, bias=False)\n",
      "    )\n",
      "    (backward_layer_1): LstmCellWithProjection(\n",
      "      (input_linearity): Linear(in_features=512, out_features=16384, bias=False)\n",
      "      (state_linearity): Linear(in_features=512, out_features=16384, bias=True)\n",
      "      (state_projection): Linear(in_features=4096, out_features=512, bias=False)\n",
      "    )\n",
      "  )\n",
      ")\n",
      "2019-08-17 21:47:18,788 INFO: 42 batches, avg len: 21.0\n",
      "2019-08-17 21:47:22,584 INFO: Finished 1000 sentences.\n",
      "2019-08-17 21:47:25,933 INFO: Finished 2000 sentences.\n",
      "2019-08-17 21:47:32,058 INFO: 11 batches, avg len: 21.6\n"
     ]
    },
    {
     "name": "stdout",
     "output_type": "stream",
     "text": [
      "Epoch: 0\t Train Loss: 0.34759122133255005\t Validation Loss: 0.30664557218551636\n",
      "Epoch: 1\t Train Loss: 0.16652123630046844\t Validation Loss: 0.19582664966583252\n",
      "Epoch: 2\t Train Loss: 0.13033396005630493\t Validation Loss: 0.16199418902397156\n",
      "Epoch: 3\t Train Loss: 0.11020185053348541\t Validation Loss: 0.14724349975585938\n",
      "Epoch: 4\t Train Loss: 0.08663025498390198\t Validation Loss: 0.13859716057777405\n",
      "Epoch: 5\t Train Loss: 0.06982453912496567\t Validation Loss: 0.13293901085853577\n",
      "Epoch: 6\t Train Loss: 0.06554021686315536\t Validation Loss: 0.13033433258533478\n",
      "Epoch: 7\t Train Loss: 0.055042609572410583\t Validation Loss: 0.12927770614624023\n",
      "Epoch: 8\t Train Loss: 0.050155159085989\t Validation Loss: 0.13703952729701996\n",
      "Epoch: 9\t Train Loss: 0.049948617815971375\t Validation Loss: 0.12496048212051392\n",
      "Epoch: 10\t Train Loss: 0.045917145907878876\t Validation Loss: 0.128797248005867\n",
      "Epoch: 11\t Train Loss: 0.033340729773044586\t Validation Loss: 0.12669862806797028\n",
      "Epoch: 12\t Train Loss: 0.023731360211968422\t Validation Loss: 0.13665547966957092\n",
      "Epoch: 13\t Train Loss: 0.013643781654536724\t Validation Loss: 0.14219596982002258\n",
      "Epoch: 14\t Train Loss: 0.012040323577821255\t Validation Loss: 0.1413538157939911\n",
      "Epoch: 15\t Train Loss: 0.011493166908621788\t Validation Loss: 0.16076692938804626\n",
      "Epoch: 16\t Train Loss: 0.011018949560821056\t Validation Loss: 0.17129474878311157\n",
      "Epoch: 17\t Train Loss: 0.01076239999383688\t Validation Loss: 0.1587037593126297\n",
      "Epoch: 18\t Train Loss: 0.009397209621965885\t Validation Loss: 0.17536336183547974\n",
      "Epoch: 19\t Train Loss: 0.010435083881020546\t Validation Loss: 0.18745164573192596\n",
      "Epoch: 20\t Train Loss: 0.0037625592667609453\t Validation Loss: 0.1715306043624878\n",
      "Epoch: 21\t Train Loss: 0.0044964454136788845\t Validation Loss: 0.1843588650226593\n",
      "Epoch: 22\t Train Loss: 0.0128796910867095\t Validation Loss: 0.19610664248466492\n",
      "Epoch: 23\t Train Loss: 0.016764575615525246\t Validation Loss: 0.1670980155467987\n",
      "Epoch: 24\t Train Loss: 0.008753993548452854\t Validation Loss: 0.16426856815814972\n",
      "Epoch: 25\t Train Loss: 0.005189618561416864\t Validation Loss: 0.1587008237838745\n",
      "Epoch: 26\t Train Loss: 0.0015586103545501828\t Validation Loss: 0.1974697709083557\n",
      "Epoch: 27\t Train Loss: 0.0023741116747260094\t Validation Loss: 0.22451907396316528\n",
      "Epoch: 28\t Train Loss: 0.0029817502945661545\t Validation Loss: 0.23007813096046448\n",
      "Epoch: 29\t Train Loss: 0.00321169663220644\t Validation Loss: 0.22391818463802338\n",
      "Epoch: 30\t Train Loss: 0.0022666053846478462\t Validation Loss: 0.2529655396938324\n",
      "Epoch: 31\t Train Loss: 0.0009530908428132534\t Validation Loss: 0.2700314223766327\n",
      "Epoch: 32\t Train Loss: 0.0010017319582402706\t Validation Loss: 0.2812495231628418\n",
      "Epoch: 33\t Train Loss: 0.0012937162537127733\t Validation Loss: 0.2601584494113922\n",
      "Epoch: 34\t Train Loss: 0.0016604705015197396\t Validation Loss: 0.3094918131828308\n",
      "Epoch: 35\t Train Loss: 0.0008937818347476423\t Validation Loss: 0.3005664646625519\n",
      "Epoch: 36\t Train Loss: 0.0020456924103200436\t Validation Loss: 0.3543975055217743\n",
      "Epoch: 37\t Train Loss: 0.001180196413770318\t Validation Loss: 0.35375073552131653\n",
      "Epoch: 38\t Train Loss: 0.0013244436122477055\t Validation Loss: 0.33839818835258484\n",
      "Epoch: 39\t Train Loss: 0.0017400539945811033\t Validation Loss: 0.3231803774833679\n",
      "Epoch: 40\t Train Loss: 0.0019213539781048894\t Validation Loss: 0.32196977734565735\n",
      "Epoch: 41\t Train Loss: 0.000497778644785285\t Validation Loss: 0.24024459719657898\n",
      "Epoch: 42\t Train Loss: 0.0011952293571084738\t Validation Loss: 0.2505050599575043\n",
      "Epoch: 43\t Train Loss: 0.0009166228701360524\t Validation Loss: 0.24125854671001434\n",
      "Epoch: 44\t Train Loss: 0.0009334593778476119\t Validation Loss: 0.25043991208076477\n",
      "Epoch: 45\t Train Loss: 0.0012386463349685073\t Validation Loss: 0.24550698697566986\n",
      "Epoch: 46\t Train Loss: 0.0015187389217317104\t Validation Loss: 0.22877579927444458\n",
      "Epoch: 47\t Train Loss: 0.0010185842402279377\t Validation Loss: 0.2522259056568146\n",
      "Epoch: 48\t Train Loss: 0.0005065579316578805\t Validation Loss: 0.2588203251361847\n",
      "Epoch: 49\t Train Loss: 0.0016775114927440882\t Validation Loss: 0.2810603380203247\n"
     ]
    },
    {
     "data": {
      "text/plain": [
       "<elmo_on_md.evaluation.named_entitiy_recognition.NER at 0x2640ed18d68>"
      ]
     },
     "execution_count": 3,
     "metadata": {},
     "output_type": "execute_result"
    }
   ],
   "source": [
    "elmo = load_model('original')\n",
    "ner_model.train(train_set, test_set, ner_loader.types, n_epochs=50)"
   ]
  },
  {
   "cell_type": "code",
   "execution_count": 4,
   "metadata": {},
   "outputs": [
    {
     "name": "stderr",
     "output_type": "stream",
     "text": [
      "2019-08-17 21:49:07,484 INFO: 11 batches, avg len: 21.6\n"
     ]
    },
    {
     "name": "stdout",
     "output_type": "stream",
     "text": [
      "              precision    recall  f1-score   support\n",
      "\n",
      "        PERS       0.92      0.86      0.89       406\n",
      "        MISC       0.78      0.54      0.63       186\n",
      "         LOC       0.74      0.75      0.74       342\n",
      "        TIME       0.83      0.29      0.43        17\n",
      "       MONEY       0.96      0.97      0.97       133\n",
      "        DATE       0.84      0.78      0.81       113\n",
      "     PERCENT       0.91      0.95      0.93        44\n",
      "         ORG       0.62      0.64      0.63       412\n",
      "\n",
      "   micro avg       0.79      0.75      0.77      1653\n",
      "   macro avg       0.83      0.72      0.76      1653\n",
      "weighted avg       0.79      0.75      0.76      1653\n",
      "\n"
     ]
    }
   ],
   "source": [
    "y_pred = ner_model.predict(test_set)\n",
    "y_true = ner_model._create_labels(test_set, y_pred.shape[1], ner_loader.types).to('cpu')\n",
    "desired_labels = range(len(ner_loader.types))\n",
    "report = classification_report(y_true.flatten(), y_pred.flatten(), labels=desired_labels,target_names=ner_loader.types)\n",
    "print(report)"
   ]
  },
  {
   "cell_type": "markdown",
   "metadata": {},
   "source": [
    "### The new Enhanced ELMo"
   ]
  },
  {
   "cell_type": "code",
   "execution_count": 3,
   "metadata": {},
   "outputs": [
    {
     "name": "stderr",
     "output_type": "stream",
     "text": [
      "2019-08-17 21:54:06,723 INFO: 42 batches, avg len: 21.0\n",
      "2019-08-17 21:54:10,976 INFO: Finished 1000 sentences.\n",
      "2019-08-17 21:54:13,928 INFO: Finished 2000 sentences.\n",
      "2019-08-17 21:54:19,687 INFO: 11 batches, avg len: 21.6\n"
     ]
    },
    {
     "name": "stdout",
     "output_type": "stream",
     "text": [
      "Epoch: 0\t Train Loss: 0.4133738875389099\t Validation Loss: 0.3831273317337036\n",
      "Epoch: 1\t Train Loss: 0.26489901542663574\t Validation Loss: 0.2659037113189697\n",
      "Epoch: 2\t Train Loss: 0.2097492218017578\t Validation Loss: 0.21513010561466217\n",
      "Epoch: 3\t Train Loss: 0.13066917657852173\t Validation Loss: 0.19195672869682312\n",
      "Epoch: 4\t Train Loss: 0.11398670077323914\t Validation Loss: 0.17549945414066315\n",
      "Epoch: 5\t Train Loss: 0.11411567032337189\t Validation Loss: 0.1702551245689392\n",
      "Epoch: 6\t Train Loss: 0.08149869740009308\t Validation Loss: 0.16620494425296783\n",
      "Epoch: 7\t Train Loss: 0.08925852924585342\t Validation Loss: 0.15475761890411377\n",
      "Epoch: 8\t Train Loss: 0.07055612653493881\t Validation Loss: 0.15756797790527344\n",
      "Epoch: 9\t Train Loss: 0.0619855560362339\t Validation Loss: 0.15685847401618958\n",
      "Epoch: 10\t Train Loss: 0.0579092800617218\t Validation Loss: 0.15990108251571655\n",
      "Epoch: 11\t Train Loss: 0.039520014077425\t Validation Loss: 0.1642831563949585\n",
      "Epoch: 12\t Train Loss: 0.04038253426551819\t Validation Loss: 0.19390679895877838\n",
      "Epoch: 13\t Train Loss: 0.041390806436538696\t Validation Loss: 0.19445864856243134\n",
      "Epoch: 14\t Train Loss: 0.033224236220121384\t Validation Loss: 0.17197097837924957\n",
      "Epoch: 15\t Train Loss: 0.02825070545077324\t Validation Loss: 0.2270153909921646\n",
      "Epoch: 16\t Train Loss: 0.03145898878574371\t Validation Loss: 0.1962113082408905\n",
      "Epoch: 17\t Train Loss: 0.04723517596721649\t Validation Loss: 0.15227273106575012\n",
      "Epoch: 18\t Train Loss: 0.031564246863126755\t Validation Loss: 0.15151840448379517\n",
      "Epoch: 19\t Train Loss: 0.02592216432094574\t Validation Loss: 0.15885426104068756\n",
      "Epoch: 20\t Train Loss: 0.03203287720680237\t Validation Loss: 0.1620359569787979\n",
      "Epoch: 21\t Train Loss: 0.023243393748998642\t Validation Loss: 0.16833212971687317\n",
      "Epoch: 22\t Train Loss: 0.016896408051252365\t Validation Loss: 0.1826418936252594\n",
      "Epoch: 23\t Train Loss: 0.015012601390480995\t Validation Loss: 0.18609964847564697\n",
      "Epoch: 24\t Train Loss: 0.017416318878531456\t Validation Loss: 0.18573398888111115\n",
      "Epoch: 25\t Train Loss: 0.01360727846622467\t Validation Loss: 0.20062384009361267\n",
      "Epoch: 26\t Train Loss: 0.011607279069721699\t Validation Loss: 0.18722504377365112\n",
      "Epoch: 27\t Train Loss: 0.012035494670271873\t Validation Loss: 0.20287935435771942\n",
      "Epoch: 28\t Train Loss: 0.007856279611587524\t Validation Loss: 0.24702966213226318\n",
      "Epoch: 29\t Train Loss: 0.008130570873618126\t Validation Loss: 0.204219251871109\n",
      "Epoch: 30\t Train Loss: 0.005730495322495699\t Validation Loss: 0.22679932415485382\n",
      "Epoch: 31\t Train Loss: 0.006484688725322485\t Validation Loss: 0.26603779196739197\n",
      "Epoch: 32\t Train Loss: 0.0070147388614714146\t Validation Loss: 0.2734147310256958\n",
      "Epoch: 33\t Train Loss: 0.00669202720746398\t Validation Loss: 0.21828024089336395\n",
      "Epoch: 34\t Train Loss: 0.007862912490963936\t Validation Loss: 0.23028601706027985\n",
      "Epoch: 35\t Train Loss: 0.007334078196436167\t Validation Loss: 0.2307938188314438\n",
      "Epoch: 36\t Train Loss: 0.00898562092334032\t Validation Loss: 0.20845937728881836\n",
      "Epoch: 37\t Train Loss: 0.005988892633467913\t Validation Loss: 0.20910388231277466\n",
      "Epoch: 38\t Train Loss: 0.009200031869113445\t Validation Loss: 0.20956452190876007\n",
      "Epoch: 39\t Train Loss: 0.005365416407585144\t Validation Loss: 0.2063295990228653\n",
      "Epoch: 40\t Train Loss: 0.006146969273686409\t Validation Loss: 0.19975441694259644\n",
      "Epoch: 41\t Train Loss: 0.009876681491732597\t Validation Loss: 0.21537776291370392\n",
      "Epoch: 42\t Train Loss: 0.005627972073853016\t Validation Loss: 0.22617602348327637\n",
      "Epoch: 43\t Train Loss: 0.0036408461164683104\t Validation Loss: 0.24985699355602264\n",
      "Epoch: 44\t Train Loss: 0.0061698914505541325\t Validation Loss: 0.3067314326763153\n",
      "Epoch: 45\t Train Loss: 0.003438923740759492\t Validation Loss: 0.3078910708427429\n",
      "Epoch: 46\t Train Loss: 0.005906071979552507\t Validation Loss: 0.2968588173389435\n",
      "Epoch: 47\t Train Loss: 0.00342657626606524\t Validation Loss: 0.3032720386981964\n",
      "Epoch: 48\t Train Loss: 0.0017067290609702468\t Validation Loss: 0.30108609795570374\n",
      "Epoch: 49\t Train Loss: 0.0015959982993081212\t Validation Loss: 0.2971034348011017\n"
     ]
    },
    {
     "data": {
      "text/plain": [
       "<elmo_on_md.evaluation.named_entitiy_recognition.NER at 0x2024ac4a860>"
      ]
     },
     "execution_count": 3,
     "metadata": {},
     "output_type": "execute_result"
    }
   ],
   "source": [
    "elmo = load_model('pos_weight_8_lr_1e-5')\n",
    "ner_model = NER(elmo, pos_weight=pos_weight)\n",
    "\n",
    "ner_model.train(train_set, test_set, ner_loader.types, n_epochs=50)"
   ]
  },
  {
   "cell_type": "code",
   "execution_count": 4,
   "metadata": {},
   "outputs": [
    {
     "name": "stderr",
     "output_type": "stream",
     "text": [
      "2019-08-17 21:55:55,531 INFO: 11 batches, avg len: 21.6\n"
     ]
    },
    {
     "name": "stdout",
     "output_type": "stream",
     "text": [
      "              precision    recall  f1-score   support\n",
      "\n",
      "        PERS       0.85      0.87      0.86       406\n",
      "        MISC       0.60      0.51      0.55       186\n",
      "         LOC       0.69      0.75      0.72       342\n",
      "        TIME       1.00      0.12      0.21        17\n",
      "       MONEY       0.98      0.95      0.97       133\n",
      "        DATE       0.85      0.68      0.75       113\n",
      "     PERCENT       0.91      0.95      0.93        44\n",
      "         ORG       0.63      0.51      0.57       412\n",
      "\n",
      "   micro avg       0.75      0.70      0.73      1653\n",
      "   macro avg       0.81      0.67      0.69      1653\n",
      "weighted avg       0.75      0.70      0.72      1653\n",
      "\n"
     ]
    }
   ],
   "source": [
    "y_pred = ner_model.predict(test_set)\n",
    "y_true = ner_model._create_labels(test_set, y_pred.shape[1], ner_loader.types).to('cpu')\n",
    "desired_labels = range(len(ner_loader.types))\n",
    "report = classification_report(y_true.flatten(), y_pred.flatten(), labels=desired_labels,target_names=ner_loader.types)\n",
    "print(report)"
   ]
  }
 ],
 "metadata": {
  "kernelspec": {
   "display_name": "Python 3",
   "language": "python",
   "name": "python3"
  },
  "language_info": {
   "codemirror_mode": {
    "name": "ipython",
    "version": 3
   },
   "file_extension": ".py",
   "mimetype": "text/x-python",
   "name": "python",
   "nbconvert_exporter": "python",
   "pygments_lexer": "ipython3",
   "version": "3.6.8"
  },
  "pycharm": {
   "stem_cell": {
    "cell_type": "raw",
    "metadata": {
     "collapsed": false
    },
    "source": []
   }
  }
 },
 "nbformat": 4,
 "nbformat_minor": 1
}
