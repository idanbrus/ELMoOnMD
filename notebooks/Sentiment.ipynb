{
 "cells": [
  {
   "cell_type": "code",
   "execution_count": 3,
   "metadata": {
    "ExecuteTime": {
     "end_time": "2019-09-01T14:54:00.709950Z",
     "start_time": "2019-09-01T14:54:00.658946Z"
    }
   },
   "outputs": [
    {
     "name": "stdout",
     "output_type": "stream",
     "text": [
      "The autoreload extension is already loaded. To reload it, use:\n",
      "  %reload_ext autoreload\n"
     ]
    }
   ],
   "source": [
    "%load_ext autoreload\n",
    "%autoreload 2\n",
    "\n",
    "import sys, os\n",
    "sys.path.append('../')\n",
    "\n",
    "from typing import List,Dict\n",
    "from elmo_on_md.data_loaders.sentiment_loader import SentimentLoader\n",
    "from elmo_on_md.evaluation.sentiment_analysis import SentimentAnalysis\n",
    "from elmo_on_md.evaluation.model_loader import load_model\n",
    "\n",
    "from sklearn.model_selection import train_test_split\n",
    "from sklearn.metrics import confusion_matrix, classification_report\n",
    "\n",
    "import matplotlib.pyplot as plt\n",
    "%matplotlib inline"
   ]
  },
  {
   "cell_type": "code",
   "execution_count": 4,
   "metadata": {
    "ExecuteTime": {
     "end_time": "2019-09-01T14:54:02.832207Z",
     "start_time": "2019-09-01T14:54:01.690985Z"
    }
   },
   "outputs": [],
   "source": [
    "loader = SentimentLoader()\n",
    "sentiment_data = loader.load_data()\n",
    "\n",
    "sentences = sentiment_data['train']['sentences']\n",
    "labels = sentiment_data['train']['labels']\n",
    "\n",
    "tokens_train,tokens_test, labels_train,labels_test = train_test_split(sentences, labels, test_size=0.2, random_state=1)\n",
    "train_set = {'sentences':tokens_train,'labels':labels_train}\n",
    "validate_set = {'sentences':tokens_test,'labels':labels_test}"
   ]
  },
  {
   "cell_type": "markdown",
   "metadata": {},
   "source": [
    "### Original ELMo"
   ]
  },
  {
   "cell_type": "code",
   "execution_count": 3,
   "metadata": {
    "ExecuteTime": {
     "end_time": "2019-09-01T14:50:11.704984Z",
     "start_time": "2019-09-01T14:43:32.450597Z"
    },
    "scrolled": true
   },
   "outputs": [
    {
     "name": "stderr",
     "output_type": "stream",
     "text": [
      "2019-09-01 17:43:32,575 INFO: char embedding size: 2289\n",
      "2019-09-01 17:43:33,272 INFO: word embedding size: 189561\n",
      "2019-09-01 17:43:38,018 INFO: Model(\n",
      "  (token_embedder): ConvTokenEmbedder(\n",
      "    (word_emb_layer): EmbeddingLayer(\n",
      "      (embedding): Embedding(189561, 100, padding_idx=3)\n",
      "    )\n",
      "    (char_emb_layer): EmbeddingLayer(\n",
      "      (embedding): Embedding(2289, 50, padding_idx=2286)\n",
      "    )\n",
      "    (convolutions): ModuleList(\n",
      "      (0): Conv1d(50, 32, kernel_size=(1,), stride=(1,))\n",
      "      (1): Conv1d(50, 32, kernel_size=(2,), stride=(1,))\n",
      "      (2): Conv1d(50, 64, kernel_size=(3,), stride=(1,))\n",
      "      (3): Conv1d(50, 128, kernel_size=(4,), stride=(1,))\n",
      "      (4): Conv1d(50, 256, kernel_size=(5,), stride=(1,))\n",
      "      (5): Conv1d(50, 512, kernel_size=(6,), stride=(1,))\n",
      "      (6): Conv1d(50, 1024, kernel_size=(7,), stride=(1,))\n",
      "    )\n",
      "    (highways): Highway(\n",
      "      (_layers): ModuleList(\n",
      "        (0): Linear(in_features=2048, out_features=4096, bias=True)\n",
      "        (1): Linear(in_features=2048, out_features=4096, bias=True)\n",
      "      )\n",
      "    )\n",
      "    (projection): Linear(in_features=2148, out_features=512, bias=True)\n",
      "  )\n",
      "  (encoder): ElmobiLm(\n",
      "    (forward_layer_0): LstmCellWithProjection(\n",
      "      (input_linearity): Linear(in_features=512, out_features=16384, bias=False)\n",
      "      (state_linearity): Linear(in_features=512, out_features=16384, bias=True)\n",
      "      (state_projection): Linear(in_features=4096, out_features=512, bias=False)\n",
      "    )\n",
      "    (backward_layer_0): LstmCellWithProjection(\n",
      "      (input_linearity): Linear(in_features=512, out_features=16384, bias=False)\n",
      "      (state_linearity): Linear(in_features=512, out_features=16384, bias=True)\n",
      "      (state_projection): Linear(in_features=4096, out_features=512, bias=False)\n",
      "    )\n",
      "    (forward_layer_1): LstmCellWithProjection(\n",
      "      (input_linearity): Linear(in_features=512, out_features=16384, bias=False)\n",
      "      (state_linearity): Linear(in_features=512, out_features=16384, bias=True)\n",
      "      (state_projection): Linear(in_features=4096, out_features=512, bias=False)\n",
      "    )\n",
      "    (backward_layer_1): LstmCellWithProjection(\n",
      "      (input_linearity): Linear(in_features=512, out_features=16384, bias=False)\n",
      "      (state_linearity): Linear(in_features=512, out_features=16384, bias=True)\n",
      "      (state_projection): Linear(in_features=4096, out_features=512, bias=False)\n",
      "    )\n",
      "  )\n",
      ")\n",
      "2019-09-01 17:43:58,379 INFO: 257 batches, avg len: 22.3\n",
      "2019-09-01 17:44:03,005 INFO: Finished 1000 sentences.\n",
      "2019-09-01 17:44:07,275 INFO: Finished 2000 sentences.\n",
      "2019-09-01 17:44:12,882 INFO: Finished 3000 sentences.\n",
      "2019-09-01 17:44:19,246 INFO: Finished 4000 sentences.\n",
      "2019-09-01 17:44:23,863 INFO: Finished 5000 sentences.\n",
      "2019-09-01 17:44:28,721 INFO: Finished 6000 sentences.\n",
      "2019-09-01 17:44:34,795 INFO: Finished 7000 sentences.\n",
      "2019-09-01 17:44:39,370 INFO: Finished 8000 sentences.\n",
      "2019-09-01 17:44:46,049 INFO: 65 batches, avg len: 22.6\n",
      "2019-09-01 17:44:50,350 INFO: Finished 1000 sentences.\n",
      "2019-09-01 17:44:56,418 INFO: Finished 2000 sentences.\n",
      "..\\elmo_on_md\\evaluation\\sentiment_analysis.py:40: UserWarning: Implicit dimension choice for softmax has been deprecated. Change the call to include dim=X as an argument.\n",
      "  output = self.softmax(output)\n"
     ]
    },
    {
     "name": "stdout",
     "output_type": "stream",
     "text": [
      "Epoch: 0\t Train Loss: 1.1235072612762451\t\n",
      "Epoch: 1\t Train Loss: 1.222253441810608\t\n",
      "Epoch: 2\t Train Loss: 1.0119001865386963\t\n",
      "Epoch: 3\t Train Loss: 0.759834885597229\t\n",
      "Epoch: 4\t Train Loss: 0.5796594023704529\t\n",
      "Epoch: 5\t Train Loss: 0.6713117361068726\t\n",
      "Epoch: 6\t Train Loss: 0.5812109708786011\t\n",
      "Epoch: 7\t Train Loss: 0.5967259407043457\t\n",
      "Epoch: 8\t Train Loss: 0.5742737650871277\t\n",
      "Epoch: 9\t Train Loss: 0.5597250461578369\t\n",
      "Epoch: 10\t Train Loss: 0.5662811398506165\t\n",
      "Epoch: 11\t Train Loss: 0.5628848671913147\t\n",
      "Epoch: 12\t Train Loss: 0.5587441921234131\t\n",
      "Epoch: 13\t Train Loss: 0.5574495792388916\t\n",
      "Epoch: 14\t Train Loss: 0.5545092821121216\t\n",
      "Epoch: 15\t Train Loss: 0.5527603030204773\t\n",
      "Epoch: 16\t Train Loss: 0.5539493560791016\t\n",
      "Epoch: 17\t Train Loss: 0.5614719390869141\t\n",
      "Epoch: 18\t Train Loss: 0.5533530116081238\t\n",
      "Epoch: 19\t Train Loss: 0.5543757081031799\t\n",
      "Epoch: 20\t Train Loss: 0.5602818131446838\t\n",
      "Epoch: 21\t Train Loss: 0.5523852705955505\t\n",
      "Epoch: 22\t Train Loss: 0.5519161820411682\t\n",
      "Epoch: 23\t Train Loss: 0.5517756938934326\t\n",
      "Epoch: 24\t Train Loss: 0.5532475113868713\t\n",
      "Epoch: 25\t Train Loss: 0.5528453588485718\t\n",
      "Epoch: 26\t Train Loss: 0.5515443086624146\t\n",
      "Epoch: 27\t Train Loss: 0.5517011880874634\t\n",
      "Epoch: 28\t Train Loss: 0.5517609715461731\t\n",
      "Epoch: 29\t Train Loss: 0.5518407821655273\t\n",
      "Epoch: 30\t Train Loss: 0.5519474148750305\t\n",
      "Epoch: 31\t Train Loss: 0.5514964461326599\t\n",
      "Epoch: 32\t Train Loss: 0.5520872473716736\t\n",
      "Epoch: 33\t Train Loss: 0.551520586013794\t\n",
      "Epoch: 34\t Train Loss: 0.5531249642372131\t\n",
      "Epoch: 35\t Train Loss: 0.5518252849578857\t\n",
      "Epoch: 36\t Train Loss: 0.5564582347869873\t\n",
      "Epoch: 37\t Train Loss: 0.5523710250854492\t\n",
      "Epoch: 38\t Train Loss: 0.5515745878219604\t\n",
      "Epoch: 39\t Train Loss: 0.5514899492263794\t\n",
      "Epoch: 40\t Train Loss: 0.5519454479217529\t\n",
      "Epoch: 41\t Train Loss: 0.551518440246582\t\n",
      "Epoch: 42\t Train Loss: 0.5514777898788452\t\n",
      "Epoch: 43\t Train Loss: 0.5515152812004089\t\n",
      "Epoch: 44\t Train Loss: 0.551520049571991\t\n",
      "Epoch: 45\t Train Loss: 0.5521669983863831\t\n",
      "Epoch: 46\t Train Loss: 0.5517191290855408\t\n",
      "Epoch: 47\t Train Loss: 0.5514584183692932\t\n",
      "Epoch: 48\t Train Loss: 0.5517259836196899\t\n",
      "Epoch: 49\t Train Loss: 0.5516432523727417\t\n"
     ]
    },
    {
     "data": {
      "text/plain": [
       "<elmo_on_md.evaluation.sentiment_analysis.SentimentAnalysis at 0x1a6556f0898>"
      ]
     },
     "execution_count": 3,
     "metadata": {},
     "output_type": "execute_result"
    }
   ],
   "source": [
    "elmo = load_model('original', batch_size = 32)\n",
    "sentiment = SentimentAnalysis([elmo],lr=1e-4)\n",
    "\n",
    "sentiment.train(train_set,validate_set,n_epochs=50, batch_size = 64)"
   ]
  },
  {
   "cell_type": "code",
   "execution_count": 4,
   "metadata": {
    "ExecuteTime": {
     "end_time": "2019-09-01T14:50:32.629121Z",
     "start_time": "2019-09-01T14:50:11.706984Z"
    }
   },
   "outputs": [
    {
     "name": "stderr",
     "output_type": "stream",
     "text": [
      "2019-09-01 17:50:17,957 INFO: 80 batches, avg len: 22.7\n",
      "2019-09-01 17:50:23,124 INFO: Finished 1000 sentences.\n",
      "2019-09-01 17:50:28,576 INFO: Finished 2000 sentences.\n"
     ]
    },
    {
     "name": "stdout",
     "output_type": "stream",
     "text": [
      "[[1409  261   28]\n",
      " [  81  692   17]\n",
      " [  11   30   31]]\n",
      "              precision    recall  f1-score   support\n",
      "\n",
      "    positive       0.94      0.83      0.88      1698\n",
      "    negative       0.70      0.88      0.78       790\n",
      "     neutral       0.41      0.43      0.42        72\n",
      "\n",
      "    accuracy                           0.83      2560\n",
      "   macro avg       0.68      0.71      0.69      2560\n",
      "weighted avg       0.85      0.83      0.84      2560\n",
      "\n"
     ]
    }
   ],
   "source": [
    "# train_preds = sentiment.predict(sentiment_data['train'])\n",
    "# print(confusion_matrix(sentiment_data['train']['labels'],train_preds))\n",
    "y_pred = sentiment.predict(sentiment_data['test'])\n",
    "y_true = sentiment_data['test']['labels']\n",
    "\n",
    "print(confusion_matrix(y_true,y_pred))\n",
    "print(classification_report(y_true, y_pred, target_names=['positive','negative','neutral']))"
   ]
  },
  {
   "cell_type": "markdown",
   "metadata": {},
   "source": [
    "### Dual model"
   ]
  },
  {
   "cell_type": "code",
   "execution_count": 3,
   "metadata": {
    "ExecuteTime": {
     "end_time": "2019-09-01T14:39:24.210065Z",
     "start_time": "2019-09-01T14:29:44.384602Z"
    },
    "scrolled": true
   },
   "outputs": [
    {
     "name": "stderr",
     "output_type": "stream",
     "text": [
      "2019-09-01 17:29:44,441 INFO: char embedding size: 2289\n",
      "2019-09-01 17:29:45,134 INFO: word embedding size: 189561\n",
      "2019-09-01 17:29:50,514 INFO: Model(\n",
      "  (token_embedder): ConvTokenEmbedder(\n",
      "    (word_emb_layer): EmbeddingLayer(\n",
      "      (embedding): Embedding(189561, 100, padding_idx=3)\n",
      "    )\n",
      "    (char_emb_layer): EmbeddingLayer(\n",
      "      (embedding): Embedding(2289, 50, padding_idx=2286)\n",
      "    )\n",
      "    (convolutions): ModuleList(\n",
      "      (0): Conv1d(50, 32, kernel_size=(1,), stride=(1,))\n",
      "      (1): Conv1d(50, 32, kernel_size=(2,), stride=(1,))\n",
      "      (2): Conv1d(50, 64, kernel_size=(3,), stride=(1,))\n",
      "      (3): Conv1d(50, 128, kernel_size=(4,), stride=(1,))\n",
      "      (4): Conv1d(50, 256, kernel_size=(5,), stride=(1,))\n",
      "      (5): Conv1d(50, 512, kernel_size=(6,), stride=(1,))\n",
      "      (6): Conv1d(50, 1024, kernel_size=(7,), stride=(1,))\n",
      "    )\n",
      "    (highways): Highway(\n",
      "      (_layers): ModuleList(\n",
      "        (0): Linear(in_features=2048, out_features=4096, bias=True)\n",
      "        (1): Linear(in_features=2048, out_features=4096, bias=True)\n",
      "      )\n",
      "    )\n",
      "    (projection): Linear(in_features=2148, out_features=512, bias=True)\n",
      "  )\n",
      "  (encoder): ElmobiLm(\n",
      "    (forward_layer_0): LstmCellWithProjection(\n",
      "      (input_linearity): Linear(in_features=512, out_features=16384, bias=False)\n",
      "      (state_linearity): Linear(in_features=512, out_features=16384, bias=True)\n",
      "      (state_projection): Linear(in_features=4096, out_features=512, bias=False)\n",
      "    )\n",
      "    (backward_layer_0): LstmCellWithProjection(\n",
      "      (input_linearity): Linear(in_features=512, out_features=16384, bias=False)\n",
      "      (state_linearity): Linear(in_features=512, out_features=16384, bias=True)\n",
      "      (state_projection): Linear(in_features=4096, out_features=512, bias=False)\n",
      "    )\n",
      "    (forward_layer_1): LstmCellWithProjection(\n",
      "      (input_linearity): Linear(in_features=512, out_features=16384, bias=False)\n",
      "      (state_linearity): Linear(in_features=512, out_features=16384, bias=True)\n",
      "      (state_projection): Linear(in_features=4096, out_features=512, bias=False)\n",
      "    )\n",
      "    (backward_layer_1): LstmCellWithProjection(\n",
      "      (input_linearity): Linear(in_features=512, out_features=16384, bias=False)\n",
      "      (state_linearity): Linear(in_features=512, out_features=16384, bias=True)\n",
      "      (state_projection): Linear(in_features=4096, out_features=512, bias=False)\n",
      "    )\n",
      "  )\n",
      ")\n",
      "2019-09-01 17:30:12,669 INFO: 257 batches, avg len: 22.3\n",
      "2019-09-01 17:30:19,741 INFO: Finished 1000 sentences.\n",
      "2019-09-01 17:30:24,664 INFO: Finished 2000 sentences.\n",
      "2019-09-01 17:30:29,885 INFO: Finished 3000 sentences.\n",
      "2019-09-01 17:30:34,586 INFO: Finished 4000 sentences.\n",
      "2019-09-01 17:30:39,688 INFO: Finished 5000 sentences.\n",
      "2019-09-01 17:30:43,673 INFO: Finished 6000 sentences.\n",
      "2019-09-01 17:30:48,889 INFO: Finished 7000 sentences.\n",
      "2019-09-01 17:30:53,446 INFO: Finished 8000 sentences.\n",
      "2019-09-01 17:31:13,123 INFO: 257 batches, avg len: 22.3\n",
      "2019-09-01 17:31:17,695 INFO: Finished 1000 sentences.\n",
      "2019-09-01 17:31:25,010 INFO: Finished 2000 sentences.\n",
      "2019-09-01 17:31:29,353 INFO: Finished 3000 sentences.\n",
      "2019-09-01 17:31:35,262 INFO: Finished 4000 sentences.\n",
      "2019-09-01 17:31:39,762 INFO: Finished 5000 sentences.\n",
      "2019-09-01 17:31:44,679 INFO: Finished 6000 sentences.\n",
      "2019-09-01 17:31:49,060 INFO: Finished 7000 sentences.\n",
      "2019-09-01 17:31:53,306 INFO: Finished 8000 sentences.\n",
      "2019-09-01 17:32:00,599 INFO: 65 batches, avg len: 22.6\n",
      "2019-09-01 17:32:06,105 INFO: Finished 1000 sentences.\n",
      "2019-09-01 17:32:11,019 INFO: Finished 2000 sentences.\n",
      "2019-09-01 17:32:16,197 INFO: 65 batches, avg len: 22.6\n",
      "2019-09-01 17:32:22,517 INFO: Finished 1000 sentences.\n",
      "2019-09-01 17:32:26,774 INFO: Finished 2000 sentences.\n",
      "..\\elmo_on_md\\evaluation\\sentiment_analysis.py:40: UserWarning: Implicit dimension choice for softmax has been deprecated. Change the call to include dim=X as an argument.\n",
      "  output = self.softmax(output)\n"
     ]
    },
    {
     "name": "stdout",
     "output_type": "stream",
     "text": [
      "Epoch: 0\t Train Loss: 1.1223949193954468\t\n",
      "Epoch: 1\t Train Loss: 1.4271427392959595\t\n",
      "Epoch: 2\t Train Loss: 1.1509649753570557\t\n",
      "Epoch: 3\t Train Loss: 0.7792381048202515\t\n",
      "Epoch: 4\t Train Loss: 0.6108531951904297\t\n",
      "Epoch: 5\t Train Loss: 0.5671049356460571\t\n",
      "Epoch: 6\t Train Loss: 0.593056857585907\t\n",
      "Epoch: 7\t Train Loss: 0.561571478843689\t\n",
      "Epoch: 8\t Train Loss: 0.5621851682662964\t\n",
      "Epoch: 9\t Train Loss: 0.55265212059021\t\n",
      "Epoch: 10\t Train Loss: 0.573776125907898\t\n",
      "Epoch: 11\t Train Loss: 0.5613865852355957\t\n",
      "Epoch: 12\t Train Loss: 0.5575268268585205\t\n",
      "Epoch: 13\t Train Loss: 0.554081380367279\t\n",
      "Epoch: 14\t Train Loss: 0.5538483262062073\t\n",
      "Epoch: 15\t Train Loss: 0.5527641177177429\t\n",
      "Epoch: 16\t Train Loss: 0.5520601272583008\t\n",
      "Epoch: 17\t Train Loss: 0.5523673295974731\t\n",
      "Epoch: 18\t Train Loss: 0.5518531799316406\t\n",
      "Epoch: 19\t Train Loss: 0.5524479746818542\t\n",
      "Epoch: 20\t Train Loss: 0.5516145825386047\t\n",
      "Epoch: 21\t Train Loss: 0.5518057942390442\t\n",
      "Epoch: 22\t Train Loss: 0.552434504032135\t\n",
      "Epoch: 23\t Train Loss: 0.5518765449523926\t\n",
      "Epoch: 24\t Train Loss: 0.5517885088920593\t\n",
      "Epoch: 25\t Train Loss: 0.5517923831939697\t\n",
      "Epoch: 26\t Train Loss: 0.5520279407501221\t\n",
      "Epoch: 27\t Train Loss: 0.5515406131744385\t\n",
      "Epoch: 28\t Train Loss: 0.5520713329315186\t\n",
      "Epoch: 29\t Train Loss: 0.5518949031829834\t\n",
      "Epoch: 30\t Train Loss: 0.5521611571311951\t\n",
      "Epoch: 31\t Train Loss: 0.5519256591796875\t\n",
      "Epoch: 32\t Train Loss: 0.5528047680854797\t\n",
      "Epoch: 33\t Train Loss: 0.5517123341560364\t\n",
      "Epoch: 34\t Train Loss: 0.5515777468681335\t\n",
      "Epoch: 35\t Train Loss: 0.5526876449584961\t\n",
      "Epoch: 36\t Train Loss: 0.5517173409461975\t\n",
      "Epoch: 37\t Train Loss: 0.5515069365501404\t\n",
      "Epoch: 38\t Train Loss: 0.5517152547836304\t\n",
      "Epoch: 39\t Train Loss: 0.5515933632850647\t\n",
      "Epoch: 40\t Train Loss: 0.55161452293396\t\n",
      "Epoch: 41\t Train Loss: 0.5514531135559082\t\n",
      "Epoch: 42\t Train Loss: 0.5525438785552979\t\n",
      "Epoch: 43\t Train Loss: 0.5516305565834045\t\n",
      "Epoch: 44\t Train Loss: 0.5514458417892456\t\n",
      "Epoch: 45\t Train Loss: 0.5516246557235718\t\n",
      "Epoch: 46\t Train Loss: 0.5514501333236694\t\n",
      "Epoch: 47\t Train Loss: 0.5515221953392029\t\n",
      "Epoch: 48\t Train Loss: 0.5514591932296753\t\n",
      "Epoch: 49\t Train Loss: 0.5514656901359558\t\n"
     ]
    },
    {
     "data": {
      "text/plain": [
       "<elmo_on_md.evaluation.sentiment_analysis.SentimentAnalysis at 0x2bd1bc47e10>"
      ]
     },
     "execution_count": 3,
     "metadata": {},
     "output_type": "execute_result"
    }
   ],
   "source": [
    "elmo = load_model('original', batch_size = 32)\n",
    "new_elmo = load_model('pos_weight8_lr-4_elmo_at_15_30_epochs')\n",
    "new_elmo.batch_size = 32\n",
    "sentiment = SentimentAnalysis([elmo, new_elmo],lr=1e-4)\n",
    "\n",
    "sentiment.train(train_set,validate_set,n_epochs=50, batch_size = 64)"
   ]
  },
  {
   "cell_type": "markdown",
   "metadata": {},
   "source": [
    "#### results"
   ]
  },
  {
   "cell_type": "code",
   "execution_count": 4,
   "metadata": {
    "ExecuteTime": {
     "end_time": "2019-09-01T14:40:05.289230Z",
     "start_time": "2019-09-01T14:39:24.212065Z"
    }
   },
   "outputs": [
    {
     "name": "stderr",
     "output_type": "stream",
     "text": [
      "2019-09-01 17:39:30,485 INFO: 80 batches, avg len: 22.7\n",
      "2019-09-01 17:39:36,072 INFO: Finished 1000 sentences.\n",
      "2019-09-01 17:39:39,836 INFO: Finished 2000 sentences.\n",
      "2019-09-01 17:39:49,682 INFO: 80 batches, avg len: 22.7\n",
      "2019-09-01 17:39:53,511 INFO: Finished 1000 sentences.\n",
      "2019-09-01 17:39:59,464 INFO: Finished 2000 sentences.\n"
     ]
    },
    {
     "name": "stdout",
     "output_type": "stream",
     "text": [
      "[[1432  248   18]\n",
      " [  51  732    7]\n",
      " [  14   29   29]]\n",
      "              precision    recall  f1-score   support\n",
      "\n",
      "    positive       0.96      0.84      0.90      1698\n",
      "    negative       0.73      0.93      0.81       790\n",
      "     neutral       0.54      0.40      0.46        72\n",
      "\n",
      "    accuracy                           0.86      2560\n",
      "   macro avg       0.74      0.72      0.72      2560\n",
      "weighted avg       0.87      0.86      0.86      2560\n",
      "\n"
     ]
    }
   ],
   "source": [
    "# train_preds = sentiment.predict(sentiment_data['train'])\n",
    "# print(confusion_matrix(sentiment_data['train']['labels'],train_preds))\n",
    "y_pred = sentiment.predict(sentiment_data['test'])\n",
    "y_true = sentiment_data['test']['labels']\n",
    "\n",
    "print(confusion_matrix(y_true,y_pred))\n",
    "print(classification_report(y_true, y_pred, target_names=['positive','negative','neutral']))"
   ]
  },
  {
   "cell_type": "markdown",
   "metadata": {},
   "source": [
    "# Our Model"
   ]
  },
  {
   "cell_type": "code",
   "execution_count": 5,
   "metadata": {
    "ExecuteTime": {
     "end_time": "2019-09-01T15:00:42.817623Z",
     "start_time": "2019-09-01T14:54:06.391859Z"
    }
   },
   "outputs": [
    {
     "name": "stderr",
     "output_type": "stream",
     "text": [
      "2019-09-01 17:54:29,412 INFO: 257 batches, avg len: 22.3\n",
      "2019-09-01 17:54:34,424 INFO: Finished 1000 sentences.\n",
      "2019-09-01 17:54:39,443 INFO: Finished 2000 sentences.\n",
      "2019-09-01 17:54:45,001 INFO: Finished 3000 sentences.\n",
      "2019-09-01 17:54:49,547 INFO: Finished 4000 sentences.\n",
      "2019-09-01 17:54:53,882 INFO: Finished 5000 sentences.\n",
      "2019-09-01 17:54:59,540 INFO: Finished 6000 sentences.\n",
      "2019-09-01 17:55:03,787 INFO: Finished 7000 sentences.\n",
      "2019-09-01 17:55:08,919 INFO: Finished 8000 sentences.\n",
      "2019-09-01 17:55:15,440 INFO: 65 batches, avg len: 22.6\n",
      "2019-09-01 17:55:21,484 INFO: Finished 1000 sentences.\n",
      "2019-09-01 17:55:26,096 INFO: Finished 2000 sentences.\n",
      "..\\elmo_on_md\\evaluation\\sentiment_analysis.py:40: UserWarning: Implicit dimension choice for softmax has been deprecated. Change the call to include dim=X as an argument.\n",
      "  output = self.softmax(output)\n"
     ]
    },
    {
     "name": "stdout",
     "output_type": "stream",
     "text": [
      "Epoch: 0\t Train Loss: 1.1858340501785278\t\n",
      "Epoch: 1\t Train Loss: 1.2816157341003418\t\n",
      "Epoch: 2\t Train Loss: 0.7523992657661438\t\n",
      "Epoch: 3\t Train Loss: 0.7508202791213989\t\n",
      "Epoch: 4\t Train Loss: 0.605176568031311\t\n",
      "Epoch: 5\t Train Loss: 0.5572603344917297\t\n",
      "Epoch: 6\t Train Loss: 0.5558092594146729\t\n",
      "Epoch: 7\t Train Loss: 0.560070812702179\t\n",
      "Epoch: 8\t Train Loss: 0.5581343173980713\t\n",
      "Epoch: 9\t Train Loss: 0.5531948208808899\t\n",
      "Epoch: 10\t Train Loss: 0.5604509711265564\t\n",
      "Epoch: 11\t Train Loss: 0.553894579410553\t\n",
      "Epoch: 12\t Train Loss: 0.5517213344573975\t\n",
      "Epoch: 13\t Train Loss: 0.5532650947570801\t\n",
      "Epoch: 14\t Train Loss: 0.5517301559448242\t\n",
      "Epoch: 15\t Train Loss: 0.552293598651886\t\n",
      "Epoch: 16\t Train Loss: 0.553195595741272\t\n",
      "Epoch: 17\t Train Loss: 0.5544922351837158\t\n",
      "Epoch: 18\t Train Loss: 0.5540428757667542\t\n",
      "Epoch: 19\t Train Loss: 0.5532054901123047\t\n",
      "Epoch: 20\t Train Loss: 0.5517415404319763\t\n",
      "Epoch: 21\t Train Loss: 0.5517334938049316\t\n",
      "Epoch: 22\t Train Loss: 0.5518262982368469\t\n",
      "Epoch: 23\t Train Loss: 0.5518923401832581\t\n",
      "Epoch: 24\t Train Loss: 0.5516822934150696\t\n",
      "Epoch: 25\t Train Loss: 0.5527760982513428\t\n",
      "Epoch: 26\t Train Loss: 0.5516088008880615\t\n",
      "Epoch: 27\t Train Loss: 0.5515742897987366\t\n",
      "Epoch: 28\t Train Loss: 0.5515598654747009\t\n",
      "Epoch: 29\t Train Loss: 0.552507221698761\t\n",
      "Epoch: 30\t Train Loss: 0.5524092316627502\t\n",
      "Epoch: 31\t Train Loss: 0.551570475101471\t\n",
      "Epoch: 32\t Train Loss: 0.552062451839447\t\n",
      "Epoch: 33\t Train Loss: 0.5518019795417786\t\n",
      "Epoch: 34\t Train Loss: 0.5514628887176514\t\n",
      "Epoch: 35\t Train Loss: 0.5514728426933289\t\n",
      "Epoch: 36\t Train Loss: 0.5514453053474426\t\n",
      "Epoch: 37\t Train Loss: 0.5517628788948059\t\n",
      "Epoch: 38\t Train Loss: 0.5594649910926819\t\n",
      "Epoch: 39\t Train Loss: 0.5517607927322388\t\n",
      "Epoch: 40\t Train Loss: 0.5529308319091797\t\n",
      "Epoch: 41\t Train Loss: 0.5516156554222107\t\n",
      "Epoch: 42\t Train Loss: 0.5517717599868774\t\n",
      "Epoch: 43\t Train Loss: 0.5514758229255676\t\n",
      "Epoch: 44\t Train Loss: 0.5515190362930298\t\n",
      "Epoch: 45\t Train Loss: 0.5514649748802185\t\n",
      "Epoch: 46\t Train Loss: 0.5515448451042175\t\n",
      "Epoch: 47\t Train Loss: 0.5514923334121704\t\n",
      "Epoch: 48\t Train Loss: 0.5521039366722107\t\n",
      "Epoch: 49\t Train Loss: 0.5514519214630127\t\n"
     ]
    },
    {
     "data": {
      "text/plain": [
       "<elmo_on_md.evaluation.sentiment_analysis.SentimentAnalysis at 0x1d723109da0>"
      ]
     },
     "execution_count": 5,
     "metadata": {},
     "output_type": "execute_result"
    }
   ],
   "source": [
    "new_elmo = load_model('pos_weight8_lr-4_elmo_at_15_30_epochs')\n",
    "new_elmo.batch_size = 32\n",
    "sentiment = SentimentAnalysis([new_elmo],lr=1e-4)\n",
    "\n",
    "sentiment.train(train_set,validate_set,n_epochs=50, batch_size = 64)"
   ]
  },
  {
   "cell_type": "code",
   "execution_count": 6,
   "metadata": {
    "ExecuteTime": {
     "end_time": "2019-09-01T15:01:03.878070Z",
     "start_time": "2019-09-01T15:00:42.819624Z"
    }
   },
   "outputs": [
    {
     "name": "stderr",
     "output_type": "stream",
     "text": [
      "2019-09-01 18:00:49,213 INFO: 80 batches, avg len: 22.7\n",
      "2019-09-01 18:00:54,631 INFO: Finished 1000 sentences.\n",
      "2019-09-01 18:00:59,536 INFO: Finished 2000 sentences.\n"
     ]
    },
    {
     "name": "stdout",
     "output_type": "stream",
     "text": [
      "[[1490  182   26]\n",
      " [ 114  652   24]\n",
      " [  14   22   36]]\n",
      "              precision    recall  f1-score   support\n",
      "\n",
      "         bad       0.92      0.88      0.90      1698\n",
      "     neutral       0.76      0.83      0.79       790\n",
      "        good       0.42      0.50      0.46        72\n",
      "\n",
      "    accuracy                           0.85      2560\n",
      "   macro avg       0.70      0.73      0.72      2560\n",
      "weighted avg       0.86      0.85      0.85      2560\n",
      "\n"
     ]
    }
   ],
   "source": [
    "y_pred = sentiment.predict(sentiment_data['test'])\n",
    "y_true = sentiment_data['test']['labels']\n",
    "\n",
    "print(confusion_matrix(y_true, y_pred))\n",
    "print(classification_report(y_true, y_pred, target_names=['bad','neutral','good']))"
   ]
  }
 ],
 "metadata": {
  "kernelspec": {
   "display_name": "Python 3",
   "language": "python",
   "name": "python3"
  },
  "language_info": {
   "codemirror_mode": {
    "name": "ipython",
    "version": 3
   },
   "file_extension": ".py",
   "mimetype": "text/x-python",
   "name": "python",
   "nbconvert_exporter": "python",
   "pygments_lexer": "ipython3",
   "version": "3.6.8"
  }
 },
 "nbformat": 4,
 "nbformat_minor": 2
}
