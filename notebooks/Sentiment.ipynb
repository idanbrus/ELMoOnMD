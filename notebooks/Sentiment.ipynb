{
 "cells": [
  {
   "cell_type": "code",
   "execution_count": 1,
   "metadata": {},
   "outputs": [],
   "source": [
    "%load_ext autoreload\n",
    "%autoreload 2\n",
    "\n",
    "import sys, os\n",
    "sys.path.append('../')\n",
    "\n",
    "from typing import List,Dict\n",
    "from elmo_on_md.data_loaders.sentiment_loader import SentimentLoader\n",
    "from elmo_on_md.evaluation.sentiment_analysis import SentimentAnalysis\n",
    "from elmo_on_md.evaluation.model_loader import load_model\n",
    "from ELMoForManyLangs.elmoformanylangs import Embedder\n",
    "\n",
    "import torch\n",
    "import torch.nn as nn\n",
    "import torch.nn.functional as F\n",
    "import torch.optim as optim\n",
    "from torch.optim import Adam\n",
    " \n",
    "import numpy as np\n",
    "import pandas as pd\n",
    "from sklearn.model_selection import train_test_split\n",
    "from sklearn.metrics import confusion_matrix\n",
    "\n",
    "import matplotlib.pyplot as plt\n",
    "%matplotlib inline\n"
   ]
  },
  {
   "cell_type": "code",
   "execution_count": 2,
   "metadata": {},
   "outputs": [],
   "source": [
    "loader = SentimentLoader()\n",
    "sentiment_data = loader.load_data()"
   ]
  },
  {
   "cell_type": "code",
   "execution_count": 5,
   "metadata": {},
   "outputs": [
    {
     "name": "stderr",
     "output_type": "stream",
     "text": [
      "I0816 23:20:21.262648 16540 elmo.py:133] char embedding size: 2289\n",
      "I0816 23:20:22.684382 16540 elmo.py:151] word embedding size: 189561\n",
      "I0816 23:20:28.095322 16540 elmo.py:162] Model(\n",
      "  (token_embedder): ConvTokenEmbedder(\n",
      "    (word_emb_layer): EmbeddingLayer(\n",
      "      (embedding): Embedding(189561, 100, padding_idx=3)\n",
      "    )\n",
      "    (char_emb_layer): EmbeddingLayer(\n",
      "      (embedding): Embedding(2289, 50, padding_idx=2286)\n",
      "    )\n",
      "    (convolutions): ModuleList(\n",
      "      (0): Conv1d(50, 32, kernel_size=(1,), stride=(1,))\n",
      "      (1): Conv1d(50, 32, kernel_size=(2,), stride=(1,))\n",
      "      (2): Conv1d(50, 64, kernel_size=(3,), stride=(1,))\n",
      "      (3): Conv1d(50, 128, kernel_size=(4,), stride=(1,))\n",
      "      (4): Conv1d(50, 256, kernel_size=(5,), stride=(1,))\n",
      "      (5): Conv1d(50, 512, kernel_size=(6,), stride=(1,))\n",
      "      (6): Conv1d(50, 1024, kernel_size=(7,), stride=(1,))\n",
      "    )\n",
      "    (highways): Highway(\n",
      "      (_layers): ModuleList(\n",
      "        (0): Linear(in_features=2048, out_features=4096, bias=True)\n",
      "        (1): Linear(in_features=2048, out_features=4096, bias=True)\n",
      "      )\n",
      "    )\n",
      "    (projection): Linear(in_features=2148, out_features=512, bias=True)\n",
      "  )\n",
      "  (encoder): ElmobiLm(\n",
      "    (forward_layer_0): LstmCellWithProjection(\n",
      "      (input_linearity): Linear(in_features=512, out_features=16384, bias=False)\n",
      "      (state_linearity): Linear(in_features=512, out_features=16384, bias=True)\n",
      "      (state_projection): Linear(in_features=4096, out_features=512, bias=False)\n",
      "    )\n",
      "    (backward_layer_0): LstmCellWithProjection(\n",
      "      (input_linearity): Linear(in_features=512, out_features=16384, bias=False)\n",
      "      (state_linearity): Linear(in_features=512, out_features=16384, bias=True)\n",
      "      (state_projection): Linear(in_features=4096, out_features=512, bias=False)\n",
      "    )\n",
      "    (forward_layer_1): LstmCellWithProjection(\n",
      "      (input_linearity): Linear(in_features=512, out_features=16384, bias=False)\n",
      "      (state_linearity): Linear(in_features=512, out_features=16384, bias=True)\n",
      "      (state_projection): Linear(in_features=4096, out_features=512, bias=False)\n",
      "    )\n",
      "    (backward_layer_1): LstmCellWithProjection(\n",
      "      (input_linearity): Linear(in_features=512, out_features=16384, bias=False)\n",
      "      (state_linearity): Linear(in_features=512, out_features=16384, bias=True)\n",
      "      (state_projection): Linear(in_features=4096, out_features=512, bias=False)\n",
      "    )\n",
      "  )\n",
      ")\n"
     ]
    },
    {
     "name": "stdout",
     "output_type": "stream",
     "text": [
      "0.0001\n"
     ]
    },
    {
     "name": "stderr",
     "output_type": "stream",
     "text": [
      "I0816 23:20:55.224915 16540 elmo.py:97] 129 batches, avg len: 18.6\n",
      "I0816 23:22:51.265885 16540 elmo.py:211] Finished 1000 sentences.\n",
      "I0816 23:23:54.091761 16540 elmo.py:211] Finished 2000 sentences.\n",
      "I0816 23:25:16.172173 16540 elmo.py:211] Finished 3000 sentences.\n",
      "I0816 23:26:56.127280 16540 elmo.py:211] Finished 4000 sentences.\n",
      "I0816 23:28:20.354943 16540 elmo.py:211] Finished 5000 sentences.\n",
      "I0816 23:29:35.205625 16540 elmo.py:211] Finished 6000 sentences.\n",
      "I0816 23:30:30.889241 16540 elmo.py:211] Finished 7000 sentences.\n",
      "I0816 23:31:31.910381 16540 elmo.py:211] Finished 8000 sentences.\n",
      "I0816 23:32:07.477554 16540 elmo.py:97] 33 batches, avg len: 18.9\n",
      "I0816 23:33:50.016207 16540 elmo.py:211] Finished 1000 sentences.\n",
      "I0816 23:34:54.039341 16540 elmo.py:211] Finished 2000 sentences.\n",
      "..\\elmo_on_md\\evaluation\\sentiment_analysis.py:26: UserWarning: Implicit dimension choice for softmax has been deprecated. Change the call to include dim=X as an argument.\n",
      "  output = self.softmax(output)\n"
     ]
    },
    {
     "name": "stdout",
     "output_type": "stream",
     "text": [
      "Epoch: 0\t Train Loss: 418.9075495004654\t Validation Loss: 1.0650625228881836\n"
     ]
    },
    {
     "name": "stderr",
     "output_type": "stream",
     "text": [
      "D:\\ProgramData\\Anaconda3\\lib\\site-packages\\sklearn\\metrics\\classification.py:1437: UndefinedMetricWarning: Precision and F-score are ill-defined and being set to 0.0 in labels with no predicted samples.\n",
      "  'precision', 'predicted', average, warn_for)\n"
     ]
    },
    {
     "name": "stdout",
     "output_type": "stream",
     "text": [
      "Epoch: 1\t Train Loss: 406.34952968358994\t Validation Loss: 1.0177041292190552\n",
      "Epoch: 2\t Train Loss: 385.0301075577736\t Validation Loss: 1.0039623975753784\n",
      "Epoch: 3\t Train Loss: 421.2224864959717\t Validation Loss: 1.1020267009735107\n",
      "Epoch: 4\t Train Loss: 421.242740213871\t Validation Loss: 1.075490951538086\n",
      "Epoch: 5\t Train Loss: 406.44196915626526\t Validation Loss: 1.059213399887085\n",
      "Epoch: 6\t Train Loss: 399.3147940635681\t Validation Loss: 1.0424540042877197\n",
      "Epoch: 7\t Train Loss: 396.15958321094513\t Validation Loss: 1.0498336553573608\n",
      "Epoch: 8\t Train Loss: 392.71207934617996\t Validation Loss: 1.0236924886703491\n",
      "Epoch: 9\t Train Loss: 378.6180145740509\t Validation Loss: 0.985181987285614\n",
      "Epoch: 10\t Train Loss: 367.55779337882996\t Validation Loss: 1.0101741552352905\n",
      "Epoch: 11\t Train Loss: 391.40442430973053\t Validation Loss: 1.0114729404449463\n",
      "Epoch: 12\t Train Loss: 379.39055836200714\t Validation Loss: 0.9967827796936035\n",
      "Epoch: 13\t Train Loss: 371.41229099035263\t Validation Loss: 0.9845505952835083\n",
      "Epoch: 14\t Train Loss: 363.83186835050583\t Validation Loss: 0.9811732172966003\n",
      "Epoch: 15\t Train Loss: 368.1465915441513\t Validation Loss: 0.9780584573745728\n",
      "Epoch: 16\t Train Loss: 380.34137338399887\t Validation Loss: 1.0289664268493652\n",
      "Epoch: 17\t Train Loss: 385.48783349990845\t Validation Loss: 1.068307876586914\n",
      "Epoch: 18\t Train Loss: 389.01321548223495\t Validation Loss: 1.0951459407806396\n",
      "Epoch: 19\t Train Loss: 407.74990278482437\t Validation Loss: 1.0617845058441162\n",
      "Epoch: 20\t Train Loss: 399.28460812568665\t Validation Loss: 1.0404415130615234\n",
      "Epoch: 21\t Train Loss: 390.9600477218628\t Validation Loss: 1.0328201055526733\n",
      "Epoch: 22\t Train Loss: 383.67030251026154\t Validation Loss: 1.0094594955444336\n",
      "Epoch: 23\t Train Loss: 371.15759378671646\t Validation Loss: 1.0899008512496948\n",
      "Epoch: 24\t Train Loss: 396.04752856492996\t Validation Loss: 1.0491559505462646\n",
      "Epoch: 25\t Train Loss: 388.33974784612656\t Validation Loss: 1.046962857246399\n",
      "Epoch: 26\t Train Loss: 385.27822172641754\t Validation Loss: 1.0442326068878174\n",
      "Epoch: 27\t Train Loss: 382.14212733507156\t Validation Loss: 1.0471376180648804\n",
      "Epoch: 28\t Train Loss: 379.33903098106384\t Validation Loss: 1.0453102588653564\n",
      "Epoch: 29\t Train Loss: 375.7350634932518\t Validation Loss: 1.04563570022583\n",
      "Epoch: 30\t Train Loss: 372.9400514960289\t Validation Loss: 1.0451717376708984\n",
      "Epoch: 31\t Train Loss: 369.383407831192\t Validation Loss: 1.03567373752594\n",
      "Epoch: 32\t Train Loss: 366.22270238399506\t Validation Loss: 1.027273416519165\n",
      "Epoch: 33\t Train Loss: 363.08720219135284\t Validation Loss: 1.0170167684555054\n",
      "Epoch: 34\t Train Loss: 361.1585386991501\t Validation Loss: 1.0316942930221558\n",
      "Epoch: 35\t Train Loss: 356.17423152923584\t Validation Loss: 0.9979279041290283\n",
      "Epoch: 36\t Train Loss: 349.86205065250397\t Validation Loss: 0.993678867816925\n",
      "Epoch: 37\t Train Loss: 343.0992600917816\t Validation Loss: 0.9855114817619324\n",
      "Epoch: 38\t Train Loss: 337.3004677891731\t Validation Loss: 0.9724789261817932\n",
      "Epoch: 39\t Train Loss: 333.9828017950058\t Validation Loss: 0.9498915672302246\n"
     ]
    },
    {
     "data": {
      "text/plain": [
       "<elmo_on_md.evaluation.sentiment_analysis.SentimentAnalysis at 0x1508949f978>"
      ]
     },
     "execution_count": 5,
     "metadata": {},
     "output_type": "execute_result"
    }
   ],
   "source": [
    "\n",
    "elmo = load_model('original')\n",
    "sentiment = SentimentAnalysis(elmo,lr=1e-4)\n",
    "sentences = sentiment_data['train']['sentences']\n",
    "labels = sentiment_data['train']['labels']\n",
    "\n",
    "tokens_train,tokens_test, labels_train,labels_test = train_test_split(sentences, labels, test_size=0.2, random_state=1)\n",
    "\n",
    "train_set = {'sentences':tokens_train,'labels':labels_train}\n",
    "validate_set = {'sentences':tokens_test,'labels':labels_test}\n",
    "\n",
    "sentiment.train(train_set,validate_set,n_epochs=40)\n",
    "\n"
   ]
  },
  {
   "cell_type": "code",
   "execution_count": 4,
   "metadata": {},
   "outputs": [
    {
     "name": "stderr",
     "output_type": "stream",
     "text": [
      "WARNING: Logging before flag parsing goes to stderr.\n",
      "I0816 23:03:50.467286 16540 elmo.py:97] 161 batches, avg len: 18.7\n",
      "I0816 23:05:10.108537 16540 elmo.py:211] Finished 1000 sentences.\n",
      "I0816 23:06:47.392971 16540 elmo.py:211] Finished 2000 sentences.\n",
      "I0816 23:07:44.254007 16540 elmo.py:211] Finished 3000 sentences.\n",
      "I0816 23:08:39.939246 16540 elmo.py:211] Finished 4000 sentences.\n",
      "I0816 23:09:41.714380 16540 elmo.py:211] Finished 5000 sentences.\n",
      "I0816 23:10:46.432189 16540 elmo.py:211] Finished 6000 sentences.\n",
      "I0816 23:12:04.525777 16540 elmo.py:211] Finished 7000 sentences.\n",
      "I0816 23:13:17.359844 16540 elmo.py:211] Finished 8000 sentences.\n",
      "I0816 23:14:42.605561 16540 elmo.py:211] Finished 9000 sentences.\n",
      "I0816 23:15:58.845119 16540 elmo.py:211] Finished 10000 sentences.\n"
     ]
    },
    {
     "name": "stdout",
     "output_type": "stream",
     "text": [
      "[[5078 1576  160]\n",
      " [ 298 2751   83]\n",
      " [  40   70  188]]\n"
     ]
    },
    {
     "name": "stderr",
     "output_type": "stream",
     "text": [
      "I0816 23:16:26.229613 16540 elmo.py:97] 40 batches, avg len: 18.9\n",
      "I0816 23:18:09.806802 16540 elmo.py:211] Finished 1000 sentences.\n",
      "I0816 23:19:29.191212 16540 elmo.py:211] Finished 2000 sentences.\n"
     ]
    },
    {
     "name": "stdout",
     "output_type": "stream",
     "text": [
      "[[1233  419   46]\n",
      " [  82  656   52]\n",
      " [  11   32   29]]\n"
     ]
    }
   ],
   "source": [
    "train_preds = sentiment.predict(sentiment_data['train'])\n",
    "print(confusion_matrix(sentiment_data['train']['labels'],train_preds))\n",
    "test_preds = sentiment.predict(sentiment_data['test'])\n",
    "print(confusion_matrix(sentiment_data['test']['labels'],test_preds))"
   ]
  }
 ],
 "metadata": {
  "kernelspec": {
   "display_name": "Python 3",
   "language": "python",
   "name": "python3"
  }
 },
 "nbformat": 4,
 "nbformat_minor": 2
}
