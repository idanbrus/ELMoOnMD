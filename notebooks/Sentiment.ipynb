{
 "cells": [
  {
   "cell_type": "code",
   "execution_count": 1,
   "metadata": {
    "ExecuteTime": {
     "end_time": "2019-08-20T18:20:09.905287Z",
     "start_time": "2019-08-20T18:20:08.459075Z"
    }
   },
   "outputs": [],
   "source": [
    "%load_ext autoreload\n",
    "%autoreload 2\n",
    "\n",
    "import sys, os\n",
    "sys.path.append('../')\n",
    "\n",
    "from typing import List,Dict\n",
    "from elmo_on_md.data_loaders.sentiment_loader import SentimentLoader\n",
    "from elmo_on_md.evaluation.sentiment_analysis import SentimentAnalysis\n",
    "from elmo_on_md.evaluation.model_loader import load_model\n",
    "\n",
    "from sklearn.model_selection import train_test_split\n",
    "from sklearn.metrics import confusion_matrix, classification_report\n",
    "\n",
    "import matplotlib.pyplot as plt\n",
    "%matplotlib inline"
   ]
  },
  {
   "cell_type": "code",
   "execution_count": 2,
   "metadata": {
    "ExecuteTime": {
     "end_time": "2019-08-20T18:20:11.075549Z",
     "start_time": "2019-08-20T18:20:09.906287Z"
    }
   },
   "outputs": [],
   "source": [
    "loader = SentimentLoader()\n",
    "sentiment_data = loader.load_data()\n",
    "\n",
    "sentences = sentiment_data['train']['sentences']\n",
    "labels = sentiment_data['train']['labels']\n",
    "\n",
    "tokens_train,tokens_test, labels_train,labels_test = train_test_split(sentences, labels, test_size=0.2, random_state=1)\n",
    "train_set = {'sentences':tokens_train,'labels':labels_train}\n",
    "validate_set = {'sentences':tokens_test,'labels':labels_test}"
   ]
  },
  {
   "cell_type": "code",
   "execution_count": 3,
   "metadata": {
    "ExecuteTime": {
     "end_time": "2019-08-20T18:22:17.900064Z",
     "start_time": "2019-08-20T18:20:11.076550Z"
    }
   },
   "outputs": [
    {
     "name": "stderr",
     "output_type": "stream",
     "text": [
      "2019-08-20 21:20:11,132 INFO: char embedding size: 2289\n",
      "2019-08-20 21:20:11,800 INFO: word embedding size: 189561\n",
      "2019-08-20 21:20:16,503 INFO: Model(\n",
      "  (token_embedder): ConvTokenEmbedder(\n",
      "    (word_emb_layer): EmbeddingLayer(\n",
      "      (embedding): Embedding(189561, 100, padding_idx=3)\n",
      "    )\n",
      "    (char_emb_layer): EmbeddingLayer(\n",
      "      (embedding): Embedding(2289, 50, padding_idx=2286)\n",
      "    )\n",
      "    (convolutions): ModuleList(\n",
      "      (0): Conv1d(50, 32, kernel_size=(1,), stride=(1,))\n",
      "      (1): Conv1d(50, 32, kernel_size=(2,), stride=(1,))\n",
      "      (2): Conv1d(50, 64, kernel_size=(3,), stride=(1,))\n",
      "      (3): Conv1d(50, 128, kernel_size=(4,), stride=(1,))\n",
      "      (4): Conv1d(50, 256, kernel_size=(5,), stride=(1,))\n",
      "      (5): Conv1d(50, 512, kernel_size=(6,), stride=(1,))\n",
      "      (6): Conv1d(50, 1024, kernel_size=(7,), stride=(1,))\n",
      "    )\n",
      "    (highways): Highway(\n",
      "      (_layers): ModuleList(\n",
      "        (0): Linear(in_features=2048, out_features=4096, bias=True)\n",
      "        (1): Linear(in_features=2048, out_features=4096, bias=True)\n",
      "      )\n",
      "    )\n",
      "    (projection): Linear(in_features=2148, out_features=512, bias=True)\n",
      "  )\n",
      "  (encoder): ElmobiLm(\n",
      "    (forward_layer_0): LstmCellWithProjection(\n",
      "      (input_linearity): Linear(in_features=512, out_features=16384, bias=False)\n",
      "      (state_linearity): Linear(in_features=512, out_features=16384, bias=True)\n",
      "      (state_projection): Linear(in_features=4096, out_features=512, bias=False)\n",
      "    )\n",
      "    (backward_layer_0): LstmCellWithProjection(\n",
      "      (input_linearity): Linear(in_features=512, out_features=16384, bias=False)\n",
      "      (state_linearity): Linear(in_features=512, out_features=16384, bias=True)\n",
      "      (state_projection): Linear(in_features=4096, out_features=512, bias=False)\n",
      "    )\n",
      "    (forward_layer_1): LstmCellWithProjection(\n",
      "      (input_linearity): Linear(in_features=512, out_features=16384, bias=False)\n",
      "      (state_linearity): Linear(in_features=512, out_features=16384, bias=True)\n",
      "      (state_projection): Linear(in_features=4096, out_features=512, bias=False)\n",
      "    )\n",
      "    (backward_layer_1): LstmCellWithProjection(\n",
      "      (input_linearity): Linear(in_features=512, out_features=16384, bias=False)\n",
      "      (state_linearity): Linear(in_features=512, out_features=16384, bias=True)\n",
      "      (state_projection): Linear(in_features=4096, out_features=512, bias=False)\n",
      "    )\n",
      "  )\n",
      ")\n",
      "2019-08-20 21:20:37,096 INFO: 257 batches, avg len: 22.4\n",
      "2019-08-20 21:20:41,717 INFO: Finished 1000 sentences.\n",
      "2019-08-20 21:20:46,330 INFO: Finished 2000 sentences.\n",
      "2019-08-20 21:20:50,873 INFO: Finished 3000 sentences.\n",
      "2019-08-20 21:20:57,531 INFO: Finished 4000 sentences.\n",
      "2019-08-20 21:21:01,914 INFO: Finished 5000 sentences.\n",
      "2019-08-20 21:21:06,141 INFO: Finished 6000 sentences.\n",
      "2019-08-20 21:21:11,130 INFO: Finished 7000 sentences.\n",
      "2019-08-20 21:21:16,616 INFO: Finished 8000 sentences.\n",
      "2019-08-20 21:21:22,705 INFO: 65 batches, avg len: 22.7\n",
      "2019-08-20 21:21:26,900 INFO: Finished 1000 sentences.\n",
      "2019-08-20 21:21:32,632 INFO: Finished 2000 sentences.\n"
     ]
    },
    {
     "name": "stdout",
     "output_type": "stream",
     "text": [
      "Epoch: 0\t Train Loss: 1.136554479598999\t Validation Loss: 1.1011409759521484\n"
     ]
    },
    {
     "name": "stderr",
     "output_type": "stream",
     "text": [
      "C:\\Users\\Brus\\Anaconda3\\envs\\elmo\\lib\\site-packages\\sklearn\\metrics\\classification.py:1437: UndefinedMetricWarning: Precision and F-score are ill-defined and being set to 0.0 in labels with no predicted samples.\n",
      "  'precision', 'predicted', average, warn_for)\n"
     ]
    },
    {
     "name": "stdout",
     "output_type": "stream",
     "text": [
      "Epoch: 1\t Train Loss: 1.0595306158065796\t Validation Loss: 1.111438274383545\n",
      "Epoch: 2\t Train Loss: 0.26941439509391785\t Validation Loss: 1.3273097276687622\n",
      "Epoch: 3\t Train Loss: 0.10214462876319885\t Validation Loss: 2.058777332305908\n",
      "Epoch: 4\t Train Loss: 0.08270316570997238\t Validation Loss: 2.651628017425537\n",
      "Epoch: 5\t Train Loss: 0.08819936215877533\t Validation Loss: 3.092129707336426\n",
      "Epoch: 6\t Train Loss: 0.11393529176712036\t Validation Loss: 3.095299482345581\n",
      "Epoch: 7\t Train Loss: 0.11191695183515549\t Validation Loss: 3.01635479927063\n",
      "Epoch: 8\t Train Loss: 0.11466176062822342\t Validation Loss: 3.7429888248443604\n",
      "Epoch: 9\t Train Loss: 0.11769984662532806\t Validation Loss: 3.951070785522461\n"
     ]
    },
    {
     "data": {
      "text/plain": [
       "<elmo_on_md.evaluation.sentiment_analysis.SentimentAnalysis at 0x1ad47413b70>"
      ]
     },
     "execution_count": 3,
     "metadata": {},
     "output_type": "execute_result"
    }
   ],
   "source": [
    "elmo = load_model('original', batch_size = 32)\n",
    "sentiment = SentimentAnalysis(elmo,lr=1e-4)\n",
    "\n",
    "sentiment.train(train_set,validate_set,n_epochs=10, batch_size = 64)"
   ]
  },
  {
   "cell_type": "markdown",
   "metadata": {},
   "source": [
    "#### results"
   ]
  },
  {
   "cell_type": "code",
   "execution_count": 5,
   "metadata": {
    "ExecuteTime": {
     "end_time": "2019-08-20T18:23:34.221410Z",
     "start_time": "2019-08-20T18:23:27.289846Z"
    }
   },
   "outputs": [
    {
     "name": "stderr",
     "output_type": "stream",
     "text": [
      "2019-08-20 21:23:33,343 INFO: 80 batches, avg len: 22.8\n"
     ]
    },
    {
     "ename": "RuntimeError",
     "evalue": "CUDA out of memory. Tried to allocate 2.00 MiB (GPU 0; 8.00 GiB total capacity; 3.80 GiB already allocated; 1.97 MiB free; 2.18 GiB cached)",
     "output_type": "error",
     "traceback": [
      "\u001b[1;31m---------------------------------------------------------------------------\u001b[0m",
      "\u001b[1;31mRuntimeError\u001b[0m                              Traceback (most recent call last)",
      "\u001b[1;32m<ipython-input-5-ba54444c3a2c>\u001b[0m in \u001b[0;36m<module>\u001b[1;34m\u001b[0m\n\u001b[0;32m      1\u001b[0m \u001b[1;31m# train_preds = sentiment.predict(sentiment_data['train'])\u001b[0m\u001b[1;33m\u001b[0m\u001b[1;33m\u001b[0m\u001b[1;33m\u001b[0m\u001b[0m\n\u001b[0;32m      2\u001b[0m \u001b[1;31m# print(confusion_matrix(sentiment_data['train']['labels'],train_preds))\u001b[0m\u001b[1;33m\u001b[0m\u001b[1;33m\u001b[0m\u001b[1;33m\u001b[0m\u001b[0m\n\u001b[1;32m----> 3\u001b[1;33m \u001b[0my_pred\u001b[0m \u001b[1;33m=\u001b[0m \u001b[0msentiment\u001b[0m\u001b[1;33m.\u001b[0m\u001b[0mpredict\u001b[0m\u001b[1;33m(\u001b[0m\u001b[0msentiment_data\u001b[0m\u001b[1;33m[\u001b[0m\u001b[1;34m'test'\u001b[0m\u001b[1;33m]\u001b[0m\u001b[1;33m)\u001b[0m\u001b[1;33m\u001b[0m\u001b[1;33m\u001b[0m\u001b[0m\n\u001b[0m\u001b[0;32m      4\u001b[0m \u001b[0my_true\u001b[0m \u001b[1;33m=\u001b[0m \u001b[0msentiment_data\u001b[0m\u001b[1;33m[\u001b[0m\u001b[1;34m'test'\u001b[0m\u001b[1;33m]\u001b[0m\u001b[1;33m[\u001b[0m\u001b[1;34m'labels'\u001b[0m\u001b[1;33m]\u001b[0m\u001b[1;33m\u001b[0m\u001b[1;33m\u001b[0m\u001b[0m\n\u001b[0;32m      5\u001b[0m \u001b[1;33m\u001b[0m\u001b[0m\n",
      "\u001b[1;32m~\\Documents\\repos\\ELMoOnMD\\elmo_on_md\\evaluation\\sentiment_analysis.py\u001b[0m in \u001b[0;36mpredict\u001b[1;34m(self, test_set)\u001b[0m\n\u001b[0;32m    120\u001b[0m \u001b[1;33m\u001b[0m\u001b[0m\n\u001b[0;32m    121\u001b[0m     \u001b[1;32mdef\u001b[0m \u001b[0mpredict\u001b[0m\u001b[1;33m(\u001b[0m\u001b[0mself\u001b[0m\u001b[1;33m,\u001b[0m \u001b[0mtest_set\u001b[0m\u001b[1;33m:\u001b[0m \u001b[0mDict\u001b[0m\u001b[1;33m)\u001b[0m\u001b[1;33m:\u001b[0m\u001b[1;33m\u001b[0m\u001b[1;33m\u001b[0m\u001b[0m\n\u001b[1;32m--> 122\u001b[1;33m         \u001b[0mX\u001b[0m \u001b[1;33m=\u001b[0m \u001b[0mself\u001b[0m\u001b[1;33m.\u001b[0m\u001b[0m_create_input\u001b[0m\u001b[1;33m(\u001b[0m\u001b[0mtest_set\u001b[0m\u001b[1;33m)\u001b[0m\u001b[1;33m\u001b[0m\u001b[1;33m\u001b[0m\u001b[0m\n\u001b[0m\u001b[0;32m    123\u001b[0m         \u001b[0my_pred\u001b[0m \u001b[1;33m=\u001b[0m \u001b[0mself\u001b[0m\u001b[1;33m.\u001b[0m\u001b[0mmodel\u001b[0m\u001b[1;33m(\u001b[0m\u001b[0mX\u001b[0m\u001b[1;33m.\u001b[0m\u001b[0mto\u001b[0m\u001b[1;33m(\u001b[0m\u001b[0mself\u001b[0m\u001b[1;33m.\u001b[0m\u001b[0mdevice\u001b[0m\u001b[1;33m)\u001b[0m\u001b[1;33m)\u001b[0m\u001b[1;33m\u001b[0m\u001b[1;33m\u001b[0m\u001b[0m\n\u001b[0;32m    124\u001b[0m         \u001b[1;32mreturn\u001b[0m \u001b[0mnp\u001b[0m\u001b[1;33m.\u001b[0m\u001b[0margmax\u001b[0m\u001b[1;33m(\u001b[0m\u001b[0my_pred\u001b[0m\u001b[1;33m.\u001b[0m\u001b[0mto\u001b[0m\u001b[1;33m(\u001b[0m\u001b[1;34m'cpu'\u001b[0m\u001b[1;33m)\u001b[0m\u001b[1;33m.\u001b[0m\u001b[0mdetach\u001b[0m\u001b[1;33m(\u001b[0m\u001b[1;33m)\u001b[0m\u001b[1;33m.\u001b[0m\u001b[0mnumpy\u001b[0m\u001b[1;33m(\u001b[0m\u001b[1;33m)\u001b[0m\u001b[1;33m,\u001b[0m \u001b[0maxis\u001b[0m\u001b[1;33m=\u001b[0m\u001b[1;36m1\u001b[0m\u001b[1;33m)\u001b[0m\u001b[1;33m\u001b[0m\u001b[1;33m\u001b[0m\u001b[0m\n",
      "\u001b[1;32m~\\Documents\\repos\\ELMoOnMD\\elmo_on_md\\evaluation\\sentiment_analysis.py\u001b[0m in \u001b[0;36m_create_input\u001b[1;34m(self, train_set)\u001b[0m\n\u001b[0;32m    127\u001b[0m         \u001b[0mtokens\u001b[0m \u001b[1;33m=\u001b[0m \u001b[0mtrain_set\u001b[0m\u001b[1;33m[\u001b[0m\u001b[1;34m'sentences'\u001b[0m\u001b[1;33m]\u001b[0m\u001b[1;33m\u001b[0m\u001b[1;33m\u001b[0m\u001b[0m\n\u001b[0;32m    128\u001b[0m         \u001b[1;31m# We set the first axis as the sentence length, so that the RNN can go over it\u001b[0m\u001b[1;33m\u001b[0m\u001b[1;33m\u001b[0m\u001b[1;33m\u001b[0m\u001b[0m\n\u001b[1;32m--> 129\u001b[1;33m         \u001b[0mX\u001b[0m \u001b[1;33m=\u001b[0m \u001b[0mself\u001b[0m\u001b[1;33m.\u001b[0m\u001b[0melmo\u001b[0m\u001b[1;33m.\u001b[0m\u001b[0msents2elmo\u001b[0m\u001b[1;33m(\u001b[0m\u001b[1;33m[\u001b[0m\u001b[0msentence\u001b[0m\u001b[1;33m[\u001b[0m\u001b[1;33m:\u001b[0m\u001b[0mself\u001b[0m\u001b[1;33m.\u001b[0m\u001b[0mmax_sentence_length\u001b[0m\u001b[1;33m]\u001b[0m \u001b[1;32mfor\u001b[0m \u001b[0msentence\u001b[0m \u001b[1;32min\u001b[0m \u001b[0mtokens\u001b[0m\u001b[1;33m]\u001b[0m\u001b[1;33m)\u001b[0m\u001b[1;33m\u001b[0m\u001b[1;33m\u001b[0m\u001b[0m\n\u001b[0m\u001b[0;32m    130\u001b[0m         \u001b[0minput\u001b[0m \u001b[1;33m=\u001b[0m \u001b[0mtorch\u001b[0m\u001b[1;33m.\u001b[0m\u001b[0mzeros\u001b[0m\u001b[1;33m(\u001b[0m\u001b[0mself\u001b[0m\u001b[1;33m.\u001b[0m\u001b[0mmax_sentence_length\u001b[0m\u001b[1;33m,\u001b[0m \u001b[0mlen\u001b[0m\u001b[1;33m(\u001b[0m\u001b[0mX\u001b[0m\u001b[1;33m)\u001b[0m\u001b[1;33m,\u001b[0m \u001b[0mX\u001b[0m\u001b[1;33m[\u001b[0m\u001b[1;36m0\u001b[0m\u001b[1;33m]\u001b[0m\u001b[1;33m.\u001b[0m\u001b[0mshape\u001b[0m\u001b[1;33m[\u001b[0m\u001b[1;36m1\u001b[0m\u001b[1;33m]\u001b[0m\u001b[1;33m)\u001b[0m\u001b[1;33m\u001b[0m\u001b[1;33m\u001b[0m\u001b[0m\n\u001b[0;32m    131\u001b[0m         \u001b[1;32mfor\u001b[0m \u001b[0mi\u001b[0m\u001b[1;33m,\u001b[0m \u001b[0msentence\u001b[0m \u001b[1;32min\u001b[0m \u001b[0menumerate\u001b[0m\u001b[1;33m(\u001b[0m\u001b[0mX\u001b[0m\u001b[1;33m)\u001b[0m\u001b[1;33m:\u001b[0m\u001b[1;33m\u001b[0m\u001b[1;33m\u001b[0m\u001b[0m\n",
      "\u001b[1;32m~\\Documents\\repos\\ELMoOnMD\\ELMoForManyLangs\\elmoformanylangs\\elmo.py\u001b[0m in \u001b[0;36msents2elmo\u001b[1;34m(self, sents, output_layer)\u001b[0m\n\u001b[0;32m    185\u001b[0m         \u001b[0mafter_elmo\u001b[0m \u001b[1;33m=\u001b[0m \u001b[1;33m[\u001b[0m\u001b[1;33m]\u001b[0m\u001b[1;33m\u001b[0m\u001b[1;33m\u001b[0m\u001b[0m\n\u001b[0;32m    186\u001b[0m         \u001b[1;32mfor\u001b[0m \u001b[0mw\u001b[0m\u001b[1;33m,\u001b[0m \u001b[0mc\u001b[0m\u001b[1;33m,\u001b[0m \u001b[0mlens\u001b[0m\u001b[1;33m,\u001b[0m \u001b[0mmasks\u001b[0m\u001b[1;33m,\u001b[0m \u001b[0mtexts\u001b[0m \u001b[1;32min\u001b[0m \u001b[0mzip\u001b[0m\u001b[1;33m(\u001b[0m\u001b[0mtest_w\u001b[0m\u001b[1;33m,\u001b[0m \u001b[0mtest_c\u001b[0m\u001b[1;33m,\u001b[0m \u001b[0mtest_lens\u001b[0m\u001b[1;33m,\u001b[0m \u001b[0mtest_masks\u001b[0m\u001b[1;33m,\u001b[0m \u001b[0mtest_text\u001b[0m\u001b[1;33m)\u001b[0m\u001b[1;33m:\u001b[0m\u001b[1;33m\u001b[0m\u001b[1;33m\u001b[0m\u001b[0m\n\u001b[1;32m--> 187\u001b[1;33m             \u001b[0moutput\u001b[0m \u001b[1;33m=\u001b[0m \u001b[0mself\u001b[0m\u001b[1;33m.\u001b[0m\u001b[0mmodel\u001b[0m\u001b[1;33m.\u001b[0m\u001b[0mforward\u001b[0m\u001b[1;33m(\u001b[0m\u001b[0mw\u001b[0m\u001b[1;33m,\u001b[0m \u001b[0mc\u001b[0m\u001b[1;33m,\u001b[0m \u001b[0mmasks\u001b[0m\u001b[1;33m)\u001b[0m\u001b[1;33m\u001b[0m\u001b[1;33m\u001b[0m\u001b[0m\n\u001b[0m\u001b[0;32m    188\u001b[0m             \u001b[1;32mfor\u001b[0m \u001b[0mi\u001b[0m\u001b[1;33m,\u001b[0m \u001b[0mtext\u001b[0m \u001b[1;32min\u001b[0m \u001b[0menumerate\u001b[0m\u001b[1;33m(\u001b[0m\u001b[0mtexts\u001b[0m\u001b[1;33m)\u001b[0m\u001b[1;33m:\u001b[0m\u001b[1;33m\u001b[0m\u001b[1;33m\u001b[0m\u001b[0m\n\u001b[0;32m    189\u001b[0m \u001b[1;33m\u001b[0m\u001b[0m\n",
      "\u001b[1;32m~\\Documents\\repos\\ELMoOnMD\\ELMoForManyLangs\\elmoformanylangs\\frontend.py\u001b[0m in \u001b[0;36mforward\u001b[1;34m(self, word_inp, chars_package, mask_package)\u001b[0m\n\u001b[0;32m    189\u001b[0m     \u001b[1;32mif\u001b[0m \u001b[0mself\u001b[0m\u001b[1;33m.\u001b[0m\u001b[0mconfig\u001b[0m\u001b[1;33m[\u001b[0m\u001b[1;34m'encoder'\u001b[0m\u001b[1;33m]\u001b[0m\u001b[1;33m[\u001b[0m\u001b[1;34m'name'\u001b[0m\u001b[1;33m]\u001b[0m \u001b[1;33m==\u001b[0m \u001b[1;34m'elmo'\u001b[0m\u001b[1;33m:\u001b[0m\u001b[1;33m\u001b[0m\u001b[1;33m\u001b[0m\u001b[0m\n\u001b[0;32m    190\u001b[0m       \u001b[0mmask\u001b[0m \u001b[1;33m=\u001b[0m \u001b[0mVariable\u001b[0m\u001b[1;33m(\u001b[0m\u001b[0mmask_package\u001b[0m\u001b[1;33m[\u001b[0m\u001b[1;36m0\u001b[0m\u001b[1;33m]\u001b[0m\u001b[1;33m)\u001b[0m\u001b[1;33m.\u001b[0m\u001b[0mcuda\u001b[0m\u001b[1;33m(\u001b[0m\u001b[1;33m)\u001b[0m \u001b[1;32mif\u001b[0m \u001b[0mself\u001b[0m\u001b[1;33m.\u001b[0m\u001b[0muse_cuda\u001b[0m \u001b[1;32melse\u001b[0m \u001b[0mVariable\u001b[0m\u001b[1;33m(\u001b[0m\u001b[0mmask_package\u001b[0m\u001b[1;33m[\u001b[0m\u001b[1;36m0\u001b[0m\u001b[1;33m]\u001b[0m\u001b[1;33m)\u001b[0m\u001b[1;33m\u001b[0m\u001b[1;33m\u001b[0m\u001b[0m\n\u001b[1;32m--> 191\u001b[1;33m       \u001b[0mencoder_output\u001b[0m \u001b[1;33m=\u001b[0m \u001b[0mself\u001b[0m\u001b[1;33m.\u001b[0m\u001b[0mencoder\u001b[0m\u001b[1;33m(\u001b[0m\u001b[0mtoken_embedding\u001b[0m\u001b[1;33m,\u001b[0m \u001b[0mmask\u001b[0m\u001b[1;33m)\u001b[0m\u001b[1;33m\u001b[0m\u001b[1;33m\u001b[0m\u001b[0m\n\u001b[0m\u001b[0;32m    192\u001b[0m       \u001b[0msz\u001b[0m \u001b[1;33m=\u001b[0m \u001b[0mencoder_output\u001b[0m\u001b[1;33m.\u001b[0m\u001b[0msize\u001b[0m\u001b[1;33m(\u001b[0m\u001b[1;33m)\u001b[0m\u001b[1;33m\u001b[0m\u001b[1;33m\u001b[0m\u001b[0m\n\u001b[0;32m    193\u001b[0m       token_embedding = torch.cat(\n",
      "\u001b[1;32m~\\Anaconda3\\envs\\elmo\\lib\\site-packages\\torch\\nn\\modules\\module.py\u001b[0m in \u001b[0;36m__call__\u001b[1;34m(self, *input, **kwargs)\u001b[0m\n\u001b[0;32m    491\u001b[0m             \u001b[0mresult\u001b[0m \u001b[1;33m=\u001b[0m \u001b[0mself\u001b[0m\u001b[1;33m.\u001b[0m\u001b[0m_slow_forward\u001b[0m\u001b[1;33m(\u001b[0m\u001b[1;33m*\u001b[0m\u001b[0minput\u001b[0m\u001b[1;33m,\u001b[0m \u001b[1;33m**\u001b[0m\u001b[0mkwargs\u001b[0m\u001b[1;33m)\u001b[0m\u001b[1;33m\u001b[0m\u001b[1;33m\u001b[0m\u001b[0m\n\u001b[0;32m    492\u001b[0m         \u001b[1;32melse\u001b[0m\u001b[1;33m:\u001b[0m\u001b[1;33m\u001b[0m\u001b[1;33m\u001b[0m\u001b[0m\n\u001b[1;32m--> 493\u001b[1;33m             \u001b[0mresult\u001b[0m \u001b[1;33m=\u001b[0m \u001b[0mself\u001b[0m\u001b[1;33m.\u001b[0m\u001b[0mforward\u001b[0m\u001b[1;33m(\u001b[0m\u001b[1;33m*\u001b[0m\u001b[0minput\u001b[0m\u001b[1;33m,\u001b[0m \u001b[1;33m**\u001b[0m\u001b[0mkwargs\u001b[0m\u001b[1;33m)\u001b[0m\u001b[1;33m\u001b[0m\u001b[1;33m\u001b[0m\u001b[0m\n\u001b[0m\u001b[0;32m    494\u001b[0m         \u001b[1;32mfor\u001b[0m \u001b[0mhook\u001b[0m \u001b[1;32min\u001b[0m \u001b[0mself\u001b[0m\u001b[1;33m.\u001b[0m\u001b[0m_forward_hooks\u001b[0m\u001b[1;33m.\u001b[0m\u001b[0mvalues\u001b[0m\u001b[1;33m(\u001b[0m\u001b[1;33m)\u001b[0m\u001b[1;33m:\u001b[0m\u001b[1;33m\u001b[0m\u001b[1;33m\u001b[0m\u001b[0m\n\u001b[0;32m    495\u001b[0m             \u001b[0mhook_result\u001b[0m \u001b[1;33m=\u001b[0m \u001b[0mhook\u001b[0m\u001b[1;33m(\u001b[0m\u001b[0mself\u001b[0m\u001b[1;33m,\u001b[0m \u001b[0minput\u001b[0m\u001b[1;33m,\u001b[0m \u001b[0mresult\u001b[0m\u001b[1;33m)\u001b[0m\u001b[1;33m\u001b[0m\u001b[1;33m\u001b[0m\u001b[0m\n",
      "\u001b[1;32m~\\Documents\\repos\\ELMoOnMD\\ELMoForManyLangs\\elmoformanylangs\\modules\\elmo.py\u001b[0m in \u001b[0;36mforward\u001b[1;34m(self, inputs, mask)\u001b[0m\n\u001b[0;32m     66\u001b[0m     \u001b[0mbatch_size\u001b[0m\u001b[1;33m,\u001b[0m \u001b[0mtotal_sequence_length\u001b[0m \u001b[1;33m=\u001b[0m \u001b[0mmask\u001b[0m\u001b[1;33m.\u001b[0m\u001b[0msize\u001b[0m\u001b[1;33m(\u001b[0m\u001b[1;33m)\u001b[0m\u001b[1;33m\u001b[0m\u001b[1;33m\u001b[0m\u001b[0m\n\u001b[0;32m     67\u001b[0m     \u001b[0mstacked_sequence_output\u001b[0m\u001b[1;33m,\u001b[0m \u001b[0mfinal_states\u001b[0m\u001b[1;33m,\u001b[0m \u001b[0mrestoration_indices\u001b[0m \u001b[1;33m=\u001b[0m\u001b[0;31m \u001b[0m\u001b[0;31m\\\u001b[0m\u001b[1;33m\u001b[0m\u001b[1;33m\u001b[0m\u001b[0m\n\u001b[1;32m---> 68\u001b[1;33m       \u001b[0mself\u001b[0m\u001b[1;33m.\u001b[0m\u001b[0msort_and_run_forward\u001b[0m\u001b[1;33m(\u001b[0m\u001b[0mself\u001b[0m\u001b[1;33m.\u001b[0m\u001b[0m_lstm_forward\u001b[0m\u001b[1;33m,\u001b[0m \u001b[0minputs\u001b[0m\u001b[1;33m,\u001b[0m \u001b[0mmask\u001b[0m\u001b[1;33m)\u001b[0m\u001b[1;33m\u001b[0m\u001b[1;33m\u001b[0m\u001b[0m\n\u001b[0m\u001b[0;32m     69\u001b[0m \u001b[1;33m\u001b[0m\u001b[0m\n\u001b[0;32m     70\u001b[0m     \u001b[0mnum_layers\u001b[0m\u001b[1;33m,\u001b[0m \u001b[0mnum_valid\u001b[0m\u001b[1;33m,\u001b[0m \u001b[0mreturned_timesteps\u001b[0m\u001b[1;33m,\u001b[0m \u001b[0mencoder_dim\u001b[0m \u001b[1;33m=\u001b[0m \u001b[0mstacked_sequence_output\u001b[0m\u001b[1;33m.\u001b[0m\u001b[0msize\u001b[0m\u001b[1;33m(\u001b[0m\u001b[1;33m)\u001b[0m\u001b[1;33m\u001b[0m\u001b[1;33m\u001b[0m\u001b[0m\n",
      "\u001b[1;32m~\\Documents\\repos\\ELMoOnMD\\ELMoForManyLangs\\elmoformanylangs\\modules\\encoder_base.py\u001b[0m in \u001b[0;36msort_and_run_forward\u001b[1;34m(self, module, inputs, mask, hidden_state)\u001b[0m\n\u001b[0;32m    111\u001b[0m \u001b[1;33m\u001b[0m\u001b[0m\n\u001b[0;32m    112\u001b[0m         \u001b[1;31m# Actually call the module on the sorted PackedSequence.\u001b[0m\u001b[1;33m\u001b[0m\u001b[1;33m\u001b[0m\u001b[1;33m\u001b[0m\u001b[0m\n\u001b[1;32m--> 113\u001b[1;33m         \u001b[0mmodule_output\u001b[0m\u001b[1;33m,\u001b[0m \u001b[0mfinal_states\u001b[0m \u001b[1;33m=\u001b[0m \u001b[0mmodule\u001b[0m\u001b[1;33m(\u001b[0m\u001b[0mpacked_sequence_input\u001b[0m\u001b[1;33m,\u001b[0m \u001b[0minitial_states\u001b[0m\u001b[1;33m)\u001b[0m\u001b[1;33m\u001b[0m\u001b[1;33m\u001b[0m\u001b[0m\n\u001b[0m\u001b[0;32m    114\u001b[0m \u001b[1;33m\u001b[0m\u001b[0m\n\u001b[0;32m    115\u001b[0m         \u001b[1;32mreturn\u001b[0m \u001b[0mmodule_output\u001b[0m\u001b[1;33m,\u001b[0m \u001b[0mfinal_states\u001b[0m\u001b[1;33m,\u001b[0m \u001b[0mrestoration_indices\u001b[0m\u001b[1;33m\u001b[0m\u001b[1;33m\u001b[0m\u001b[0m\n",
      "\u001b[1;32m~\\Documents\\repos\\ELMoOnMD\\ELMoForManyLangs\\elmoformanylangs\\modules\\elmo.py\u001b[0m in \u001b[0;36m_lstm_forward\u001b[1;34m(self, inputs, initial_state)\u001b[0m\n\u001b[0;32m    167\u001b[0m       backward_output_sequence, backward_state = backward_layer(backward_output_sequence,\n\u001b[0;32m    168\u001b[0m                                                                 \u001b[0mbatch_lengths\u001b[0m\u001b[1;33m,\u001b[0m\u001b[1;33m\u001b[0m\u001b[1;33m\u001b[0m\u001b[0m\n\u001b[1;32m--> 169\u001b[1;33m                                                                 backward_state)\n\u001b[0m\u001b[0;32m    170\u001b[0m       \u001b[1;31m# Skip connections, just adding the input to the output.\u001b[0m\u001b[1;33m\u001b[0m\u001b[1;33m\u001b[0m\u001b[1;33m\u001b[0m\u001b[0m\n\u001b[0;32m    171\u001b[0m       \u001b[1;32mif\u001b[0m \u001b[0mlayer_index\u001b[0m \u001b[1;33m!=\u001b[0m \u001b[1;36m0\u001b[0m\u001b[1;33m:\u001b[0m\u001b[1;33m\u001b[0m\u001b[1;33m\u001b[0m\u001b[0m\n",
      "\u001b[1;32m~\\Anaconda3\\envs\\elmo\\lib\\site-packages\\torch\\nn\\modules\\module.py\u001b[0m in \u001b[0;36m__call__\u001b[1;34m(self, *input, **kwargs)\u001b[0m\n\u001b[0;32m    491\u001b[0m             \u001b[0mresult\u001b[0m \u001b[1;33m=\u001b[0m \u001b[0mself\u001b[0m\u001b[1;33m.\u001b[0m\u001b[0m_slow_forward\u001b[0m\u001b[1;33m(\u001b[0m\u001b[1;33m*\u001b[0m\u001b[0minput\u001b[0m\u001b[1;33m,\u001b[0m \u001b[1;33m**\u001b[0m\u001b[0mkwargs\u001b[0m\u001b[1;33m)\u001b[0m\u001b[1;33m\u001b[0m\u001b[1;33m\u001b[0m\u001b[0m\n\u001b[0;32m    492\u001b[0m         \u001b[1;32melse\u001b[0m\u001b[1;33m:\u001b[0m\u001b[1;33m\u001b[0m\u001b[1;33m\u001b[0m\u001b[0m\n\u001b[1;32m--> 493\u001b[1;33m             \u001b[0mresult\u001b[0m \u001b[1;33m=\u001b[0m \u001b[0mself\u001b[0m\u001b[1;33m.\u001b[0m\u001b[0mforward\u001b[0m\u001b[1;33m(\u001b[0m\u001b[1;33m*\u001b[0m\u001b[0minput\u001b[0m\u001b[1;33m,\u001b[0m \u001b[1;33m**\u001b[0m\u001b[0mkwargs\u001b[0m\u001b[1;33m)\u001b[0m\u001b[1;33m\u001b[0m\u001b[1;33m\u001b[0m\u001b[0m\n\u001b[0m\u001b[0;32m    494\u001b[0m         \u001b[1;32mfor\u001b[0m \u001b[0mhook\u001b[0m \u001b[1;32min\u001b[0m \u001b[0mself\u001b[0m\u001b[1;33m.\u001b[0m\u001b[0m_forward_hooks\u001b[0m\u001b[1;33m.\u001b[0m\u001b[0mvalues\u001b[0m\u001b[1;33m(\u001b[0m\u001b[1;33m)\u001b[0m\u001b[1;33m:\u001b[0m\u001b[1;33m\u001b[0m\u001b[1;33m\u001b[0m\u001b[0m\n\u001b[0;32m    495\u001b[0m             \u001b[0mhook_result\u001b[0m \u001b[1;33m=\u001b[0m \u001b[0mhook\u001b[0m\u001b[1;33m(\u001b[0m\u001b[0mself\u001b[0m\u001b[1;33m,\u001b[0m \u001b[0minput\u001b[0m\u001b[1;33m,\u001b[0m \u001b[0mresult\u001b[0m\u001b[1;33m)\u001b[0m\u001b[1;33m\u001b[0m\u001b[1;33m\u001b[0m\u001b[0m\n",
      "\u001b[1;32m~\\Documents\\repos\\ELMoOnMD\\ELMoForManyLangs\\elmoformanylangs\\modules\\lstm_cell_with_projection.py\u001b[0m in \u001b[0;36mforward\u001b[1;34m(self, inputs, batch_lengths, initial_state)\u001b[0m\n\u001b[0;32m    182\u001b[0m             \u001b[1;31m# projections of the hidden state and inputs.\u001b[0m\u001b[1;33m\u001b[0m\u001b[1;33m\u001b[0m\u001b[1;33m\u001b[0m\u001b[0m\n\u001b[0;32m    183\u001b[0m             input_gate = torch.sigmoid(projected_input[:, (0 * self.cell_size):(1 * self.cell_size)] +\n\u001b[1;32m--> 184\u001b[1;33m                                        projected_state[:, (0 * self.cell_size):(1 * self.cell_size)])\n\u001b[0m\u001b[0;32m    185\u001b[0m             forget_gate = torch.sigmoid(projected_input[:, (1 * self.cell_size):(2 * self.cell_size)] +\n\u001b[0;32m    186\u001b[0m                                         projected_state[:, (1 * self.cell_size):(2 * self.cell_size)])\n",
      "\u001b[1;31mRuntimeError\u001b[0m: CUDA out of memory. Tried to allocate 2.00 MiB (GPU 0; 8.00 GiB total capacity; 3.80 GiB already allocated; 1.97 MiB free; 2.18 GiB cached)"
     ]
    }
   ],
   "source": [
    "# train_preds = sentiment.predict(sentiment_data['train'])\n",
    "# print(confusion_matrix(sentiment_data['train']['labels'],train_preds))\n",
    "y_pred = sentiment.predict(sentiment_data['test'])\n",
    "y_true = sentiment_data['test']['labels']\n",
    "\n",
    "print(confusion_matrix(y_true,y_pred))\n",
    "print(classification_report(y_true, y_pred, target_names=['positive','negative','neutral']))"
   ]
  },
  {
   "cell_type": "markdown",
   "metadata": {},
   "source": [
    "# Our Model"
   ]
  },
  {
   "cell_type": "code",
   "execution_count": 5,
   "metadata": {},
   "outputs": [
    {
     "name": "stderr",
     "output_type": "stream",
     "text": [
      "2019-08-18 20:49:40,338 INFO: 129 batches, avg len: 16.9\n",
      "2019-08-18 20:49:42,451 INFO: Finished 1000 sentences.\n",
      "2019-08-18 20:49:44,790 INFO: Finished 2000 sentences.\n",
      "2019-08-18 20:49:46,905 INFO: Finished 3000 sentences.\n",
      "2019-08-18 20:49:49,709 INFO: Finished 4000 sentences.\n",
      "2019-08-18 20:49:52,556 INFO: Finished 5000 sentences.\n",
      "2019-08-18 20:49:55,223 INFO: Finished 6000 sentences.\n",
      "2019-08-18 20:49:57,137 INFO: Finished 7000 sentences.\n",
      "2019-08-18 20:49:58,926 INFO: Finished 8000 sentences.\n",
      "2019-08-18 20:50:03,671 INFO: 33 batches, avg len: 17.2\n",
      "2019-08-18 20:50:06,312 INFO: Finished 1000 sentences.\n",
      "2019-08-18 20:50:08,802 INFO: Finished 2000 sentences.\n"
     ]
    },
    {
     "name": "stdout",
     "output_type": "stream",
     "text": [
      "Epoch: 0\t Train Loss: 1.1369311809539795\t Validation Loss: 1.0659725666046143\n",
      "Epoch: 1\t Train Loss: 1.2584692239761353\t Validation Loss: 1.0501151084899902\n",
      "Epoch: 2\t Train Loss: 1.3318028450012207\t Validation Loss: 1.0098891258239746\n",
      "Epoch: 3\t Train Loss: 1.3556928634643555\t Validation Loss: 1.0070713758468628\n",
      "Epoch: 4\t Train Loss: 1.3890658617019653\t Validation Loss: 1.0128661394119263\n",
      "Epoch: 5\t Train Loss: 1.383247971534729\t Validation Loss: 0.9947163462638855\n",
      "Epoch: 6\t Train Loss: 0.9775118231773376\t Validation Loss: 1.0206685066223145\n",
      "Epoch: 7\t Train Loss: 0.8406320214271545\t Validation Loss: 1.0809253454208374\n",
      "Epoch: 8\t Train Loss: 1.1051946878433228\t Validation Loss: 1.0401324033737183\n",
      "Epoch: 9\t Train Loss: 1.1153709888458252\t Validation Loss: 1.0313242673873901\n",
      "Epoch: 10\t Train Loss: 1.0209996700286865\t Validation Loss: 1.0206633806228638\n",
      "Epoch: 11\t Train Loss: 1.0014313459396362\t Validation Loss: 1.0267301797866821\n",
      "Epoch: 12\t Train Loss: 0.9209927320480347\t Validation Loss: 1.012982964515686\n",
      "Epoch: 13\t Train Loss: 1.4576947689056396\t Validation Loss: 1.0701727867126465\n",
      "Epoch: 14\t Train Loss: 1.4537431001663208\t Validation Loss: 1.0052483081817627\n",
      "Epoch: 15\t Train Loss: 1.2630537748336792\t Validation Loss: 1.0422240495681763\n",
      "Epoch: 16\t Train Loss: 1.0567296743392944\t Validation Loss: 1.0362305641174316\n",
      "Epoch: 17\t Train Loss: 1.1058235168457031\t Validation Loss: 1.0475842952728271\n",
      "Epoch: 18\t Train Loss: 0.5704912543296814\t Validation Loss: 0.9828016757965088\n",
      "Epoch: 19\t Train Loss: 1.4385069608688354\t Validation Loss: 1.0605425834655762\n",
      "Epoch: 20\t Train Loss: 1.2497962713241577\t Validation Loss: 1.0304938554763794\n",
      "Epoch: 21\t Train Loss: 1.407697081565857\t Validation Loss: 0.9871248602867126\n",
      "Epoch: 22\t Train Loss: 1.3139742612838745\t Validation Loss: 0.9940193891525269\n",
      "Epoch: 23\t Train Loss: 1.4875788688659668\t Validation Loss: 1.0792804956436157\n",
      "Epoch: 24\t Train Loss: 1.4886441230773926\t Validation Loss: 1.0631588697433472\n",
      "Epoch: 25\t Train Loss: 1.443463683128357\t Validation Loss: 1.0417407751083374\n",
      "Epoch: 26\t Train Loss: 1.073150634765625\t Validation Loss: 1.0369327068328857\n",
      "Epoch: 27\t Train Loss: 1.0331590175628662\t Validation Loss: 1.041158676147461\n",
      "Epoch: 28\t Train Loss: 0.9733003973960876\t Validation Loss: 1.039939522743225\n",
      "Epoch: 29\t Train Loss: 1.415472149848938\t Validation Loss: 1.0340391397476196\n",
      "Epoch: 30\t Train Loss: 1.4064747095108032\t Validation Loss: 1.0203688144683838\n",
      "Epoch: 31\t Train Loss: 1.351730465888977\t Validation Loss: 1.0415971279144287\n",
      "Epoch: 32\t Train Loss: 1.418223261833191\t Validation Loss: 1.0300754308700562\n",
      "Epoch: 33\t Train Loss: 1.3987809419631958\t Validation Loss: 1.0297685861587524\n",
      "Epoch: 34\t Train Loss: 1.4569997787475586\t Validation Loss: 1.161777138710022\n",
      "Epoch: 35\t Train Loss: 1.1895614862442017\t Validation Loss: 1.0348926782608032\n",
      "Epoch: 36\t Train Loss: 1.233091950416565\t Validation Loss: 1.0268690586090088\n",
      "Epoch: 37\t Train Loss: 1.1657731533050537\t Validation Loss: 1.0389224290847778\n",
      "Epoch: 38\t Train Loss: 1.2283823490142822\t Validation Loss: 1.0328987836837769\n",
      "Epoch: 39\t Train Loss: 1.403462290763855\t Validation Loss: 1.0541532039642334\n"
     ]
    },
    {
     "data": {
      "text/plain": [
       "<elmo_on_md.evaluation.sentiment_analysis.SentimentAnalysis at 0x2b4b23646a0>"
      ]
     },
     "execution_count": 5,
     "metadata": {},
     "output_type": "execute_result"
    }
   ],
   "source": [
    "elmo = load_model('BiLSTM_pos_weight_8', batch_size = 32)\n",
    "sentiment = SentimentAnalysis(elmo,lr=1e-4)\n",
    "\n",
    "sentiment.train(train_set,validate_set,n_epochs=10, batch_size = 64)"
   ]
  },
  {
   "cell_type": "code",
   "execution_count": 7,
   "metadata": {},
   "outputs": [
    {
     "name": "stderr",
     "output_type": "stream",
     "text": [
      "2019-08-18 20:51:48,338 INFO: 40 batches, avg len: 17.1\n",
      "2019-08-18 20:51:51,267 INFO: Finished 1000 sentences.\n",
      "2019-08-18 20:51:53,262 INFO: Finished 2000 sentences.\n"
     ]
    },
    {
     "name": "stdout",
     "output_type": "stream",
     "text": [
      "[[1408  278   12]\n",
      " [ 424  353   13]\n",
      " [  43   18   11]]\n",
      "              precision    recall  f1-score   support\n",
      "\n",
      "         bad       0.75      0.83      0.79      1698\n",
      "     neutral       0.54      0.45      0.49       790\n",
      "        good       0.31      0.15      0.20        72\n",
      "\n",
      "    accuracy                           0.69      2560\n",
      "   macro avg       0.53      0.48      0.49      2560\n",
      "weighted avg       0.67      0.69      0.68      2560\n",
      "\n"
     ]
    }
   ],
   "source": [
    "y_pred = sentiment.predict(sentiment_data['test'])\n",
    "y_true = sentiment_data['test']['labels']\n",
    "\n",
    "print(confusion_matrix(y_true, y_pred))\n",
    "print(classification_report(y_true, y_pred, target_names=['bad','neutral','good']))"
   ]
  }
 ],
 "metadata": {
  "kernelspec": {
   "display_name": "Python 3",
   "language": "python",
   "name": "python3"
  },
  "language_info": {
   "codemirror_mode": {
    "name": "ipython",
    "version": 3
   },
   "file_extension": ".py",
   "mimetype": "text/x-python",
   "name": "python",
   "nbconvert_exporter": "python",
   "pygments_lexer": "ipython3",
   "version": "3.6.8"
  }
 },
 "nbformat": 4,
 "nbformat_minor": 2
}
